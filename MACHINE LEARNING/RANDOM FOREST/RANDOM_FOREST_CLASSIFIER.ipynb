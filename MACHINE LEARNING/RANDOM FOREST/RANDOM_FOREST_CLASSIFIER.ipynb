{
  "nbformat": 4,
  "nbformat_minor": 0,
  "metadata": {
    "colab": {
      "provenance": []
    },
    "kernelspec": {
      "name": "python3",
      "display_name": "Python 3"
    },
    "language_info": {
      "name": "python"
    }
  },
  "cells": [
    {
      "cell_type": "code",
      "execution_count": 1,
      "metadata": {
        "id": "Wp2TJIXiJPED"
      },
      "outputs": [],
      "source": [
        "import pandas as pd\n",
        "from sklearn.datasets import load_digits\n",
        "digits = load_digits()"
      ]
    },
    {
      "cell_type": "code",
      "source": [
        "print(digits)"
      ],
      "metadata": {
        "colab": {
          "base_uri": "https://localhost:8080/"
        },
        "id": "x9CZkhntLMh7",
        "outputId": "bdefbe0d-825e-4f1f-da41-9116d96768d1"
      },
      "execution_count": 2,
      "outputs": [
        {
          "output_type": "stream",
          "name": "stdout",
          "text": [
            "{'data': array([[ 0.,  0.,  5., ...,  0.,  0.,  0.],\n",
            "       [ 0.,  0.,  0., ..., 10.,  0.,  0.],\n",
            "       [ 0.,  0.,  0., ..., 16.,  9.,  0.],\n",
            "       ...,\n",
            "       [ 0.,  0.,  1., ...,  6.,  0.,  0.],\n",
            "       [ 0.,  0.,  2., ..., 12.,  0.,  0.],\n",
            "       [ 0.,  0., 10., ..., 12.,  1.,  0.]]), 'target': array([0, 1, 2, ..., 8, 9, 8]), 'frame': None, 'feature_names': ['pixel_0_0', 'pixel_0_1', 'pixel_0_2', 'pixel_0_3', 'pixel_0_4', 'pixel_0_5', 'pixel_0_6', 'pixel_0_7', 'pixel_1_0', 'pixel_1_1', 'pixel_1_2', 'pixel_1_3', 'pixel_1_4', 'pixel_1_5', 'pixel_1_6', 'pixel_1_7', 'pixel_2_0', 'pixel_2_1', 'pixel_2_2', 'pixel_2_3', 'pixel_2_4', 'pixel_2_5', 'pixel_2_6', 'pixel_2_7', 'pixel_3_0', 'pixel_3_1', 'pixel_3_2', 'pixel_3_3', 'pixel_3_4', 'pixel_3_5', 'pixel_3_6', 'pixel_3_7', 'pixel_4_0', 'pixel_4_1', 'pixel_4_2', 'pixel_4_3', 'pixel_4_4', 'pixel_4_5', 'pixel_4_6', 'pixel_4_7', 'pixel_5_0', 'pixel_5_1', 'pixel_5_2', 'pixel_5_3', 'pixel_5_4', 'pixel_5_5', 'pixel_5_6', 'pixel_5_7', 'pixel_6_0', 'pixel_6_1', 'pixel_6_2', 'pixel_6_3', 'pixel_6_4', 'pixel_6_5', 'pixel_6_6', 'pixel_6_7', 'pixel_7_0', 'pixel_7_1', 'pixel_7_2', 'pixel_7_3', 'pixel_7_4', 'pixel_7_5', 'pixel_7_6', 'pixel_7_7'], 'target_names': array([0, 1, 2, 3, 4, 5, 6, 7, 8, 9]), 'images': array([[[ 0.,  0.,  5., ...,  1.,  0.,  0.],\n",
            "        [ 0.,  0., 13., ..., 15.,  5.,  0.],\n",
            "        [ 0.,  3., 15., ..., 11.,  8.,  0.],\n",
            "        ...,\n",
            "        [ 0.,  4., 11., ..., 12.,  7.,  0.],\n",
            "        [ 0.,  2., 14., ..., 12.,  0.,  0.],\n",
            "        [ 0.,  0.,  6., ...,  0.,  0.,  0.]],\n",
            "\n",
            "       [[ 0.,  0.,  0., ...,  5.,  0.,  0.],\n",
            "        [ 0.,  0.,  0., ...,  9.,  0.,  0.],\n",
            "        [ 0.,  0.,  3., ...,  6.,  0.,  0.],\n",
            "        ...,\n",
            "        [ 0.,  0.,  1., ...,  6.,  0.,  0.],\n",
            "        [ 0.,  0.,  1., ...,  6.,  0.,  0.],\n",
            "        [ 0.,  0.,  0., ..., 10.,  0.,  0.]],\n",
            "\n",
            "       [[ 0.,  0.,  0., ..., 12.,  0.,  0.],\n",
            "        [ 0.,  0.,  3., ..., 14.,  0.,  0.],\n",
            "        [ 0.,  0.,  8., ..., 16.,  0.,  0.],\n",
            "        ...,\n",
            "        [ 0.,  9., 16., ...,  0.,  0.,  0.],\n",
            "        [ 0.,  3., 13., ..., 11.,  5.,  0.],\n",
            "        [ 0.,  0.,  0., ..., 16.,  9.,  0.]],\n",
            "\n",
            "       ...,\n",
            "\n",
            "       [[ 0.,  0.,  1., ...,  1.,  0.,  0.],\n",
            "        [ 0.,  0., 13., ...,  2.,  1.,  0.],\n",
            "        [ 0.,  0., 16., ..., 16.,  5.,  0.],\n",
            "        ...,\n",
            "        [ 0.,  0., 16., ..., 15.,  0.,  0.],\n",
            "        [ 0.,  0., 15., ..., 16.,  0.,  0.],\n",
            "        [ 0.,  0.,  2., ...,  6.,  0.,  0.]],\n",
            "\n",
            "       [[ 0.,  0.,  2., ...,  0.,  0.,  0.],\n",
            "        [ 0.,  0., 14., ..., 15.,  1.,  0.],\n",
            "        [ 0.,  4., 16., ..., 16.,  7.,  0.],\n",
            "        ...,\n",
            "        [ 0.,  0.,  0., ..., 16.,  2.,  0.],\n",
            "        [ 0.,  0.,  4., ..., 16.,  2.,  0.],\n",
            "        [ 0.,  0.,  5., ..., 12.,  0.,  0.]],\n",
            "\n",
            "       [[ 0.,  0., 10., ...,  1.,  0.,  0.],\n",
            "        [ 0.,  2., 16., ...,  1.,  0.,  0.],\n",
            "        [ 0.,  0., 15., ..., 15.,  0.,  0.],\n",
            "        ...,\n",
            "        [ 0.,  4., 16., ..., 16.,  6.,  0.],\n",
            "        [ 0.,  8., 16., ..., 16.,  8.,  0.],\n",
            "        [ 0.,  1.,  8., ..., 12.,  1.,  0.]]]), 'DESCR': \".. _digits_dataset:\\n\\nOptical recognition of handwritten digits dataset\\n--------------------------------------------------\\n\\n**Data Set Characteristics:**\\n\\n    :Number of Instances: 1797\\n    :Number of Attributes: 64\\n    :Attribute Information: 8x8 image of integer pixels in the range 0..16.\\n    :Missing Attribute Values: None\\n    :Creator: E. Alpaydin (alpaydin '@' boun.edu.tr)\\n    :Date: July; 1998\\n\\nThis is a copy of the test set of the UCI ML hand-written digits datasets\\nhttps://archive.ics.uci.edu/ml/datasets/Optical+Recognition+of+Handwritten+Digits\\n\\nThe data set contains images of hand-written digits: 10 classes where\\neach class refers to a digit.\\n\\nPreprocessing programs made available by NIST were used to extract\\nnormalized bitmaps of handwritten digits from a preprinted form. From a\\ntotal of 43 people, 30 contributed to the training set and different 13\\nto the test set. 32x32 bitmaps are divided into nonoverlapping blocks of\\n4x4 and the number of on pixels are counted in each block. This generates\\nan input matrix of 8x8 where each element is an integer in the range\\n0..16. This reduces dimensionality and gives invariance to small\\ndistortions.\\n\\nFor info on NIST preprocessing routines, see M. D. Garris, J. L. Blue, G.\\nT. Candela, D. L. Dimmick, J. Geist, P. J. Grother, S. A. Janet, and C.\\nL. Wilson, NIST Form-Based Handprint Recognition System, NISTIR 5469,\\n1994.\\n\\n.. topic:: References\\n\\n  - C. Kaynak (1995) Methods of Combining Multiple Classifiers and Their\\n    Applications to Handwritten Digit Recognition, MSc Thesis, Institute of\\n    Graduate Studies in Science and Engineering, Bogazici University.\\n  - E. Alpaydin, C. Kaynak (1998) Cascading Classifiers, Kybernetika.\\n  - Ken Tang and Ponnuthurai N. Suganthan and Xi Yao and A. Kai Qin.\\n    Linear dimensionalityreduction using relevance weighted LDA. School of\\n    Electrical and Electronic Engineering Nanyang Technological University.\\n    2005.\\n  - Claudio Gentile. A New Approximate Maximal Margin Classification\\n    Algorithm. NIPS. 2000.\\n\"}\n"
          ]
        }
      ]
    },
    {
      "cell_type": "code",
      "source": [
        "import matplotlib.pyplot as plt\n",
        "%matplotlib inline\n",
        "import seaborn as sns"
      ],
      "metadata": {
        "id": "gaQ-Q7rTLS08"
      },
      "execution_count": 3,
      "outputs": []
    },
    {
      "cell_type": "code",
      "source": [
        "dir(digits)"
      ],
      "metadata": {
        "colab": {
          "base_uri": "https://localhost:8080/"
        },
        "id": "zWQmCHGULYRW",
        "outputId": "b11abcd7-479a-45e9-dfe1-e5ac672863a5"
      },
      "execution_count": 4,
      "outputs": [
        {
          "output_type": "execute_result",
          "data": {
            "text/plain": [
              "['DESCR', 'data', 'feature_names', 'frame', 'images', 'target', 'target_names']"
            ]
          },
          "metadata": {},
          "execution_count": 4
        }
      ]
    },
    {
      "cell_type": "code",
      "source": [
        "plt.gray()\n",
        "for i in range(4):\n",
        "  plt.matshow(digits.images[i])"
      ],
      "metadata": {
        "colab": {
          "base_uri": "https://localhost:8080/",
          "height": 1000
        },
        "id": "2cDKHtc9LdgO",
        "outputId": "55bef316-9eff-498a-c0f3-4cc612650ebf"
      },
      "execution_count": 5,
      "outputs": [
        {
          "output_type": "display_data",
          "data": {
            "text/plain": [
              "<Figure size 640x480 with 0 Axes>"
            ]
          },
          "metadata": {}
        },
        {
          "output_type": "display_data",
          "data": {
            "text/plain": [
              "<Figure size 480x480 with 1 Axes>"
            ],
            "image/png": "[encoded data removed]"
          },
          "metadata": {}
        },
        {
          "output_type": "display_data",
          "data": {
            "text/plain": [
              "<Figure size 480x480 with 1 Axes>"
            ],
            "image/png": "[encoded data removed]"
          },
          "metadata": {}
        },
        {
          "output_type": "display_data",
          "data": {
            "text/plain": [
              "<Figure size 480x480 with 1 Axes>"
            ],
            "image/png": "[encoded data removed]"
          },
          "metadata": {}
        },
        {
          "output_type": "display_data",
          "data": {
            "text/plain": [
              "<Figure size 480x480 with 1 Axes>"
            ],
            "image/png": "[encoded data removed]"
          },
          "metadata": {}
        }
      ]
    },
    {
      "cell_type": "code",
      "source": [
        "df = pd.DataFrame(digits.data)\n",
        "# print the dataframe\n",
        "print(df.head())"
      ],
      "metadata": {
        "colab": {
          "base_uri": "https://localhost:8080/"
        },
        "id": "zttoFpfwLo5W",
        "outputId": "07f325bf-b136-47c0-a71e-8817dbdcf44d"
      },
      "execution_count": 7,
      "outputs": [
        {
          "output_type": "stream",
          "name": "stdout",
          "text": [
            "    0    1    2     3     4     5    6    7    8    9   ...   54   55   56  \\\n",
            "0  0.0  0.0  5.0  13.0   9.0   1.0  0.0  0.0  0.0  0.0  ...  0.0  0.0  0.0   \n",
            "1  0.0  0.0  0.0  12.0  13.0   5.0  0.0  0.0  0.0  0.0  ...  0.0  0.0  0.0   \n",
            "2  0.0  0.0  0.0   4.0  15.0  12.0  0.0  0.0  0.0  0.0  ...  5.0  0.0  0.0   \n",
            "3  0.0  0.0  7.0  15.0  13.0   1.0  0.0  0.0  0.0  8.0  ...  9.0  0.0  0.0   \n",
            "4  0.0  0.0  0.0   1.0  11.0   0.0  0.0  0.0  0.0  0.0  ...  0.0  0.0  0.0   \n",
            "\n",
            "    57   58    59    60    61   62   63  \n",
            "0  0.0  6.0  13.0  10.0   0.0  0.0  0.0  \n",
            "1  0.0  0.0  11.0  16.0  10.0  0.0  0.0  \n",
            "2  0.0  0.0   3.0  11.0  16.0  9.0  0.0  \n",
            "3  0.0  7.0  13.0  13.0   9.0  0.0  0.0  \n",
            "4  0.0  0.0   2.0  16.0   4.0  0.0  0.0  \n",
            "\n",
            "[5 rows x 64 columns]\n"
          ]
        }
      ]
    },
    {
      "cell_type": "code",
      "source": [
        "print(df.tail())"
      ],
      "metadata": {
        "colab": {
          "base_uri": "https://localhost:8080/"
        },
        "id": "RXN8cUEaL7aA",
        "outputId": "aca62113-94ca-4888-f6bb-b7749d83ff21"
      },
      "execution_count": 8,
      "outputs": [
        {
          "output_type": "stream",
          "name": "stdout",
          "text": [
            "       0    1     2     3     4     5    6    7    8    9   ...   54   55  \\\n",
            "1792  0.0  0.0   4.0  10.0  13.0   6.0  0.0  0.0  0.0  1.0  ...  4.0  0.0   \n",
            "1793  0.0  0.0   6.0  16.0  13.0  11.0  1.0  0.0  0.0  0.0  ...  1.0  0.0   \n",
            "1794  0.0  0.0   1.0  11.0  15.0   1.0  0.0  0.0  0.0  0.0  ...  0.0  0.0   \n",
            "1795  0.0  0.0   2.0  10.0   7.0   0.0  0.0  0.0  0.0  0.0  ...  2.0  0.0   \n",
            "1796  0.0  0.0  10.0  14.0   8.0   1.0  0.0  0.0  0.0  2.0  ...  8.0  0.0   \n",
            "\n",
            "       56   57   58    59    60    61   62   63  \n",
            "1792  0.0  0.0  2.0  14.0  15.0   9.0  0.0  0.0  \n",
            "1793  0.0  0.0  6.0  16.0  14.0   6.0  0.0  0.0  \n",
            "1794  0.0  0.0  2.0   9.0  13.0   6.0  0.0  0.0  \n",
            "1795  0.0  0.0  5.0  12.0  16.0  12.0  0.0  0.0  \n",
            "1796  0.0  1.0  8.0  12.0  14.0  12.0  1.0  0.0  \n",
            "\n",
            "[5 rows x 64 columns]\n"
          ]
        }
      ]
    },
    {
      "cell_type": "code",
      "source": [
        "df['target'] = digits['target']"
      ],
      "metadata": {
        "id": "x2Aph5ToMAWl"
      },
      "execution_count": 11,
      "outputs": []
    },
    {
      "cell_type": "code",
      "source": [
        "print(df.head())"
      ],
      "metadata": {
        "colab": {
          "base_uri": "https://localhost:8080/"
        },
        "id": "r3URYDeEMLUt",
        "outputId": "236a45c0-0d47-4456-df07-75ed41eeb113"
      },
      "execution_count": 12,
      "outputs": [
        {
          "output_type": "stream",
          "name": "stdout",
          "text": [
            "     0    1    2     3     4     5    6    7    8    9  ...   55   56   57  \\\n",
            "0  0.0  0.0  5.0  13.0   9.0   1.0  0.0  0.0  0.0  0.0  ...  0.0  0.0  0.0   \n",
            "1  0.0  0.0  0.0  12.0  13.0   5.0  0.0  0.0  0.0  0.0  ...  0.0  0.0  0.0   \n",
            "2  0.0  0.0  0.0   4.0  15.0  12.0  0.0  0.0  0.0  0.0  ...  0.0  0.0  0.0   \n",
            "3  0.0  0.0  7.0  15.0  13.0   1.0  0.0  0.0  0.0  8.0  ...  0.0  0.0  0.0   \n",
            "4  0.0  0.0  0.0   1.0  11.0   0.0  0.0  0.0  0.0  0.0  ...  0.0  0.0  0.0   \n",
            "\n",
            "    58    59    60    61   62   63  target  \n",
            "0  6.0  13.0  10.0   0.0  0.0  0.0       0  \n",
            "1  0.0  11.0  16.0  10.0  0.0  0.0       1  \n",
            "2  0.0   3.0  11.0  16.0  9.0  0.0       2  \n",
            "3  7.0  13.0  13.0   9.0  0.0  0.0       3  \n",
            "4  0.0   2.0  16.0   4.0  0.0  0.0       4  \n",
            "\n",
            "[5 rows x 65 columns]\n"
          ]
        }
      ]
    },
    {
      "cell_type": "code",
      "source": [
        "# display the top five records of the dataset\n",
        "print(df.head())"
      ],
      "metadata": {
        "colab": {
          "base_uri": "https://localhost:8080/"
        },
        "id": "eHqC-VSOMRZd",
        "outputId": "f22c3f42-830d-41f8-c64f-d7e4e3e50c9e"
      },
      "execution_count": 13,
      "outputs": [
        {
          "output_type": "stream",
          "name": "stdout",
          "text": [
            "     0    1    2     3     4     5    6    7    8    9  ...   55   56   57  \\\n",
            "0  0.0  0.0  5.0  13.0   9.0   1.0  0.0  0.0  0.0  0.0  ...  0.0  0.0  0.0   \n",
            "1  0.0  0.0  0.0  12.0  13.0   5.0  0.0  0.0  0.0  0.0  ...  0.0  0.0  0.0   \n",
            "2  0.0  0.0  0.0   4.0  15.0  12.0  0.0  0.0  0.0  0.0  ...  0.0  0.0  0.0   \n",
            "3  0.0  0.0  7.0  15.0  13.0   1.0  0.0  0.0  0.0  8.0  ...  0.0  0.0  0.0   \n",
            "4  0.0  0.0  0.0   1.0  11.0   0.0  0.0  0.0  0.0  0.0  ...  0.0  0.0  0.0   \n",
            "\n",
            "    58    59    60    61   62   63  target  \n",
            "0  6.0  13.0  10.0   0.0  0.0  0.0       0  \n",
            "1  0.0  11.0  16.0  10.0  0.0  0.0       1  \n",
            "2  0.0   3.0  11.0  16.0  9.0  0.0       2  \n",
            "3  7.0  13.0  13.0   9.0  0.0  0.0       3  \n",
            "4  0.0   2.0  16.0   4.0  0.0  0.0       4  \n",
            "\n",
            "[5 rows x 65 columns]\n"
          ]
        }
      ]
    },
    {
      "cell_type": "code",
      "source": [
        "# display the last five records of the dataset\n",
        "print(df.tail())"
      ],
      "metadata": {
        "colab": {
          "base_uri": "https://localhost:8080/"
        },
        "id": "zD1lTzU9MXrE",
        "outputId": "af75c328-0b2f-4a0c-b99c-d3972db02c10"
      },
      "execution_count": 14,
      "outputs": [
        {
          "output_type": "stream",
          "name": "stdout",
          "text": [
            "        0    1     2     3     4     5    6    7    8    9  ...   55   56  \\\n",
            "1792  0.0  0.0   4.0  10.0  13.0   6.0  0.0  0.0  0.0  1.0  ...  0.0  0.0   \n",
            "1793  0.0  0.0   6.0  16.0  13.0  11.0  1.0  0.0  0.0  0.0  ...  0.0  0.0   \n",
            "1794  0.0  0.0   1.0  11.0  15.0   1.0  0.0  0.0  0.0  0.0  ...  0.0  0.0   \n",
            "1795  0.0  0.0   2.0  10.0   7.0   0.0  0.0  0.0  0.0  0.0  ...  0.0  0.0   \n",
            "1796  0.0  0.0  10.0  14.0   8.0   1.0  0.0  0.0  0.0  2.0  ...  0.0  0.0   \n",
            "\n",
            "       57   58    59    60    61   62   63  target  \n",
            "1792  0.0  2.0  14.0  15.0   9.0  0.0  0.0       9  \n",
            "1793  0.0  6.0  16.0  14.0   6.0  0.0  0.0       0  \n",
            "1794  0.0  2.0   9.0  13.0   6.0  0.0  0.0       8  \n",
            "1795  0.0  5.0  12.0  16.0  12.0  0.0  0.0       9  \n",
            "1796  1.0  8.0  12.0  14.0  12.0  1.0  0.0       8  \n",
            "\n",
            "[5 rows x 65 columns]\n"
          ]
        }
      ]
    },
    {
      "cell_type": "code",
      "source": [
        "# display the shape of the dataset\n",
        "print(df.shape)"
      ],
      "metadata": {
        "colab": {
          "base_uri": "https://localhost:8080/"
        },
        "id": "7fdm3hs7Md-q",
        "outputId": "d9db40cd-9da7-40be-f4b3-5fb4a58fd361"
      },
      "execution_count": 15,
      "outputs": [
        {
          "output_type": "stream",
          "name": "stdout",
          "text": [
            "(1797, 65)\n"
          ]
        }
      ]
    },
    {
      "cell_type": "code",
      "source": [
        "# depict all the descriptive information about all the columns in the dataset\n",
        "print(df.info())"
      ],
      "metadata": {
        "colab": {
          "base_uri": "https://localhost:8080/"
        },
        "id": "53ZaNvCZMiUN",
        "outputId": "f54b8980-c375-447e-b5bb-c2a0bfd6f1b9"
      },
      "execution_count": 16,
      "outputs": [
        {
          "output_type": "stream",
          "name": "stdout",
          "text": [
            "<class 'pandas.core.frame.DataFrame'>\n",
            "RangeIndex: 1797 entries, 0 to 1796\n",
            "Data columns (total 65 columns):\n",
            " #   Column  Non-Null Count  Dtype  \n",
            "---  ------  --------------  -----  \n",
            " 0   0       1797 non-null   float64\n",
            " 1   1       1797 non-null   float64\n",
            " 2   2       1797 non-null   float64\n",
            " 3   3       1797 non-null   float64\n",
            " 4   4       1797 non-null   float64\n",
            " 5   5       1797 non-null   float64\n",
            " 6   6       1797 non-null   float64\n",
            " 7   7       1797 non-null   float64\n",
            " 8   8       1797 non-null   float64\n",
            " 9   9       1797 non-null   float64\n",
            " 10  10      1797 non-null   float64\n",
            " 11  11      1797 non-null   float64\n",
            " 12  12      1797 non-null   float64\n",
            " 13  13      1797 non-null   float64\n",
            " 14  14      1797 non-null   float64\n",
            " 15  15      1797 non-null   float64\n",
            " 16  16      1797 non-null   float64\n",
            " 17  17      1797 non-null   float64\n",
            " 18  18      1797 non-null   float64\n",
            " 19  19      1797 non-null   float64\n",
            " 20  20      1797 non-null   float64\n",
            " 21  21      1797 non-null   float64\n",
            " 22  22      1797 non-null   float64\n",
            " 23  23      1797 non-null   float64\n",
            " 24  24      1797 non-null   float64\n",
            " 25  25      1797 non-null   float64\n",
            " 26  26      1797 non-null   float64\n",
            " 27  27      1797 non-null   float64\n",
            " 28  28      1797 non-null   float64\n",
            " 29  29      1797 non-null   float64\n",
            " 30  30      1797 non-null   float64\n",
            " 31  31      1797 non-null   float64\n",
            " 32  32      1797 non-null   float64\n",
            " 33  33      1797 non-null   float64\n",
            " 34  34      1797 non-null   float64\n",
            " 35  35      1797 non-null   float64\n",
            " 36  36      1797 non-null   float64\n",
            " 37  37      1797 non-null   float64\n",
            " 38  38      1797 non-null   float64\n",
            " 39  39      1797 non-null   float64\n",
            " 40  40      1797 non-null   float64\n",
            " 41  41      1797 non-null   float64\n",
            " 42  42      1797 non-null   float64\n",
            " 43  43      1797 non-null   float64\n",
            " 44  44      1797 non-null   float64\n",
            " 45  45      1797 non-null   float64\n",
            " 46  46      1797 non-null   float64\n",
            " 47  47      1797 non-null   float64\n",
            " 48  48      1797 non-null   float64\n",
            " 49  49      1797 non-null   float64\n",
            " 50  50      1797 non-null   float64\n",
            " 51  51      1797 non-null   float64\n",
            " 52  52      1797 non-null   float64\n",
            " 53  53      1797 non-null   float64\n",
            " 54  54      1797 non-null   float64\n",
            " 55  55      1797 non-null   float64\n",
            " 56  56      1797 non-null   float64\n",
            " 57  57      1797 non-null   float64\n",
            " 58  58      1797 non-null   float64\n",
            " 59  59      1797 non-null   float64\n",
            " 60  60      1797 non-null   float64\n",
            " 61  61      1797 non-null   float64\n",
            " 62  62      1797 non-null   float64\n",
            " 63  63      1797 non-null   float64\n",
            " 64  target  1797 non-null   int64  \n",
            "dtypes: float64(64), int64(1)\n",
            "memory usage: 912.7 KB\n",
            "None\n"
          ]
        }
      ]
    },
    {
      "cell_type": "code",
      "source": [
        "# depict all the statistical information about the dataset\n",
        "print(df.describe())"
      ],
      "metadata": {
        "colab": {
          "base_uri": "https://localhost:8080/"
        },
        "id": "I6Y_skyJMqIM",
        "outputId": "2117dc8a-d735-43f5-e3cb-648849ce9e58"
      },
      "execution_count": 17,
      "outputs": [
        {
          "output_type": "stream",
          "name": "stdout",
          "text": [
            "            0            1            2            3            4  \\\n",
            "count  1797.0  1797.000000  1797.000000  1797.000000  1797.000000   \n",
            "mean      0.0     0.303840     5.204786    11.835838    11.848080   \n",
            "std       0.0     0.907192     4.754826     4.248842     4.287388   \n",
            "min       0.0     0.000000     0.000000     0.000000     0.000000   \n",
            "25%       0.0     0.000000     1.000000    10.000000    10.000000   \n",
            "50%       0.0     0.000000     4.000000    13.000000    13.000000   \n",
            "75%       0.0     0.000000     9.000000    15.000000    15.000000   \n",
            "max       0.0     8.000000    16.000000    16.000000    16.000000   \n",
            "\n",
            "                 5            6            7            8            9  ...  \\\n",
            "count  1797.000000  1797.000000  1797.000000  1797.000000  1797.000000  ...   \n",
            "mean      5.781859     1.362270     0.129661     0.005565     1.993879  ...   \n",
            "std       5.666418     3.325775     1.037383     0.094222     3.196160  ...   \n",
            "min       0.000000     0.000000     0.000000     0.000000     0.000000  ...   \n",
            "25%       0.000000     0.000000     0.000000     0.000000     0.000000  ...   \n",
            "50%       4.000000     0.000000     0.000000     0.000000     0.000000  ...   \n",
            "75%      11.000000     0.000000     0.000000     0.000000     3.000000  ...   \n",
            "max      16.000000    16.000000    15.000000     2.000000    16.000000  ...   \n",
            "\n",
            "                55           56           57           58           59  \\\n",
            "count  1797.000000  1797.000000  1797.000000  1797.000000  1797.000000   \n",
            "mean      0.206455     0.000556     0.279354     5.557596    12.089037   \n",
            "std       0.984401     0.023590     0.934302     5.103019     4.374694   \n",
            "min       0.000000     0.000000     0.000000     0.000000     0.000000   \n",
            "25%       0.000000     0.000000     0.000000     1.000000    11.000000   \n",
            "50%       0.000000     0.000000     0.000000     4.000000    13.000000   \n",
            "75%       0.000000     0.000000     0.000000    10.000000    16.000000   \n",
            "max      13.000000     1.000000     9.000000    16.000000    16.000000   \n",
            "\n",
            "                60           61           62           63       target  \n",
            "count  1797.000000  1797.000000  1797.000000  1797.000000  1797.000000  \n",
            "mean     11.809126     6.764051     2.067891     0.364496     4.490818  \n",
            "std       4.933947     5.900623     4.090548     1.860122     2.865304  \n",
            "min       0.000000     0.000000     0.000000     0.000000     0.000000  \n",
            "25%      10.000000     0.000000     0.000000     0.000000     2.000000  \n",
            "50%      14.000000     6.000000     0.000000     0.000000     4.000000  \n",
            "75%      16.000000    12.000000     2.000000     0.000000     7.000000  \n",
            "max      16.000000    16.000000    16.000000    16.000000     9.000000  \n",
            "\n",
            "[8 rows x 65 columns]\n"
          ]
        }
      ]
    },
    {
      "cell_type": "code",
      "source": [
        "# divide the dataset into independent and dependent variables\n",
        "data_x = df.drop(columns = 'target')\n",
        "\n",
        "data_y = df['target']"
      ],
      "metadata": {
        "id": "uiOFURJ6M5rg"
      },
      "execution_count": 18,
      "outputs": []
    },
    {
      "cell_type": "code",
      "source": [
        "print(data_x)"
      ],
      "metadata": {
        "colab": {
          "base_uri": "https://localhost:8080/"
        },
        "id": "IypLlPvsNNXn",
        "outputId": "70ef6d0a-87df-42e9-f9ea-b90ef5b09bbe"
      },
      "execution_count": 19,
      "outputs": [
        {
          "output_type": "stream",
          "name": "stdout",
          "text": [
            "       0    1     2     3     4     5    6    7    8    9   ...   54   55  \\\n",
            "0     0.0  0.0   5.0  13.0   9.0   1.0  0.0  0.0  0.0  0.0  ...  0.0  0.0   \n",
            "1     0.0  0.0   0.0  12.0  13.0   5.0  0.0  0.0  0.0  0.0  ...  0.0  0.0   \n",
            "2     0.0  0.0   0.0   4.0  15.0  12.0  0.0  0.0  0.0  0.0  ...  5.0  0.0   \n",
            "3     0.0  0.0   7.0  15.0  13.0   1.0  0.0  0.0  0.0  8.0  ...  9.0  0.0   \n",
            "4     0.0  0.0   0.0   1.0  11.0   0.0  0.0  0.0  0.0  0.0  ...  0.0  0.0   \n",
            "...   ...  ...   ...   ...   ...   ...  ...  ...  ...  ...  ...  ...  ...   \n",
            "1792  0.0  0.0   4.0  10.0  13.0   6.0  0.0  0.0  0.0  1.0  ...  4.0  0.0   \n",
            "1793  0.0  0.0   6.0  16.0  13.0  11.0  1.0  0.0  0.0  0.0  ...  1.0  0.0   \n",
            "1794  0.0  0.0   1.0  11.0  15.0   1.0  0.0  0.0  0.0  0.0  ...  0.0  0.0   \n",
            "1795  0.0  0.0   2.0  10.0   7.0   0.0  0.0  0.0  0.0  0.0  ...  2.0  0.0   \n",
            "1796  0.0  0.0  10.0  14.0   8.0   1.0  0.0  0.0  0.0  2.0  ...  8.0  0.0   \n",
            "\n",
            "       56   57   58    59    60    61   62   63  \n",
            "0     0.0  0.0  6.0  13.0  10.0   0.0  0.0  0.0  \n",
            "1     0.0  0.0  0.0  11.0  16.0  10.0  0.0  0.0  \n",
            "2     0.0  0.0  0.0   3.0  11.0  16.0  9.0  0.0  \n",
            "3     0.0  0.0  7.0  13.0  13.0   9.0  0.0  0.0  \n",
            "4     0.0  0.0  0.0   2.0  16.0   4.0  0.0  0.0  \n",
            "...   ...  ...  ...   ...   ...   ...  ...  ...  \n",
            "1792  0.0  0.0  2.0  14.0  15.0   9.0  0.0  0.0  \n",
            "1793  0.0  0.0  6.0  16.0  14.0   6.0  0.0  0.0  \n",
            "1794  0.0  0.0  2.0   9.0  13.0   6.0  0.0  0.0  \n",
            "1795  0.0  0.0  5.0  12.0  16.0  12.0  0.0  0.0  \n",
            "1796  0.0  1.0  8.0  12.0  14.0  12.0  1.0  0.0  \n",
            "\n",
            "[1797 rows x 64 columns]\n"
          ]
        }
      ]
    },
    {
      "cell_type": "code",
      "source": [
        "print(data_y)"
      ],
      "metadata": {
        "colab": {
          "base_uri": "https://localhost:8080/"
        },
        "id": "OYBJJXXLNPIa",
        "outputId": "bf9a9e5d-62fd-4ac3-878c-b96536cca954"
      },
      "execution_count": 20,
      "outputs": [
        {
          "output_type": "stream",
          "name": "stdout",
          "text": [
            "0       0\n",
            "1       1\n",
            "2       2\n",
            "3       3\n",
            "4       4\n",
            "       ..\n",
            "1792    9\n",
            "1793    0\n",
            "1794    8\n",
            "1795    9\n",
            "1796    8\n",
            "Name: target, Length: 1797, dtype: int64\n"
          ]
        }
      ]
    },
    {
      "cell_type": "code",
      "source": [
        "# Divide the independent and dependent variables into training and testing data\n",
        "from sklearn.model_selection import train_test_split\n",
        "X_train, X_test, Y_train, Y_test = train_test_split(data_x, data_y, test_size = 0.2, random_state = 0)"
      ],
      "metadata": {
        "id": "9ddwAonQNVzX"
      },
      "execution_count": 21,
      "outputs": []
    },
    {
      "cell_type": "markdown",
      "source": [
        "**APPLY RANDOM FOREST CLASSIFIER ALGORITHM**"
      ],
      "metadata": {
        "id": "okoekzdsNr-X"
      }
    },
    {
      "cell_type": "code",
      "source": [
        "from sklearn.ensemble import RandomForestClassifier\n",
        "\n",
        "rc = RandomForestClassifier(n_estimators = 20)\n",
        "\n",
        "# train the model\n",
        "rc.fit(X_train, Y_train)"
      ],
      "metadata": {
        "colab": {
          "base_uri": "https://localhost:8080/",
          "height": 75
        },
        "id": "N9xoMfpWNqtG",
        "outputId": "b500a2d7-6197-4d7e-92f9-6026eab69d46"
      },
      "execution_count": 22,
      "outputs": [
        {
          "output_type": "execute_result",
          "data": {
            "text/plain": [
              "RandomForestClassifier(n_estimators=20)"
            ],
            "text/html": [
              "<style>#sk-container-id-1 {color: black;background-color: white;}#sk-container-id-1 pre{padding: 0;}#sk-container-id-1 div.sk-toggleable {background-color: white;}#sk-container-id-1 label.sk-toggleable__label {cursor: pointer;display: block;width: 100%;margin-bottom: 0;padding: 0.3em;box-sizing: border-box;text-align: center;}#sk-container-id-1 label.sk-toggleable__label-arrow:before {content: \"▸\";float: left;margin-right: 0.25em;color: #696969;}#sk-container-id-1 label.sk-toggleable__label-arrow:hover:before {color: black;}#sk-container-id-1 div.sk-estimator:hover label.sk-toggleable__label-arrow:before {color: black;}#sk-container-id-1 div.sk-toggleable__content {max-height: 0;max-width: 0;overflow: hidden;text-align: left;background-color: #f0f8ff;}#sk-container-id-1 div.sk-toggleable__content pre {margin: 0.2em;color: black;border-radius: 0.25em;background-color: #f0f8ff;}#sk-container-id-1 input.sk-toggleable__control:checked~div.sk-toggleable__content {max-height: 200px;max-width: 100%;overflow: auto;}#sk-container-id-1 input.sk-toggleable__control:checked~label.sk-toggleable__label-arrow:before {content: \"▾\";}#sk-container-id-1 div.sk-estimator input.sk-toggleable__control:checked~label.sk-toggleable__label {background-color: #d4ebff;}#sk-container-id-1 div.sk-label input.sk-toggleable__control:checked~label.sk-toggleable__label {background-color: #d4ebff;}#sk-container-id-1 input.sk-hidden--visually {border: 0;clip: rect(1px 1px 1px 1px);clip: rect(1px, 1px, 1px, 1px);height: 1px;margin: -1px;overflow: hidden;padding: 0;position: absolute;width: 1px;}#sk-container-id-1 div.sk-estimator {font-family: monospace;background-color: #f0f8ff;border: 1px dotted black;border-radius: 0.25em;box-sizing: border-box;margin-bottom: 0.5em;}#sk-container-id-1 div.sk-estimator:hover {background-color: #d4ebff;}#sk-container-id-1 div.sk-parallel-item::after {content: \"\";width: 100%;border-bottom: 1px solid gray;flex-grow: 1;}#sk-container-id-1 div.sk-label:hover label.sk-toggleable__label {background-color: #d4ebff;}#sk-container-id-1 div.sk-serial::before {content: \"\";position: absolute;border-left: 1px solid gray;box-sizing: border-box;top: 0;bottom: 0;left: 50%;z-index: 0;}#sk-container-id-1 div.sk-serial {display: flex;flex-direction: column;align-items: center;background-color: white;padding-right: 0.2em;padding-left: 0.2em;position: relative;}#sk-container-id-1 div.sk-item {position: relative;z-index: 1;}#sk-container-id-1 div.sk-parallel {display: flex;align-items: stretch;justify-content: center;background-color: white;position: relative;}#sk-container-id-1 div.sk-item::before, #sk-container-id-1 div.sk-parallel-item::before {content: \"\";position: absolute;border-left: 1px solid gray;box-sizing: border-box;top: 0;bottom: 0;left: 50%;z-index: -1;}#sk-container-id-1 div.sk-parallel-item {display: flex;flex-direction: column;z-index: 1;position: relative;background-color: white;}#sk-container-id-1 div.sk-parallel-item:first-child::after {align-self: flex-end;width: 50%;}#sk-container-id-1 div.sk-parallel-item:last-child::after {align-self: flex-start;width: 50%;}#sk-container-id-1 div.sk-parallel-item:only-child::after {width: 0;}#sk-container-id-1 div.sk-dashed-wrapped {border: 1px dashed gray;margin: 0 0.4em 0.5em 0.4em;box-sizing: border-box;padding-bottom: 0.4em;background-color: white;}#sk-container-id-1 div.sk-label label {font-family: monospace;font-weight: bold;display: inline-block;line-height: 1.2em;}#sk-container-id-1 div.sk-label-container {text-align: center;}#sk-container-id-1 div.sk-container {/* jupyter's `normalize.less` sets `[hidden] { display: none; }` but bootstrap.min.css set `[hidden] { display: none !important; }` so we also need the `!important` here to be able to override the default hidden behavior on the sphinx rendered scikit-learn.org. See: https://github.com/scikit-learn/scikit-learn/issues/21755 */display: inline-block !important;position: relative;}#sk-container-id-1 div.sk-text-repr-fallback {display: none;}</style><div id=\"sk-container-id-1\" class=\"sk-top-container\"><div class=\"sk-text-repr-fallback\"><pre>RandomForestClassifier(n_estimators=20)</pre><b>In a Jupyter environment, please rerun this cell to show the HTML representation or trust the notebook. <br />On GitHub, the HTML representation is unable to render, please try loading this page with nbviewer.org.</b></div><div class=\"sk-container\" hidden><div class=\"sk-item\"><div class=\"sk-estimator sk-toggleable\"><input class=\"sk-toggleable__control sk-hidden--visually\" id=\"sk-estimator-id-1\" type=\"checkbox\" checked><label for=\"sk-estimator-id-1\" class=\"sk-toggleable__label sk-toggleable__label-arrow\">RandomForestClassifier</label><div class=\"sk-toggleable__content\"><pre>RandomForestClassifier(n_estimators=20)</pre></div></div></div></div></div>"
            ]
          },
          "metadata": {},
          "execution_count": 22
        }
      ]
    },
    {
      "cell_type": "code",
      "source": [
        "# predict the model\n",
        "pred_y = rc.predict(X_test)"
      ],
      "metadata": {
        "id": "e0ZAHq7WOAnm"
      },
      "execution_count": 23,
      "outputs": []
    },
    {
      "cell_type": "code",
      "source": [
        "print(pred_y)"
      ],
      "metadata": {
        "colab": {
          "base_uri": "https://localhost:8080/"
        },
        "id": "LOvo0X4iOGzj",
        "outputId": "939b2496-b47c-4f9e-bcf9-9bc4596194ee"
      },
      "execution_count": 24,
      "outputs": [
        {
          "output_type": "stream",
          "name": "stdout",
          "text": [
            "[2 8 2 6 6 7 1 9 8 5 2 8 6 6 6 6 1 0 5 8 8 7 8 4 7 5 4 9 2 9 4 7 6 8 9 4 3\n",
            " 1 0 1 8 6 7 7 1 0 7 6 2 1 9 6 7 9 0 0 5 1 6 3 0 2 3 4 1 9 2 6 9 1 8 3 5 1\n",
            " 2 1 2 2 9 7 2 3 6 0 5 3 7 5 1 2 9 9 3 1 7 7 4 8 5 8 5 5 2 5 9 0 7 1 4 5 3\n",
            " 4 8 9 7 9 8 0 6 5 2 5 3 4 8 7 0 6 1 5 3 3 9 5 9 9 5 7 5 6 2 8 6 9 6 1 5 1\n",
            " 5 9 9 1 5 3 6 1 8 9 8 7 6 7 6 5 6 0 8 1 9 8 6 1 0 4 1 6 3 8 6 7 4 3 6 3 0\n",
            " 3 3 3 0 7 7 5 7 8 0 7 8 9 6 4 5 0 1 4 6 4 3 3 0 9 5 3 2 1 4 8 1 6 8 9 2 4\n",
            " 9 3 7 6 2 3 3 1 6 9 3 6 3 2 2 0 7 6 1 1 3 7 2 7 1 5 5 7 5 2 3 7 2 7 5 5 7\n",
            " 0 9 1 6 5 9 7 4 3 8 0 3 6 4 6 3 2 6 8 8 8 4 6 7 5 2 4 5 3 2 4 6 9 4 5 4 3\n",
            " 4 6 2 9 0 1 7 2 0 3 6 0 4 2 0 7 5 8 5 7 8 2 8 4 3 7 2 6 9 1 5 1 0 8 2 1 9\n",
            " 5 6 8 2 7 2 1 5 1 6 4 5 0 9 4 1 1 7 0 8 9 0 5 4 3 8 8]\n"
          ]
        }
      ]
    },
    {
      "cell_type": "markdown",
      "source": [
        "**ACCURACY OF THE MODEL**"
      ],
      "metadata": {
        "id": "IfTbjXuYOI2S"
      }
    },
    {
      "cell_type": "code",
      "source": [
        "from sklearn.metrics import accuracy_score\n",
        "\n",
        "score = accuracy_score(pred_y, Y_test)\n",
        "\n",
        "print(\"Accuracy of the model is:\", (score * 100.0))"
      ],
      "metadata": {
        "colab": {
          "base_uri": "https://localhost:8080/"
        },
        "id": "Xfp781C8OPoD",
        "outputId": "1964d090-eae3-4a97-fa0b-9c371005b045"
      },
      "execution_count": 25,
      "outputs": [
        {
          "output_type": "stream",
          "name": "stdout",
          "text": [
            "Accuracy of the model is: 95.83333333333334\n"
          ]
        }
      ]
    },
    {
      "cell_type": "code",
      "source": [
        "from sklearn.metrics import confusion_matrix\n",
        "\n",
        "cm = confusion_matrix(Y_test, pred_y)\n",
        "\n",
        "print(cm)"
      ],
      "metadata": {
        "colab": {
          "base_uri": "https://localhost:8080/"
        },
        "id": "kHPV3YnVOjqF",
        "outputId": "971e3818-37e6-4a47-ffa5-7fb361a2d041"
      },
      "execution_count": 26,
      "outputs": [
        {
          "output_type": "stream",
          "name": "stdout",
          "text": [
            "[[27  0  0  0  0  0  0  0  0  0]\n",
            " [ 0 35  0  0  0  0  0  0  0  0]\n",
            " [ 1  0 34  0  0  0  0  0  1  0]\n",
            " [ 0  0  0 29  0  0  0  0  0  0]\n",
            " [ 0  0  0  0 29  0  0  1  0  0]\n",
            " [ 0  0  0  1  0 39  0  0  0  0]\n",
            " [ 0  0  0  0  0  0 44  0  0  0]\n",
            " [ 0  0  0  0  0  1  0 38  0  0]\n",
            " [ 0  3  0  1  0  0  0  0 35  0]\n",
            " [ 0  0  0  5  0  1  0  0  0 35]]\n"
          ]
        }
      ]
    },
    {
      "cell_type": "code",
      "source": [
        "# depict the confusion matrix in the form of heat map\n",
        "\n",
        "%matplotlib inline\n",
        "import matplotlib.pyplot as plt\n",
        "import seaborn as sn\n",
        "plt.figure(figsize=(10,7))\n",
        "sn.heatmap(cm, annot=True)\n",
        "plt.xlabel('Predicted')\n",
        "plt.ylabel('Truth')"
      ],
      "metadata": {
        "colab": {
          "base_uri": "https://localhost:8080/",
          "height": 636
        },
        "id": "O9wLxln5OtBM",
        "outputId": "7123cd61-6e28-4980-f0d6-dff86305b668"
      },
      "execution_count": 27,
      "outputs": [
        {
          "output_type": "execute_result",
          "data": {
            "text/plain": [
              "Text(95.72222222222221, 0.5, 'Truth')"
            ]
          },
          "metadata": {},
          "execution_count": 27
        },
        {
          "output_type": "display_data",
          "data": {
            "text/plain": [
              "<Figure size 1000x700 with 2 Axes>"
            ],
            "image/png": "[encoded data removed]"
          },
          "metadata": {}
        }
      ]
    }
  ]
}