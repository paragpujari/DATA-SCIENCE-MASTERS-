{
  "nbformat": 4,
  "nbformat_minor": 0,
  "metadata": {
    "colab": {
      "provenance": []
    },
    "kernelspec": {
      "name": "python3",
      "display_name": "Python 3"
    },
    "language_info": {
      "name": "python"
    }
  },
  "cells": [
    {
      "cell_type": "code",
      "execution_count": 16,
      "metadata": {
        "id": "P0dAF19PcLyC"
      },
      "outputs": [],
      "source": [
        "import pandas as pd\n",
        "import numpy as np\n",
        "import matplotlib.pyplot as plt\n",
        "%matplotlib inline\n",
        "import seaborn as sns"
      ]
    },
    {
      "cell_type": "code",
      "source": [
        "# making the datasets\n",
        "from sklearn.datasets import make_regression\n",
        "\n",
        "X,y = make_regression(\n",
        "    n_samples = 1000,\n",
        "    n_features = 2,\n",
        "    noise  = 10,\n",
        "    random_state = 42\n",
        ")"
      ],
      "metadata": {
        "id": "qVoWQoKPcemh"
      },
      "execution_count": 17,
      "outputs": []
    },
    {
      "cell_type": "code",
      "source": [
        "# Divide the datasets into training and testing data\n",
        "from sklearn.model_selection import train_test_split\n",
        "X_train, X_test, Y_train, Y_test = train_test_split(X, y, test_size = 0.33, random_state = 42)"
      ],
      "metadata": {
        "id": "phx_tNZocew3"
      },
      "execution_count": 18,
      "outputs": []
    },
    {
      "cell_type": "markdown",
      "source": [
        "**APPLYING K-NEAREST REGRESSOR ALGORITHM**"
      ],
      "metadata": {
        "id": "3RNUDOGYc7Ou"
      }
    },
    {
      "cell_type": "code",
      "source": [
        "from sklearn.neighbors import KNeighborsRegressor\n",
        "\n",
        "krn = KNeighborsRegressor(n_neighbors = 5, algorithm ='auto',p = 2)\n",
        "\n",
        "krn.fit(X_train, Y_train)"
      ],
      "metadata": {
        "colab": {
          "base_uri": "https://localhost:8080/",
          "height": 75
        },
        "id": "J3CQ0IkPc4C8",
        "outputId": "4bed7677-4f8e-4180-c4d7-dab5b020a60a"
      },
      "execution_count": 19,
      "outputs": [
        {
          "output_type": "execute_result",
          "data": {
            "text/plain": [
              "KNeighborsRegressor()"
            ],
            "text/html": [
              "<style>#sk-container-id-2 {color: black;background-color: white;}#sk-container-id-2 pre{padding: 0;}#sk-container-id-2 div.sk-toggleable {background-color: white;}#sk-container-id-2 label.sk-toggleable__label {cursor: pointer;display: block;width: 100%;margin-bottom: 0;padding: 0.3em;box-sizing: border-box;text-align: center;}#sk-container-id-2 label.sk-toggleable__label-arrow:before {content: \"▸\";float: left;margin-right: 0.25em;color: #696969;}#sk-container-id-2 label.sk-toggleable__label-arrow:hover:before {color: black;}#sk-container-id-2 div.sk-estimator:hover label.sk-toggleable__label-arrow:before {color: black;}#sk-container-id-2 div.sk-toggleable__content {max-height: 0;max-width: 0;overflow: hidden;text-align: left;background-color: #f0f8ff;}#sk-container-id-2 div.sk-toggleable__content pre {margin: 0.2em;color: black;border-radius: 0.25em;background-color: #f0f8ff;}#sk-container-id-2 input.sk-toggleable__control:checked~div.sk-toggleable__content {max-height: 200px;max-width: 100%;overflow: auto;}#sk-container-id-2 input.sk-toggleable__control:checked~label.sk-toggleable__label-arrow:before {content: \"▾\";}#sk-container-id-2 div.sk-estimator input.sk-toggleable__control:checked~label.sk-toggleable__label {background-color: #d4ebff;}#sk-container-id-2 div.sk-label input.sk-toggleable__control:checked~label.sk-toggleable__label {background-color: #d4ebff;}#sk-container-id-2 input.sk-hidden--visually {border: 0;clip: rect(1px 1px 1px 1px);clip: rect(1px, 1px, 1px, 1px);height: 1px;margin: -1px;overflow: hidden;padding: 0;position: absolute;width: 1px;}#sk-container-id-2 div.sk-estimator {font-family: monospace;background-color: #f0f8ff;border: 1px dotted black;border-radius: 0.25em;box-sizing: border-box;margin-bottom: 0.5em;}#sk-container-id-2 div.sk-estimator:hover {background-color: #d4ebff;}#sk-container-id-2 div.sk-parallel-item::after {content: \"\";width: 100%;border-bottom: 1px solid gray;flex-grow: 1;}#sk-container-id-2 div.sk-label:hover label.sk-toggleable__label {background-color: #d4ebff;}#sk-container-id-2 div.sk-serial::before {content: \"\";position: absolute;border-left: 1px solid gray;box-sizing: border-box;top: 0;bottom: 0;left: 50%;z-index: 0;}#sk-container-id-2 div.sk-serial {display: flex;flex-direction: column;align-items: center;background-color: white;padding-right: 0.2em;padding-left: 0.2em;position: relative;}#sk-container-id-2 div.sk-item {position: relative;z-index: 1;}#sk-container-id-2 div.sk-parallel {display: flex;align-items: stretch;justify-content: center;background-color: white;position: relative;}#sk-container-id-2 div.sk-item::before, #sk-container-id-2 div.sk-parallel-item::before {content: \"\";position: absolute;border-left: 1px solid gray;box-sizing: border-box;top: 0;bottom: 0;left: 50%;z-index: -1;}#sk-container-id-2 div.sk-parallel-item {display: flex;flex-direction: column;z-index: 1;position: relative;background-color: white;}#sk-container-id-2 div.sk-parallel-item:first-child::after {align-self: flex-end;width: 50%;}#sk-container-id-2 div.sk-parallel-item:last-child::after {align-self: flex-start;width: 50%;}#sk-container-id-2 div.sk-parallel-item:only-child::after {width: 0;}#sk-container-id-2 div.sk-dashed-wrapped {border: 1px dashed gray;margin: 0 0.4em 0.5em 0.4em;box-sizing: border-box;padding-bottom: 0.4em;background-color: white;}#sk-container-id-2 div.sk-label label {font-family: monospace;font-weight: bold;display: inline-block;line-height: 1.2em;}#sk-container-id-2 div.sk-label-container {text-align: center;}#sk-container-id-2 div.sk-container {/* jupyter's `normalize.less` sets `[hidden] { display: none; }` but bootstrap.min.css set `[hidden] { display: none !important; }` so we also need the `!important` here to be able to override the default hidden behavior on the sphinx rendered scikit-learn.org. See: https://github.com/scikit-learn/scikit-learn/issues/21755 */display: inline-block !important;position: relative;}#sk-container-id-2 div.sk-text-repr-fallback {display: none;}</style><div id=\"sk-container-id-2\" class=\"sk-top-container\"><div class=\"sk-text-repr-fallback\"><pre>KNeighborsRegressor()</pre><b>In a Jupyter environment, please rerun this cell to show the HTML representation or trust the notebook. <br />On GitHub, the HTML representation is unable to render, please try loading this page with nbviewer.org.</b></div><div class=\"sk-container\" hidden><div class=\"sk-item\"><div class=\"sk-estimator sk-toggleable\"><input class=\"sk-toggleable__control sk-hidden--visually\" id=\"sk-estimator-id-2\" type=\"checkbox\" checked><label for=\"sk-estimator-id-2\" class=\"sk-toggleable__label sk-toggleable__label-arrow\">KNeighborsRegressor</label><div class=\"sk-toggleable__content\"><pre>KNeighborsRegressor()</pre></div></div></div></div></div>"
            ]
          },
          "metadata": {},
          "execution_count": 19
        }
      ]
    },
    {
      "cell_type": "code",
      "source": [
        "# predict the model\n",
        "pred_y = krn.predict(X_test)"
      ],
      "metadata": {
        "id": "_co5RqX-dE4K"
      },
      "execution_count": 20,
      "outputs": []
    },
    {
      "cell_type": "code",
      "source": [
        "print(pred_y)"
      ],
      "metadata": {
        "colab": {
          "base_uri": "https://localhost:8080/"
        },
        "id": "omIjwVjMdIBG",
        "outputId": "b95c2189-2ae5-4e64-b034-a8716e250acb"
      },
      "execution_count": 21,
      "outputs": [
        {
          "output_type": "stream",
          "name": "stdout",
          "text": [
            "[ 41.76673258  -7.59437128 -16.65330434 -12.40227133  36.50390441\n",
            "  20.2429261   61.33943992 -29.17202648 -71.76709886 -11.9092177\n",
            "  16.33441338  -3.05077276 -67.94559513  59.90553659  15.71045932\n",
            "   0.1568295  -60.10947793  25.4844424  -28.8095753   27.02911181\n",
            "  20.8555342   15.65608547 -23.61510645 -41.03200396 -43.92434524\n",
            "  25.77610628 -58.95652775  61.61204386 -22.26969946  73.57828341\n",
            " -77.28105454  33.68023612 -59.88441434  -7.59437128 -52.41802667\n",
            "  -6.1272399   20.57984555  32.86381788  14.41379048 -46.12209025\n",
            "  84.06465502  28.9556839   40.33491469 -70.67778804  21.6520122\n",
            "  23.45246046 -30.06738109  -7.56893351  60.3765076   66.69890142\n",
            "  61.10758863  77.06956965 -57.91445319 -32.73737476 -46.12209025\n",
            " -24.65667254 -33.56726916  34.05975968  89.90091082  29.61443663\n",
            "  37.95277128   5.04859495 -23.51901164  -4.11565876  -7.80691962\n",
            " -16.65330434   3.49171402  21.67231896 -12.90919449 -57.26160031\n",
            "  40.66972968  78.00157096  61.11775102   1.47567069  63.89953105\n",
            " -33.5922652  -13.76035408 -39.44840122 -16.56328349 -48.92333782\n",
            " -15.61948484  45.90272354   8.40525078  36.73752101  41.40175657\n",
            "   6.47332971  13.07202496   7.58314716  35.44250449  40.03343209\n",
            " -41.40557396  19.97214713  14.89845096  19.68972529   8.94950866\n",
            " -64.35781865 -12.19908632  16.00016068  -2.47663538   1.42206867\n",
            "  57.88776215  61.33943992   6.50605749 -49.08062952  -6.6080568\n",
            " -38.608091   -19.45416387   6.6450752   21.93066881   2.18181382\n",
            "  27.85931962  -1.85926256 -43.92434524 -17.30127654  17.13133785\n",
            "  61.15460221 -11.52400304  -4.92050437  24.43431304   5.32818473\n",
            "  33.80058915  39.15275408  13.03089338  -4.02827475 -55.32371465\n",
            "  13.80896814  37.25598446 -41.03200396 -30.42100017  29.61443663\n",
            " -44.00108896   6.82585827  -3.17787417 -36.58968371  -7.03440934\n",
            "  16.20729958  22.95114492  12.15578949 -36.62503066 -15.24968274\n",
            "  -6.49041581 -16.0242914  -22.14999233 -18.22553452   8.07032818\n",
            "  41.16643614  20.51852576 -22.95474019 -40.49117341 -43.794263\n",
            "  76.62059357  30.05986267 -51.44700654 -22.76858846 -12.83562601\n",
            " -37.32703913  11.77846459  32.86381788  16.20729958  72.41127065\n",
            "  -2.81278992  87.77924768 -21.48631572  -2.3868837  -72.11199726\n",
            " -43.04299014  75.59563254 -26.27827351  11.33531029  71.72699605\n",
            "  51.86425569 -71.65860129  52.40693882  66.62641657  31.32616391\n",
            " -31.31316097 -35.73853545 -49.9394638  -10.49813206   4.17805419\n",
            "  -7.56893351  88.2403063   21.1505767  -36.58968371  84.37511448\n",
            "  25.4844424    4.17805419 -30.37387835  25.09839355 -20.57872769\n",
            " -13.38346682  -8.8591952  -14.96227082   0.60476164  37.79294369\n",
            " -64.76162549   2.74285668 -72.35586733  -5.76098143   7.00237789\n",
            "  -5.80739236  36.76116956  36.37517621 -53.39549678  -7.10930777\n",
            "   4.4011135    8.57776364 -19.08924607  27.85931962 -46.20644088\n",
            "   2.83081414 -50.49343667 -46.52513567  24.19512292 -21.73497763\n",
            "   8.8553438   19.20731738  14.58881778  23.84077623 -17.08972948\n",
            "  16.70099925  39.52579144   1.92764447  16.72852634 -58.85355681\n",
            "  16.34663634 -18.99922516 -26.02740049  14.09579828  32.45182884\n",
            " -43.37841152  -3.60927612  38.76952853  -3.16569162  29.8018037\n",
            "  -8.48259428  76.535979   -35.14150416  36.97176667 -36.58968371\n",
            "  17.13133785 -38.79359743 -13.08594737 -58.85355681   9.10387588\n",
            "  41.16643614 -18.22553452  35.25519986  70.64004792  23.45246046\n",
            "  63.59781401  75.59563254  74.04400473  58.14391677   0.89893394\n",
            " -77.73898476  -2.47663538  -3.05077276 -18.64020272 -42.21190296\n",
            " -26.40993884  76.11660731  58.42636408  43.9489958   -1.51587329\n",
            "  23.03453608  12.67728226  73.69306157  -1.63844744  12.48644707\n",
            "  -5.88597445 -56.52441877 -11.05914609   9.56619541 -31.45031773\n",
            " -52.52998431 -47.90930077 -49.37481635 -10.94637879  19.17418885\n",
            "  13.77910054  -3.99946297   4.46835086 -58.30010508  11.74943839\n",
            " -30.89301683   7.09850839  -3.9042723   30.49030121 -32.5971955\n",
            " -57.73327337  44.23294318  -7.71825546 -49.37481635 -33.44890008\n",
            "  -3.28613297 -16.0242914   85.42598965 -65.17976683  59.09224762\n",
            " -26.65897685 -10.41949376  45.18686348 -23.7609698   69.17783828\n",
            " -10.87847519  46.772698    24.00328486  34.72090419  13.50394296\n",
            "  16.70099925  14.67930846  19.68972529   1.21786175   1.16934366\n",
            "  10.59492105  10.09219333   8.44250419  44.18087623 -20.36607934\n",
            "  15.71045932   8.2185716  -26.43082201  36.76116956  44.94488021\n",
            " -25.56456033  -1.71871581 -45.84985281   1.16934366 -66.13534614]\n"
          ]
        }
      ]
    },
    {
      "cell_type": "markdown",
      "source": [
        "**ACCURACY OF THE MODEL**"
      ],
      "metadata": {
        "id": "8UAvlFbBdMvs"
      }
    },
    {
      "cell_type": "code",
      "source": [
        "from sklearn.metrics import r2_score,mean_absolute_error, mean_squared_error"
      ],
      "metadata": {
        "id": "2wOGUNjTdOjM"
      },
      "execution_count": 22,
      "outputs": []
    },
    {
      "cell_type": "code",
      "source": [
        "print(r2_score(pred_y, Y_test))"
      ],
      "metadata": {
        "colab": {
          "base_uri": "https://localhost:8080/"
        },
        "id": "DHxF1JvsdR1J",
        "outputId": "ed561077-6b0c-49b1-9c5c-930da7dcc06b"
      },
      "execution_count": 23,
      "outputs": [
        {
          "output_type": "stream",
          "name": "stdout",
          "text": [
            "0.906370894608509\n"
          ]
        }
      ]
    },
    {
      "cell_type": "code",
      "source": [
        "print(mean_absolute_error(pred_y, Y_test))"
      ],
      "metadata": {
        "colab": {
          "base_uri": "https://localhost:8080/"
        },
        "id": "zpkHnK9JdSsx",
        "outputId": "30f668df-159f-4de3-a38b-47939faafd40"
      },
      "execution_count": 24,
      "outputs": [
        {
          "output_type": "stream",
          "name": "stdout",
          "text": [
            "9.269174435861805\n"
          ]
        }
      ]
    },
    {
      "cell_type": "code",
      "source": [
        "print(mean_squared_error(pred_y, Y_test))"
      ],
      "metadata": {
        "colab": {
          "base_uri": "https://localhost:8080/"
        },
        "id": "QwPdJqGudl9P",
        "outputId": "d268497a-76de-4bd5-9df8-15fd55906e41"
      },
      "execution_count": 25,
      "outputs": [
        {
          "output_type": "stream",
          "name": "stdout",
          "text": [
            "132.70133826064995\n"
          ]
        }
      ]
    }
  ]
}