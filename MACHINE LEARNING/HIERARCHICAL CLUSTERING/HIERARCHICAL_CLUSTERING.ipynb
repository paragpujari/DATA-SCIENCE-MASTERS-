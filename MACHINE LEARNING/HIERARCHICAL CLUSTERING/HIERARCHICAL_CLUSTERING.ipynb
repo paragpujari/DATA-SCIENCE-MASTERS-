{
  "nbformat": 4,
  "nbformat_minor": 0,
  "metadata": {
    "colab": {
      "provenance": []
    },
    "kernelspec": {
      "name": "python3",
      "display_name": "Python 3"
    },
    "language_info": {
      "name": "python"
    }
  },
  "cells": [
    {
      "cell_type": "code",
      "execution_count": 25,
      "metadata": {
        "id": "reF0NqHh02WW"
      },
      "outputs": [],
      "source": [
        "# import all the necessary libraries\n",
        "import numpy as np\n",
        "import pandas as pd\n",
        "import matplotlib.pyplot as plt\n",
        "%matplotlib inline\n",
        "import seaborn as sns"
      ]
    },
    {
      "cell_type": "code",
      "source": [
        "# loading the dataset\n",
        "data = pd.read_csv('/content/iris.csv')"
      ],
      "metadata": {
        "id": "ve6WFnqc1LX0"
      },
      "execution_count": 26,
      "outputs": []
    },
    {
      "cell_type": "code",
      "source": [
        "print(data)"
      ],
      "metadata": {
        "colab": {
          "base_uri": "https://localhost:8080/"
        },
        "id": "6k--7G2C1Ry7",
        "outputId": "c7875a38-b548-4a96-ed36-9b5eaf4e0ced"
      },
      "execution_count": 27,
      "outputs": [
        {
          "output_type": "stream",
          "name": "stdout",
          "text": [
            "     sepal_length  sepal_width  petal_length  petal_width    species\n",
            "0             5.1          3.5           1.4          0.2     setosa\n",
            "1             4.9          3.0           1.4          0.2     setosa\n",
            "2             4.7          3.2           1.3          0.2     setosa\n",
            "3             4.6          3.1           1.5          0.2     setosa\n",
            "4             5.0          3.6           1.4          0.2     setosa\n",
            "..            ...          ...           ...          ...        ...\n",
            "145           6.7          3.0           5.2          2.3  virginica\n",
            "146           6.3          2.5           5.0          1.9  virginica\n",
            "147           6.5          3.0           5.2          2.0  virginica\n",
            "148           6.2          3.4           5.4          2.3  virginica\n",
            "149           5.9          3.0           5.1          1.8  virginica\n",
            "\n",
            "[150 rows x 5 columns]\n"
          ]
        }
      ]
    },
    {
      "cell_type": "code",
      "source": [
        "# shape of the dataset\n",
        "print(data.shape)"
      ],
      "metadata": {
        "colab": {
          "base_uri": "https://localhost:8080/"
        },
        "id": "aHkPVggk1UI7",
        "outputId": "c235c7f9-e5fa-49a2-e4e2-860ce356fb32"
      },
      "execution_count": 28,
      "outputs": [
        {
          "output_type": "stream",
          "name": "stdout",
          "text": [
            "(150, 5)\n"
          ]
        }
      ]
    },
    {
      "cell_type": "code",
      "source": [
        "# depict the information about all the columns in the dataset\n",
        "print(data.info())"
      ],
      "metadata": {
        "colab": {
          "base_uri": "https://localhost:8080/"
        },
        "id": "YB5LKt2p1Ygf",
        "outputId": "1024eb11-b7e9-4cee-cef3-d666d8d0574d"
      },
      "execution_count": 29,
      "outputs": [
        {
          "output_type": "stream",
          "name": "stdout",
          "text": [
            "<class 'pandas.core.frame.DataFrame'>\n",
            "RangeIndex: 150 entries, 0 to 149\n",
            "Data columns (total 5 columns):\n",
            " #   Column        Non-Null Count  Dtype  \n",
            "---  ------        --------------  -----  \n",
            " 0   sepal_length  150 non-null    float64\n",
            " 1   sepal_width   150 non-null    float64\n",
            " 2   petal_length  150 non-null    float64\n",
            " 3   petal_width   150 non-null    float64\n",
            " 4   species       150 non-null    object \n",
            "dtypes: float64(4), object(1)\n",
            "memory usage: 6.0+ KB\n",
            "None\n"
          ]
        }
      ]
    },
    {
      "cell_type": "code",
      "source": [
        "# depict the information about the statistcal information about the dataset\n",
        "print(data.describe())"
      ],
      "metadata": {
        "colab": {
          "base_uri": "https://localhost:8080/"
        },
        "id": "6hL_I_HA1gJN",
        "outputId": "d0a7bf63-7ce2-46ad-e22b-7ae5b980f50c"
      },
      "execution_count": 30,
      "outputs": [
        {
          "output_type": "stream",
          "name": "stdout",
          "text": [
            "       sepal_length  sepal_width  petal_length  petal_width\n",
            "count    150.000000   150.000000    150.000000   150.000000\n",
            "mean       5.843333     3.057333      3.758000     1.199333\n",
            "std        0.828066     0.435866      1.765298     0.762238\n",
            "min        4.300000     2.000000      1.000000     0.100000\n",
            "25%        5.100000     2.800000      1.600000     0.300000\n",
            "50%        5.800000     3.000000      4.350000     1.300000\n",
            "75%        6.400000     3.300000      5.100000     1.800000\n",
            "max        7.900000     4.400000      6.900000     2.500000\n"
          ]
        }
      ]
    },
    {
      "cell_type": "code",
      "source": [
        "# selecting the features based on which agglomerative clustering can be done\n",
        "data_a = data.iloc[:,0:2].values\n",
        "\n",
        "print(data_a)"
      ],
      "metadata": {
        "colab": {
          "base_uri": "https://localhost:8080/"
        },
        "id": "gyUxC5-K12C8",
        "outputId": "48660adf-2594-4f25-85a0-9a6790758605"
      },
      "execution_count": 31,
      "outputs": [
        {
          "output_type": "stream",
          "name": "stdout",
          "text": [
            "[[5.1 3.5]\n",
            " [4.9 3. ]\n",
            " [4.7 3.2]\n",
            " [4.6 3.1]\n",
            " [5.  3.6]\n",
            " [5.4 3.9]\n",
            " [4.6 3.4]\n",
            " [5.  3.4]\n",
            " [4.4 2.9]\n",
            " [4.9 3.1]\n",
            " [5.4 3.7]\n",
            " [4.8 3.4]\n",
            " [4.8 3. ]\n",
            " [4.3 3. ]\n",
            " [5.8 4. ]\n",
            " [5.7 4.4]\n",
            " [5.4 3.9]\n",
            " [5.1 3.5]\n",
            " [5.7 3.8]\n",
            " [5.1 3.8]\n",
            " [5.4 3.4]\n",
            " [5.1 3.7]\n",
            " [4.6 3.6]\n",
            " [5.1 3.3]\n",
            " [4.8 3.4]\n",
            " [5.  3. ]\n",
            " [5.  3.4]\n",
            " [5.2 3.5]\n",
            " [5.2 3.4]\n",
            " [4.7 3.2]\n",
            " [4.8 3.1]\n",
            " [5.4 3.4]\n",
            " [5.2 4.1]\n",
            " [5.5 4.2]\n",
            " [4.9 3.1]\n",
            " [5.  3.2]\n",
            " [5.5 3.5]\n",
            " [4.9 3.6]\n",
            " [4.4 3. ]\n",
            " [5.1 3.4]\n",
            " [5.  3.5]\n",
            " [4.5 2.3]\n",
            " [4.4 3.2]\n",
            " [5.  3.5]\n",
            " [5.1 3.8]\n",
            " [4.8 3. ]\n",
            " [5.1 3.8]\n",
            " [4.6 3.2]\n",
            " [5.3 3.7]\n",
            " [5.  3.3]\n",
            " [7.  3.2]\n",
            " [6.4 3.2]\n",
            " [6.9 3.1]\n",
            " [5.5 2.3]\n",
            " [6.5 2.8]\n",
            " [5.7 2.8]\n",
            " [6.3 3.3]\n",
            " [4.9 2.4]\n",
            " [6.6 2.9]\n",
            " [5.2 2.7]\n",
            " [5.  2. ]\n",
            " [5.9 3. ]\n",
            " [6.  2.2]\n",
            " [6.1 2.9]\n",
            " [5.6 2.9]\n",
            " [6.7 3.1]\n",
            " [5.6 3. ]\n",
            " [5.8 2.7]\n",
            " [6.2 2.2]\n",
            " [5.6 2.5]\n",
            " [5.9 3.2]\n",
            " [6.1 2.8]\n",
            " [6.3 2.5]\n",
            " [6.1 2.8]\n",
            " [6.4 2.9]\n",
            " [6.6 3. ]\n",
            " [6.8 2.8]\n",
            " [6.7 3. ]\n",
            " [6.  2.9]\n",
            " [5.7 2.6]\n",
            " [5.5 2.4]\n",
            " [5.5 2.4]\n",
            " [5.8 2.7]\n",
            " [6.  2.7]\n",
            " [5.4 3. ]\n",
            " [6.  3.4]\n",
            " [6.7 3.1]\n",
            " [6.3 2.3]\n",
            " [5.6 3. ]\n",
            " [5.5 2.5]\n",
            " [5.5 2.6]\n",
            " [6.1 3. ]\n",
            " [5.8 2.6]\n",
            " [5.  2.3]\n",
            " [5.6 2.7]\n",
            " [5.7 3. ]\n",
            " [5.7 2.9]\n",
            " [6.2 2.9]\n",
            " [5.1 2.5]\n",
            " [5.7 2.8]\n",
            " [6.3 3.3]\n",
            " [5.8 2.7]\n",
            " [7.1 3. ]\n",
            " [6.3 2.9]\n",
            " [6.5 3. ]\n",
            " [7.6 3. ]\n",
            " [4.9 2.5]\n",
            " [7.3 2.9]\n",
            " [6.7 2.5]\n",
            " [7.2 3.6]\n",
            " [6.5 3.2]\n",
            " [6.4 2.7]\n",
            " [6.8 3. ]\n",
            " [5.7 2.5]\n",
            " [5.8 2.8]\n",
            " [6.4 3.2]\n",
            " [6.5 3. ]\n",
            " [7.7 3.8]\n",
            " [7.7 2.6]\n",
            " [6.  2.2]\n",
            " [6.9 3.2]\n",
            " [5.6 2.8]\n",
            " [7.7 2.8]\n",
            " [6.3 2.7]\n",
            " [6.7 3.3]\n",
            " [7.2 3.2]\n",
            " [6.2 2.8]\n",
            " [6.1 3. ]\n",
            " [6.4 2.8]\n",
            " [7.2 3. ]\n",
            " [7.4 2.8]\n",
            " [7.9 3.8]\n",
            " [6.4 2.8]\n",
            " [6.3 2.8]\n",
            " [6.1 2.6]\n",
            " [7.7 3. ]\n",
            " [6.3 3.4]\n",
            " [6.4 3.1]\n",
            " [6.  3. ]\n",
            " [6.9 3.1]\n",
            " [6.7 3.1]\n",
            " [6.9 3.1]\n",
            " [5.8 2.7]\n",
            " [6.8 3.2]\n",
            " [6.7 3.3]\n",
            " [6.7 3. ]\n",
            " [6.3 2.5]\n",
            " [6.5 3. ]\n",
            " [6.2 3.4]\n",
            " [5.9 3. ]]\n"
          ]
        }
      ]
    },
    {
      "cell_type": "code",
      "source": [
        "# defining the library for AgglomerativeClustering\n",
        "from sklearn.cluster import AgglomerativeClustering"
      ],
      "metadata": {
        "id": "A2AvKqgq2eHt"
      },
      "execution_count": 32,
      "outputs": []
    },
    {
      "cell_type": "code",
      "source": [
        "agg = AgglomerativeClustering(n_clusters = 3, affinity = 'euclidean', linkage = 'ward')\n",
        "\n",
        "print(agg)"
      ],
      "metadata": {
        "colab": {
          "base_uri": "https://localhost:8080/"
        },
        "id": "-dBGDL-Y2oEq",
        "outputId": "bd4e8462-f355-4c2b-d74f-6b73d2eb15ee"
      },
      "execution_count": 33,
      "outputs": [
        {
          "output_type": "stream",
          "name": "stdout",
          "text": [
            "AgglomerativeClustering(affinity='euclidean', n_clusters=3)\n"
          ]
        }
      ]
    },
    {
      "cell_type": "code",
      "source": [
        "# predict the labels for AgglomerativeClustering\n",
        "res = agg.fit_predict(data_a)\n",
        "print(res)"
      ],
      "metadata": {
        "colab": {
          "base_uri": "https://localhost:8080/"
        },
        "id": "8wErFXGg21ne",
        "outputId": "07118995-1483-4bfd-cc72-5682a54f4e66"
      },
      "execution_count": 34,
      "outputs": [
        {
          "output_type": "stream",
          "name": "stdout",
          "text": [
            "[1 1 1 1 1 1 1 1 1 1 1 1 1 1 1 1 1 1 1 1 1 1 1 1 1 1 1 1 1 1 1 1 1 1 1 1 1\n",
            " 1 1 1 1 1 1 1 1 1 1 1 1 1 0 0 0 2 0 2 0 1 0 1 1 0 2 0 2 0 2 2 2 2 0 0 2 0\n",
            " 0 0 0 0 0 2 2 2 2 0 2 0 0 2 2 2 2 0 2 1 2 2 2 0 1 2 0 2 0 0 0 0 1 0 0 0 0\n",
            " 0 0 2 2 0 0 0 0 2 0 2 0 0 0 0 0 0 0 0 0 0 0 0 0 0 0 0 0 0 0 0 2 0 0 0 2 0\n",
            " 0 0]\n"
          ]
        },
        {
          "output_type": "stream",
          "name": "stderr",
          "text": [
            "/usr/local/lib/python3.10/dist-packages/sklearn/cluster/_agglomerative.py:983: FutureWarning: Attribute `affinity` was deprecated in version 1.2 and will be removed in 1.4. Use `metric` instead\n",
            "  warnings.warn(\n"
          ]
        }
      ]
    },
    {
      "cell_type": "code",
      "source": [
        "# plotting the hierarchical clusters\n",
        "plt.figure(figsize = (5,5))\n",
        "# plotting the scatter plots for the hierarchical clusters\n",
        "plt.scatter(data_a[res == 0,0], data_a[res == 0,1], color = 'red')\n",
        "plt.scatter(data_a[res == 1,0], data_a[res == 1,1], color = 'yellow')\n",
        "plt.scatter(data_a[res == 2,0], data_a[res == 2,1], color = 'blue')\n",
        "plt.grid()\n",
        "plt.show()"
      ],
      "metadata": {
        "colab": {
          "base_uri": "https://localhost:8080/",
          "height": 448
        },
        "id": "VZc0FuRk3U5p",
        "outputId": "5e81b555-6097-418d-b6d7-e625649c55ba"
      },
      "execution_count": 35,
      "outputs": [
        {
          "output_type": "display_data",
          "data": {
            "text/plain": [
              "<Figure size 500x500 with 1 Axes>"
            ],
            "image/png": "[encoded data removed]"
          },
          "metadata": {}
        }
      ]
    },
    {
      "cell_type": "code",
      "source": [
        "# plotting the dendogram graph\n",
        "\n",
        "# linkage matrix\n",
        "from scipy.cluster.hierarchy import linkage, dendrogram\n",
        "\n",
        "results = linkage(data_a, method = 'ward')\n",
        "\n",
        "print(results)"
      ],
      "metadata": {
        "colab": {
          "base_uri": "https://localhost:8080/"
        },
        "id": "KMz6CQ4H3llh",
        "outputId": "d526250c-4a77-40d5-cc1d-a018e90fb777"
      },
      "execution_count": 36,
      "outputs": [
        {
          "output_type": "stream",
          "name": "stdout",
          "text": [
            "[[0.00000000e+00 1.70000000e+01 0.00000000e+00 2.00000000e+00]\n",
            " [2.00000000e+00 2.90000000e+01 0.00000000e+00 2.00000000e+00]\n",
            " [5.00000000e+00 1.60000000e+01 0.00000000e+00 2.00000000e+00]\n",
            " [1.10000000e+01 2.40000000e+01 0.00000000e+00 2.00000000e+00]\n",
            " [7.00000000e+00 2.60000000e+01 0.00000000e+00 2.00000000e+00]\n",
            " [9.00000000e+00 3.40000000e+01 0.00000000e+00 2.00000000e+00]\n",
            " [1.20000000e+01 4.50000000e+01 0.00000000e+00 2.00000000e+00]\n",
            " [2.00000000e+01 3.10000000e+01 0.00000000e+00 2.00000000e+00]\n",
            " [1.90000000e+01 4.40000000e+01 0.00000000e+00 2.00000000e+00]\n",
            " [4.60000000e+01 1.58000000e+02 0.00000000e+00 3.00000000e+00]\n",
            " [4.00000000e+01 4.30000000e+01 0.00000000e+00 2.00000000e+00]\n",
            " [6.10000000e+01 1.49000000e+02 0.00000000e+00 2.00000000e+00]\n",
            " [6.60000000e+01 8.80000000e+01 0.00000000e+00 2.00000000e+00]\n",
            " [5.50000000e+01 9.90000000e+01 0.00000000e+00 2.00000000e+00]\n",
            " [6.70000000e+01 8.20000000e+01 0.00000000e+00 2.00000000e+00]\n",
            " [1.01000000e+02 1.64000000e+02 0.00000000e+00 3.00000000e+00]\n",
            " [1.42000000e+02 1.65000000e+02 0.00000000e+00 4.00000000e+00]\n",
            " [9.10000000e+01 1.27000000e+02 0.00000000e+00 2.00000000e+00]\n",
            " [5.60000000e+01 1.00000000e+02 0.00000000e+00 2.00000000e+00]\n",
            " [7.10000000e+01 7.30000000e+01 0.00000000e+00 2.00000000e+00]\n",
            " [5.10000000e+01 1.15000000e+02 0.00000000e+00 2.00000000e+00]\n",
            " [1.04000000e+02 1.16000000e+02 0.00000000e+00 2.00000000e+00]\n",
            " [1.47000000e+02 1.71000000e+02 0.00000000e+00 3.00000000e+00]\n",
            " [1.28000000e+02 1.32000000e+02 0.00000000e+00 2.00000000e+00]\n",
            " [7.70000000e+01 1.45000000e+02 0.00000000e+00 2.00000000e+00]\n",
            " [6.50000000e+01 8.60000000e+01 0.00000000e+00 2.00000000e+00]\n",
            " [1.40000000e+02 1.75000000e+02 0.00000000e+00 3.00000000e+00]\n",
            " [1.24000000e+02 1.44000000e+02 0.00000000e+00 2.00000000e+00]\n",
            " [7.20000000e+01 1.46000000e+02 0.00000000e+00 2.00000000e+00]\n",
            " [6.20000000e+01 1.19000000e+02 0.00000000e+00 2.00000000e+00]\n",
            " [5.20000000e+01 1.39000000e+02 0.00000000e+00 2.00000000e+00]\n",
            " [1.41000000e+02 1.80000000e+02 0.00000000e+00 3.00000000e+00]\n",
            " [8.00000000e+01 8.10000000e+01 0.00000000e+00 2.00000000e+00]\n",
            " [1.00000000e+00 2.50000000e+01 1.00000000e-01 2.00000000e+00]\n",
            " [4.00000000e+00 3.70000000e+01 1.00000000e-01 2.00000000e+00]\n",
            " [2.30000000e+01 4.90000000e+01 1.00000000e-01 2.00000000e+00]\n",
            " [1.36000000e+02 1.48000000e+02 1.00000000e-01 2.00000000e+00]\n",
            " [9.40000000e+01 1.21000000e+02 1.00000000e-01 2.00000000e+00]\n",
            " [6.30000000e+01 7.80000000e+01 1.00000000e-01 2.00000000e+00]\n",
            " [9.70000000e+01 1.03000000e+02 1.00000000e-01 2.00000000e+00]\n",
            " [1.26000000e+02 1.33000000e+02 1.00000000e-01 2.00000000e+00]\n",
            " [7.90000000e+01 9.20000000e+01 1.00000000e-01 2.00000000e+00]\n",
            " [6.90000000e+01 8.90000000e+01 1.00000000e-01 2.00000000e+00]\n",
            " [5.00000000e+01 1.20000000e+02 1.00000000e-01 2.00000000e+00]\n",
            " [3.00000000e+00 4.70000000e+01 1.00000000e-01 2.00000000e+00]\n",
            " [8.00000000e+00 3.80000000e+01 1.00000000e-01 2.00000000e+00]\n",
            " [2.70000000e+01 2.80000000e+01 1.00000000e-01 2.00000000e+00]\n",
            " [9.50000000e+01 9.60000000e+01 1.00000000e-01 2.00000000e+00]\n",
            " [5.80000000e+01 7.50000000e+01 1.00000000e-01 2.00000000e+00]\n",
            " [5.70000000e+01 1.06000000e+02 1.00000000e-01 2.00000000e+00]\n",
            " [1.00000000e+01 4.80000000e+01 1.00000000e-01 2.00000000e+00]\n",
            " [1.11000000e+02 1.23000000e+02 1.00000000e-01 2.00000000e+00]\n",
            " [1.02000000e+02 1.29000000e+02 1.00000000e-01 2.00000000e+00]\n",
            " [1.05000000e+02 1.35000000e+02 1.00000000e-01 2.00000000e+00]\n",
            " [3.90000000e+01 1.54000000e+02 1.15470054e-01 3.00000000e+00]\n",
            " [1.14000000e+02 1.63000000e+02 1.15470054e-01 3.00000000e+00]\n",
            " [1.38000000e+02 1.67000000e+02 1.15470054e-01 3.00000000e+00]\n",
            " [1.10000000e+02 1.70000000e+02 1.15470054e-01 3.00000000e+00]\n",
            " [5.40000000e+01 1.73000000e+02 1.15470054e-01 3.00000000e+00]\n",
            " [1.12000000e+02 1.74000000e+02 1.15470054e-01 3.00000000e+00]\n",
            " [3.00000000e+01 1.56000000e+02 1.15470054e-01 3.00000000e+00]\n",
            " [6.40000000e+01 1.62000000e+02 1.15470054e-01 3.00000000e+00]\n",
            " [5.30000000e+01 1.82000000e+02 1.15470054e-01 3.00000000e+00]\n",
            " [2.10000000e+01 1.59000000e+02 1.22474487e-01 4.00000000e+00]\n",
            " [3.50000000e+01 1.85000000e+02 1.29099445e-01 3.00000000e+00]\n",
            " [1.13000000e+02 1.91000000e+02 1.29099445e-01 3.00000000e+00]\n",
            " [9.00000000e+01 1.92000000e+02 1.29099445e-01 3.00000000e+00]\n",
            " [1.37000000e+02 2.07000000e+02 1.29099445e-01 4.00000000e+00]\n",
            " [7.40000000e+01 2.08000000e+02 1.29099445e-01 4.00000000e+00]\n",
            " [1.30000000e+01 1.95000000e+02 1.29099445e-01 3.00000000e+00]\n",
            " [1.50000000e+02 1.60000000e+02 1.41421356e-01 4.00000000e+00]\n",
            " [6.80000000e+01 8.70000000e+01 1.41421356e-01 2.00000000e+00]\n",
            " [8.30000000e+01 1.34000000e+02 1.41421356e-01 2.00000000e+00]\n",
            " [1.89000000e+02 1.90000000e+02 1.41421356e-01 4.00000000e+00]\n",
            " [1.07000000e+02 1.30000000e+02 1.41421356e-01 2.00000000e+00]\n",
            " [1.88000000e+02 2.06000000e+02 1.57056253e-01 5.00000000e+00]\n",
            " [1.97000000e+02 2.11000000e+02 1.57056253e-01 5.00000000e+00]\n",
            " [1.55000000e+02 1.83000000e+02 1.58113883e-01 4.00000000e+00]\n",
            " [1.68000000e+02 1.86000000e+02 1.58113883e-01 4.00000000e+00]\n",
            " [1.51000000e+02 1.94000000e+02 1.58113883e-01 4.00000000e+00]\n",
            " [1.43000000e+02 1.77000000e+02 1.63299316e-01 3.00000000e+00]\n",
            " [3.60000000e+01 1.57000000e+02 1.63299316e-01 3.00000000e+00]\n",
            " [1.72000000e+02 1.98000000e+02 1.73205081e-01 5.00000000e+00]\n",
            " [1.81000000e+02 1.93000000e+02 1.73205081e-01 5.00000000e+00]\n",
            " [1.76000000e+02 2.09000000e+02 1.82574186e-01 6.00000000e+00]\n",
            " [2.04000000e+02 2.20000000e+02 1.87718127e-01 7.00000000e+00]\n",
            " [1.18000000e+02 1.22000000e+02 2.00000000e-01 2.00000000e+00]\n",
            " [6.00000000e+00 2.20000000e+01 2.00000000e-01 2.00000000e+00]\n",
            " [1.17000000e+02 1.31000000e+02 2.00000000e-01 2.00000000e+00]\n",
            " [9.30000000e+01 1.99000000e+02 2.08166600e-01 3.00000000e+00]\n",
            " [1.87000000e+02 2.05000000e+02 2.20605228e-01 5.00000000e+00]\n",
            " [1.69000000e+02 2.22000000e+02 2.23606798e-01 4.00000000e+00]\n",
            " [7.00000000e+01 8.50000000e+01 2.23606798e-01 2.00000000e+00]\n",
            " [1.40000000e+01 1.80000000e+01 2.23606798e-01 2.00000000e+00]\n",
            " [5.90000000e+01 9.80000000e+01 2.23606798e-01 2.00000000e+00]\n",
            " [2.10000000e+02 2.27000000e+02 2.33503339e-01 7.00000000e+00]\n",
            " [2.01000000e+02 2.18000000e+02 2.38047614e-01 6.00000000e+00]\n",
            " [1.25000000e+02 2.02000000e+02 2.38047614e-01 3.00000000e+00]\n",
            " [1.66000000e+02 2.15000000e+02 2.76026224e-01 7.00000000e+00]\n",
            " [1.96000000e+02 2.35000000e+02 2.77460136e-01 9.00000000e+00]\n",
            " [1.61000000e+02 2.25000000e+02 2.78772821e-01 7.00000000e+00]\n",
            " [1.50000000e+01 3.30000000e+01 2.82842712e-01 2.00000000e+00]\n",
            " [4.20000000e+01 2.19000000e+02 2.88675135e-01 4.00000000e+00]\n",
            " [1.52000000e+02 2.00000000e+02 2.91547595e-01 4.00000000e+00]\n",
            " [2.12000000e+02 2.16000000e+02 2.94392029e-01 6.00000000e+00]\n",
            " [8.40000000e+01 2.26000000e+02 3.14112506e-01 6.00000000e+00]\n",
            " [7.60000000e+01 1.08000000e+02 3.16227766e-01 2.00000000e+00]\n",
            " [1.53000000e+02 2.37000000e+02 3.16227766e-01 4.00000000e+00]\n",
            " [1.84000000e+02 2.49000000e+02 3.48879882e-01 1.10000000e+01]\n",
            " [2.23000000e+02 2.46000000e+02 3.59629439e-01 1.00000000e+01]\n",
            " [1.78000000e+02 2.21000000e+02 3.60555128e-01 4.00000000e+00]\n",
            " [2.40000000e+02 2.48000000e+02 3.98090681e-01 1.20000000e+01]\n",
            " [3.20000000e+01 2.13000000e+02 4.30116263e-01 5.00000000e+00]\n",
            " [2.03000000e+02 2.36000000e+02 4.30116263e-01 4.00000000e+00]\n",
            " [2.30000000e+02 2.34000000e+02 4.34613494e-01 9.00000000e+00]\n",
            " [2.24000000e+02 2.47000000e+02 4.39696865e-01 5.00000000e+00]\n",
            " [2.39000000e+02 2.44000000e+02 4.56800467e-01 5.00000000e+00]\n",
            " [2.17000000e+02 2.28000000e+02 4.60977223e-01 8.00000000e+00]\n",
            " [2.14000000e+02 2.58000000e+02 4.69410610e-01 1.40000000e+01]\n",
            " [2.33000000e+02 2.64000000e+02 5.03479953e-01 1.40000000e+01]\n",
            " [1.79000000e+02 2.60000000e+02 5.32290647e-01 6.00000000e+00]\n",
            " [2.53000000e+02 2.62000000e+02 5.44160924e-01 9.00000000e+00]\n",
            " [2.29000000e+02 2.57000000e+02 5.59016994e-01 8.00000000e+00]\n",
            " [2.41000000e+02 2.50000000e+02 5.72644810e-01 1.10000000e+01]\n",
            " [4.10000000e+01 6.00000000e+01 5.83095189e-01 2.00000000e+00]\n",
            " [2.43000000e+02 2.51000000e+02 6.04152299e-01 4.00000000e+00]\n",
            " [2.32000000e+02 2.56000000e+02 6.61167798e-01 7.00000000e+00]\n",
            " [2.42000000e+02 2.67000000e+02 7.18679344e-01 1.00000000e+01]\n",
            " [2.66000000e+02 2.74000000e+02 7.20713932e-01 7.00000000e+00]\n",
            " [1.09000000e+02 2.38000000e+02 7.30296743e-01 3.00000000e+00]\n",
            " [2.59000000e+02 2.76000000e+02 7.77120304e-01 1.70000000e+01]\n",
            " [2.55000000e+02 2.61000000e+02 8.43274043e-01 1.80000000e+01]\n",
            " [2.31000000e+02 2.68000000e+02 8.52118796e-01 1.70000000e+01]\n",
            " [2.45000000e+02 2.72000000e+02 9.11578955e-01 1.50000000e+01]\n",
            " [2.63000000e+02 2.65000000e+02 9.57136934e-01 9.00000000e+00]\n",
            " [2.52000000e+02 2.83000000e+02 1.06486141e+00 1.90000000e+01]\n",
            " [2.54000000e+02 2.81000000e+02 1.14041903e+00 2.40000000e+01]\n",
            " [2.71000000e+02 2.75000000e+02 1.22789863e+00 1.30000000e+01]\n",
            " [2.73000000e+02 2.77000000e+02 1.46644430e+00 2.10000000e+01]\n",
            " [2.80000000e+02 2.88000000e+02 1.62484125e+00 3.80000000e+01]\n",
            " [2.79000000e+02 2.84000000e+02 1.75657495e+00 1.20000000e+01]\n",
            " [2.70000000e+02 2.86000000e+02 2.05304652e+00 3.00000000e+01]\n",
            " [2.82000000e+02 2.87000000e+02 2.05436812e+00 3.00000000e+01]\n",
            " [2.69000000e+02 2.89000000e+02 2.42712703e+00 5.20000000e+01]\n",
            " [2.78000000e+02 2.85000000e+02 2.58877767e+00 2.60000000e+01]\n",
            " [2.92000000e+02 2.94000000e+02 4.43156593e+00 5.60000000e+01]\n",
            " [2.90000000e+02 2.93000000e+02 4.68991092e+00 6.40000000e+01]\n",
            " [2.91000000e+02 2.96000000e+02 6.09685802e+00 9.40000000e+01]\n",
            " [2.95000000e+02 2.97000000e+02 1.17088185e+01 1.50000000e+02]]\n"
          ]
        }
      ]
    },
    {
      "cell_type": "code",
      "source": [
        "# plotting the dendrogram\n",
        "\n",
        "res = dendrogram(results)\n",
        "plt.title('Dendrogram')\n",
        "plt.ylabel('Euclidean Distance')\n",
        "plt.show()"
      ],
      "metadata": {
        "colab": {
          "base_uri": "https://localhost:8080/",
          "height": 452
        },
        "id": "Y7cK-gnw4h9Z",
        "outputId": "d50b21cb-d4b4-498c-ad03-c032472d0889"
      },
      "execution_count": 37,
      "outputs": [
        {
          "output_type": "display_data",
          "data": {
            "text/plain": [
              "<Figure size 640x480 with 1 Axes>"
            ],
            "image/png": "[encoded data removed]"
          },
          "metadata": {}
        }
      ]
    }
  ]
}