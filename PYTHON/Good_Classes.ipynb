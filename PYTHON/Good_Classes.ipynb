{
 "cells": [
  {
   "cell_type": "code",
   "execution_count": 7,
   "metadata": {},
   "outputs": [
    {
     "name": "stdout",
     "output_type": "stream",
     "text": [
      "petrol\n",
      "The number of tyres in object car1 is  4\n",
      "The number of windows in object car1 is 4\n",
      "The car type is electric engine\n"
     ]
    }
   ],
   "source": [
    "class Car:\n",
    "    # constructor\n",
    "    def __init__(self,windows, engine, tyres):\n",
    "        self.windows = windows\n",
    "        self.engine  = engine\n",
    "        self.tyres   = tyres\n",
    "    \n",
    "    # methods in the class\n",
    "    def self_driving(self, engine):\n",
    "        print(\"The car type is {} engine\".format(engine))\n",
    "        \n",
    "        \n",
    "# creating the objects of the class\n",
    "car1 = Car(4,\"petrol\",4)\n",
    "print(car1.engine)\n",
    "\n",
    "    \n",
    "print(\"The number of tyres in object car1 is  {}\". format(car1.tyres))\n",
    "print(\"The number of windows in object car1 is {}\". format(car1.windows))\n",
    "\n",
    "\n",
    "car1.self_driving(\"electric\")"
   ]
  },
  {
   "cell_type": "code",
   "execution_count": null,
   "metadata": {},
   "outputs": [],
   "source": []
  }
 ],
 "metadata": {
  "kernelspec": {
   "display_name": "Python 3",
   "language": "python",
   "name": "python3"
  },
  "language_info": {
   "codemirror_mode": {
    "name": "ipython",
    "version": 3
   },
   "file_extension": ".py",
   "mimetype": "text/x-python",
   "name": "python",
   "nbconvert_exporter": "python",
   "pygments_lexer": "ipython3",
   "version": "3.8.3"
  }
 },
 "nbformat": 4,
 "nbformat_minor": 4
}
