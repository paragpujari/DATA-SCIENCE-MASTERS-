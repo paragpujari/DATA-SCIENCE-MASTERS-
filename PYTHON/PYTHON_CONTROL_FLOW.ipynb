{
 "cells": [
  {
   "cell_type": "code",
   "execution_count": null,
   "metadata": {},
   "outputs": [],
   "source": [
    "# if statement\n",
    "val = int(input(\"Enter the number\"))\n",
    "if(val%2 == 0):\n",
    "    print(\"Even number:\", val)"
   ]
  },
  {
   "cell_type": "code",
   "execution_count": null,
   "metadata": {},
   "outputs": [],
   "source": [
    "# To check if the number is even or odd\n",
    "val = int(input(\"Enter the number:\"))\n",
    "if(val%2 == 0):\n",
    "    print(\"Even number :\", val)\n",
    "else:\n",
    "    print(\"Odd number :\", val)"
   ]
  },
  {
   "cell_type": "code",
   "execution_count": null,
   "metadata": {},
   "outputs": [],
   "source": [
    "# if else if statement\n",
    "age = int(input(\"Enter the age\"))\n",
    "if(age < 18):\n",
    "    print(\"Minor Age\")\n",
    "elif(age >= 18 and age < 45):\n",
    "    print(\"Adult Age\")\n",
    "else:\n",
    "    print(\"Senior Citizen\")"
   ]
  },
  {
   "cell_type": "code",
   "execution_count": null,
   "metadata": {},
   "outputs": [],
   "source": [
    "# Nested if else statement to check the largest of three numbers\n",
    "a = int(input(\"Enter the first number:\"))\n",
    "b = int(input(\"Enter the second number:\"))\n",
    "c = int(input(\"Enter the third number:\"))\n",
    "\n",
    "if(a > b):\n",
    "    if(a > c):\n",
    "        print(\"A is the largest:\", a)\n",
    "    else:\n",
    "        print(\"C is the largest:\", c)\n",
    "else:\n",
    "    if(b > c):\n",
    "        print(\"B is the largest:\", b)\n",
    "    else:\n",
    "        print(\"C is the largest:\", c)"
   ]
  },
  {
   "cell_type": "markdown",
   "metadata": {},
   "source": [
    "# LOOPS"
   ]
  },
  {
   "cell_type": "code",
   "execution_count": null,
   "metadata": {},
   "outputs": [],
   "source": [
    "# for loop\n",
    "lst=[1,2,3,4,5,6,7]\n",
    "\n",
    "for i in lst:\n",
    "    print(i)"
   ]
  },
  {
   "cell_type": "code",
   "execution_count": null,
   "metadata": {},
   "outputs": [],
   "source": [
    "##find the sum of all the elements in the list\n",
    "lst=[1,2,3,4,5,6,7]\n",
    "sum = 0\n",
    "for i in lst:\n",
    "    sum += i\n",
    "print(\"Sum of all the elements in the list:\", sum)"
   ]
  },
  {
   "cell_type": "code",
   "execution_count": null,
   "metadata": {},
   "outputs": [],
   "source": [
    "## find the sum of even and odd number\n",
    "lst=[1,2,3,4,5,6,7]\n",
    "even_sum = 0\n",
    "odd_sum = 0\n",
    "for i in lst:\n",
    "    if((i%2) == 0):\n",
    "        even_sum += i\n",
    "    else:\n",
    "        odd_sum += i\n",
    "print(\"Sum of all the even elements in the list:\", even_sum)\n",
    "print(\"Sum of all the odd elements in the list:\", odd_sum)"
   ]
  },
  {
   "cell_type": "code",
   "execution_count": null,
   "metadata": {},
   "outputs": [],
   "source": [
    "# while condition\n",
    "i = 0\n",
    "even_sum = 0\n",
    "odd_sum = 0\n",
    "while(i < 10):\n",
    "    if((i%2) == 0):\n",
    "        even_sum = even_sum + i\n",
    "    else:\n",
    "        odd_sum  = odd_sum  + i\n",
    "    i = i + 1\n",
    "print(\"Sum of all the even elements in the list:\", even_sum)\n",
    "print(\"Sum of all the odd elements in the list:\", odd_sum)"
   ]
  },
  {
   "cell_type": "code",
   "execution_count": null,
   "metadata": {},
   "outputs": [],
   "source": [
    "# break\n",
    "x = 1\n",
    "while(x <= 10):\n",
    "    if(x == 4):\n",
    "        break\n",
    "    print(x)\n",
    "    x = x + 1"
   ]
  },
  {
   "cell_type": "code",
   "execution_count": 1,
   "metadata": {},
   "outputs": [
    {
     "name": "stdout",
     "output_type": "stream",
     "text": [
      "1\n",
      "2\n",
      "3\n",
      "5\n",
      "6\n",
      "7\n",
      "8\n",
      "9\n",
      "10\n",
      "11\n"
     ]
    }
   ],
   "source": [
    "# continue\n",
    "x = 0\n",
    "while(x <= 10):\n",
    "    x = x + 1\n",
    "    if(x == 4):\n",
    "        continue\n",
    "    print(x)"
   ]
  },
  {
   "cell_type": "code",
   "execution_count": null,
   "metadata": {},
   "outputs": [],
   "source": []
  }
 ],
 "metadata": {
  "kernelspec": {
   "display_name": "Python 3",
   "language": "python",
   "name": "python3"
  },
  "language_info": {
   "codemirror_mode": {
    "name": "ipython",
    "version": 3
   },
   "file_extension": ".py",
   "mimetype": "text/x-python",
   "name": "python",
   "nbconvert_exporter": "python",
   "pygments_lexer": "ipython3",
   "version": "3.8.3"
  }
 },
 "nbformat": 4,
 "nbformat_minor": 4
}
