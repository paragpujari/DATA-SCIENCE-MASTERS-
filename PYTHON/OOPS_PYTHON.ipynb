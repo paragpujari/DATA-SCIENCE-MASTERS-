{
 "cells": [
  {
   "cell_type": "code",
   "execution_count": 4,
   "metadata": {},
   "outputs": [
    {
     "name": "stdout",
     "output_type": "stream",
     "text": [
      "<__main__.Car object at 0x0000012C2500FB80>\n",
      "petrol\n",
      "diesel\n"
     ]
    }
   ],
   "source": [
    "# Classes\n",
    "# constructors, attributes,methods\n",
    "\n",
    "\n",
    "# Classes = Real world entity or object.\n",
    "\n",
    "class Car:\n",
    "    pass\n",
    "\n",
    "# creation of objects\n",
    "car1 = Car()\n",
    "car2 = Car()\n",
    "\n",
    "print(car1)\n",
    "\n",
    "\n",
    "# Adding the properties of the class\n",
    "car1.windows = 4\n",
    "car1.tyres   = 4\n",
    "car1.engine  = \"petrol\"\n",
    "\n",
    "\n",
    "car2.windows = 6\n",
    "car2.tyres   = 6\n",
    "car2.engine  = \"diesel\"\n",
    "\n",
    "\n",
    "print(car1.engine)\n",
    "print(car2.engine)"
   ]
  },
  {
   "cell_type": "code",
   "execution_count": null,
   "metadata": {},
   "outputs": [],
   "source": []
  }
 ],
 "metadata": {
  "kernelspec": {
   "display_name": "Python 3",
   "language": "python",
   "name": "python3"
  },
  "language_info": {
   "codemirror_mode": {
    "name": "ipython",
    "version": 3
   },
   "file_extension": ".py",
   "mimetype": "text/x-python",
   "name": "python",
   "nbconvert_exporter": "python",
   "pygments_lexer": "ipython3",
   "version": "3.8.3"
  }
 },
 "nbformat": 4,
 "nbformat_minor": 4
}
