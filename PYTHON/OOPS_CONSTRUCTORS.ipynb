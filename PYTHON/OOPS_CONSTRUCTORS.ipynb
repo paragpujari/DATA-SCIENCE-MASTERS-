{
 "cells": [
  {
   "cell_type": "code",
   "execution_count": 3,
   "metadata": {},
   "outputs": [
    {
     "name": "stdout",
     "output_type": "stream",
     "text": [
      "dog\n",
      "Mammal\n",
      "17\n",
      "The animal is dog and says woof wwoof\n"
     ]
    }
   ],
   "source": [
    "class Animal:\n",
    "    # initialize the multiple constructors\n",
    "    def __init__(self, *args):\n",
    "        if(len(args) == 1):\n",
    "            self.name = args[0]\n",
    "        elif(len(args) == 2):\n",
    "            self.name    = args[0]\n",
    "            self.species = args[1]\n",
    "        elif(len(args) == 3):\n",
    "            self.name      = args[0]\n",
    "            self.species   = args[1]\n",
    "            self.age       = args[2]\n",
    "            \n",
    "    def make_sound(self, sound):\n",
    "        return(\"The animal is {} and says {}\".format(self.name, sound))\n",
    "    \n",
    "    \n",
    "# creating the objects of the class\n",
    "obj = Animal(\"dog\", \"Mammal\", 17)\n",
    "\n",
    "print(obj.name)\n",
    "print(obj.species)\n",
    "print(obj.age)\n",
    "print(obj.make_sound(\"woof wwoof\"))"
   ]
  },
  {
   "cell_type": "code",
   "execution_count": null,
   "metadata": {},
   "outputs": [],
   "source": []
  }
 ],
 "metadata": {
  "kernelspec": {
   "display_name": "Python 3",
   "language": "python",
   "name": "python3"
  },
  "language_info": {
   "codemirror_mode": {
    "name": "ipython",
    "version": 3
   },
   "file_extension": ".py",
   "mimetype": "text/x-python",
   "name": "python",
   "nbconvert_exporter": "python",
   "pygments_lexer": "ipython3",
   "version": "3.8.3"
  }
 },
 "nbformat": 4,
 "nbformat_minor": 4
}
