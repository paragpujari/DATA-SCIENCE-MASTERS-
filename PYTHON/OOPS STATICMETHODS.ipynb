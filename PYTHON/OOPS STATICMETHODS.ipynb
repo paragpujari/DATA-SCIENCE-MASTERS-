{
 "cells": [
  {
   "cell_type": "markdown",
   "metadata": {},
   "source": [
    "# STATICMETHODS\n",
    "\n",
    "It is the method that is used by the class and also by all the methods within the class."
   ]
  },
  {
   "cell_type": "code",
   "execution_count": 2,
   "metadata": {},
   "outputs": [],
   "source": [
    "class Employee:\n",
    "    # defining the instance methods\n",
    "    \n",
    "    def input_details(self,n,a,s):\n",
    "        self.name = n\n",
    "        self.age  = a\n",
    "        self.salary = s\n",
    "        \n",
    "    def print_details(self):\n",
    "        print(\"Name is:\", self.name)\n",
    "        print(\"Age  is:\", self.age)\n",
    "        print(\"Salary is:\", self.salary)\n",
    "        \n",
    "    # defining the static methods\n",
    "    @staticmethod\n",
    "    def print_address_details(address):\n",
    "        print(address)\n",
    "        \n",
    "    def print_employee_details(self):\n",
    "        print(\"Name is:\", self.name)\n",
    "        print(\"Age  is:\", self.age)\n",
    "        print(\"Salary is:\", self.salary)\n",
    "        # static method inside the instance method\n",
    "        print(self.print_address_details(\"Pradhan para Budharaja Sambalpur\"))"
   ]
  },
  {
   "cell_type": "code",
   "execution_count": 4,
   "metadata": {},
   "outputs": [
    {
     "name": "stdout",
     "output_type": "stream",
     "text": [
      "Name is: Parag\n",
      "Age  is: 28\n",
      "Salary is: 46017\n"
     ]
    }
   ],
   "source": [
    "# using the object to call all the methods inside the class\n",
    "obj = Employee()\n",
    "obj.input_details(\"Parag\", 28, 46017)\n",
    "obj.print_details()"
   ]
  },
  {
   "cell_type": "code",
   "execution_count": 5,
   "metadata": {},
   "outputs": [
    {
     "name": "stdout",
     "output_type": "stream",
     "text": [
      "D/49 Pradhanpara Budharaja Sambalpur Odisha - 768004\n"
     ]
    }
   ],
   "source": [
    "# using the class name to call the static method\n",
    "Employee.print_address_details(\"D/49 Pradhanpara Budharaja Sambalpur Odisha - 768004\")"
   ]
  },
  {
   "cell_type": "code",
   "execution_count": 6,
   "metadata": {},
   "outputs": [
    {
     "name": "stdout",
     "output_type": "stream",
     "text": [
      "Name is: Parag\n",
      "Age  is: 28\n",
      "Salary is: 46017\n",
      "Pradhan para Budharaja Sambalpur\n",
      "None\n"
     ]
    }
   ],
   "source": [
    "obj.print_employee_details()"
   ]
  },
  {
   "cell_type": "code",
   "execution_count": null,
   "metadata": {},
   "outputs": [],
   "source": []
  }
 ],
 "metadata": {
  "kernelspec": {
   "display_name": "Python 3",
   "language": "python",
   "name": "python3"
  },
  "language_info": {
   "codemirror_mode": {
    "name": "ipython",
    "version": 3
   },
   "file_extension": ".py",
   "mimetype": "text/x-python",
   "name": "python",
   "nbconvert_exporter": "python",
   "pygments_lexer": "ipython3",
   "version": "3.8.3"
  }
 },
 "nbformat": 4,
 "nbformat_minor": 4
}
