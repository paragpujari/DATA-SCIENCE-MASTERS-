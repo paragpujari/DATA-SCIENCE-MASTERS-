{
 "cells": [
  {
   "cell_type": "markdown",
   "metadata": {},
   "source": [
    "# Inheritance:\n",
    "\n",
    "It refers to the process of acquiring the properties of one class into another class."
   ]
  },
  {
   "cell_type": "markdown",
   "metadata": {},
   "source": [
    "# Types of Inheritance"
   ]
  },
  {
   "cell_type": "markdown",
   "metadata": {},
   "source": [
    "# 1. Single level Inheritance"
   ]
  },
  {
   "cell_type": "code",
   "execution_count": 4,
   "metadata": {},
   "outputs": [
    {
     "name": "stdout",
     "output_type": "stream",
     "text": [
      "Parag Pujari\n",
      "Manas Ranjan Pujari\n"
     ]
    }
   ],
   "source": [
    "class Parent:\n",
    "    def print_parent_class(self):\n",
    "        print(\"Manas Ranjan Pujari\")\n",
    "        \n",
    "class Child(Parent):\n",
    "    def print_child_class(self):\n",
    "        print(\"Parag Pujari\")\n",
    "        \n",
    "obj = Child()\n",
    "obj.print_child_class()\n",
    "obj.print_parent_class()"
   ]
  },
  {
   "cell_type": "code",
   "execution_count": 5,
   "metadata": {},
   "outputs": [
    {
     "name": "stdout",
     "output_type": "stream",
     "text": [
      "First Number is: 10\n",
      "Second Number is: 20\n",
      "Addition of two numbers are : 30\n"
     ]
    }
   ],
   "source": [
    "# Addition of two numbers using Single level Inheritance\n",
    "class Numbers:\n",
    "    def enter_numbers_data(self,x,y):\n",
    "        self.num1 = x\n",
    "        self.num2 = y\n",
    "        \n",
    "    def print_numbers_data(self):\n",
    "        print(\"First Number is:\", self.num1)\n",
    "        print(\"Second Number is:\", self.num2)\n",
    "        \n",
    "class Sum(Numbers):\n",
    "    def print_add_num(self):\n",
    "        sumans = self.num1 + self.num2\n",
    "        print(\"Addition of two numbers are :\", (self.num1 + self.num2))\n",
    "        \n",
    "obj = Sum()\n",
    "obj.enter_numbers_data(10,20)\n",
    "obj.print_numbers_data()\n",
    "obj.print_add_num()"
   ]
  },
  {
   "cell_type": "markdown",
   "metadata": {},
   "source": [
    "# 2. Multi level Inheritance"
   ]
  },
  {
   "cell_type": "code",
   "execution_count": 7,
   "metadata": {},
   "outputs": [
    {
     "name": "stdout",
     "output_type": "stream",
     "text": [
      "First Number is: 4\n",
      "Second Number is: 9\n",
      "Addition of two numbers is: 13\n"
     ]
    }
   ],
   "source": [
    "class Numa:\n",
    "    def enter_first_number(self,x):\n",
    "        self.num1 = x\n",
    "        \n",
    "    def print_first_number(self):\n",
    "        print(\"First Number is:\", self.num1)\n",
    "        \n",
    "class Numb(Numa):\n",
    "    def enter_second_number(self,y):\n",
    "        self.num2 = y\n",
    "        \n",
    "    def print_second_number(self):\n",
    "        print(\"Second Number is:\", self.num2)\n",
    "        \n",
    "class Sum_data(Numb):\n",
    "    def print_sum_data(self):\n",
    "        print(\"Addition of two numbers is:\", (self.num1 + self.num2))\n",
    "        \n",
    "        \n",
    "obj = Sum_data()\n",
    "obj.enter_first_number(4)\n",
    "obj.print_first_number()\n",
    "\n",
    "obj.enter_second_number(9)\n",
    "obj.print_second_number()\n",
    "\n",
    "obj.print_sum_data()"
   ]
  },
  {
   "cell_type": "markdown",
   "metadata": {},
   "source": [
    "# 3. Multiple Inheritance"
   ]
  },
  {
   "cell_type": "code",
   "execution_count": 8,
   "metadata": {},
   "outputs": [
    {
     "name": "stdout",
     "output_type": "stream",
     "text": [
      "First Number is: 4\n",
      "Second Number is: 5\n",
      "Multiplication of two numbers is: 20\n"
     ]
    }
   ],
   "source": [
    "class A:\n",
    "    def enter_A_details(self, c):\n",
    "        self.a = c\n",
    "        \n",
    "    def print_A_details(self):\n",
    "        print(\"First Number is:\", self.a)\n",
    "        \n",
    "class B:\n",
    "    def enter_B_details(self, d):\n",
    "        self.b = d\n",
    "        \n",
    "    def print_B_details(self):\n",
    "        print(\"Second Number is:\", self.b)\n",
    "        \n",
    "class Multiply(A,B):\n",
    "    def print_product_details(self):\n",
    "        print(\"Multiplication of two numbers is:\", (self.a * self.b))\n",
    "        \n",
    "        \n",
    "obj = Multiply()\n",
    "obj.enter_A_details(4)\n",
    "obj.print_A_details()\n",
    "\n",
    "obj.enter_B_details(5)\n",
    "obj.print_B_details()\n",
    "\n",
    "obj.print_product_details()\n",
    "        "
   ]
  },
  {
   "cell_type": "markdown",
   "metadata": {},
   "source": [
    "# 4. Hierarchical Inheritance"
   ]
  },
  {
   "cell_type": "code",
   "execution_count": 12,
   "metadata": {},
   "outputs": [
    {
     "name": "stdout",
     "output_type": "stream",
     "text": [
      "First number is: 10\n",
      "Second number is: 8\n",
      "-------------------------------------------------------------------\n",
      "First number is: 9\n",
      "Second number is: 5\n",
      "Addition of two numbers is: 14\n",
      "-------------------------------------------------------------------\n",
      "First number is: 9\n",
      "Second number is: 5\n",
      "Substraction of two numbers is: 4\n",
      "-------------------------------------------------------------------\n",
      "First number is: 9\n",
      "Second number is: 7\n",
      "Product of two numbers is: 63\n",
      "-------------------------------------------------------------------\n",
      "First number is: 10\n",
      "Second number is: 5\n",
      "Division of two numbers is: 2.0\n"
     ]
    }
   ],
   "source": [
    "class Numbers:\n",
    "    def enter_numbers_details(self,x,y):\n",
    "        self.a = x \n",
    "        self.b = y\n",
    "        \n",
    "    def print_numbers_details(self):\n",
    "        print(\"First number is:\", self.a)\n",
    "        print(\"Second number is:\", self.b)\n",
    "        \n",
    "class Addition(Numbers):\n",
    "    def print_sum_details(self):\n",
    "        print(\"Addition of two numbers is:\", (self.a + self.b))\n",
    "        \n",
    "class Substraction(Numbers):\n",
    "    def print_diff_details(self):\n",
    "        print(\"Substraction of two numbers is:\", (self.a - self.b))\n",
    "        \n",
    "class Multiplication(Numbers):\n",
    "    def print_product_details(self):\n",
    "        print(\"Product of two numbers is:\", (self.a * self.b))\n",
    "        \n",
    "class Division(Numbers):\n",
    "    def print_divide_details(self):\n",
    "        print(\"Division of two numbers is:\", (self.a / self.b))\n",
    "        \n",
    "        \n",
    "        \n",
    "obj = Numbers()\n",
    "obj.enter_numbers_details(10,8)\n",
    "obj.print_numbers_details()\n",
    "\n",
    "print('-------------------------------------------------------------------')\n",
    "\n",
    "add = Addition()\n",
    "add.enter_numbers_details(9,5)\n",
    "add.print_numbers_details()\n",
    "add.print_sum_details()\n",
    "\n",
    "print('-------------------------------------------------------------------')\n",
    "\n",
    "\n",
    "sub = Substraction()\n",
    "sub.enter_numbers_details(9,5)\n",
    "sub.print_numbers_details()\n",
    "sub.print_diff_details()\n",
    "\n",
    "print('-------------------------------------------------------------------')\n",
    "\n",
    "\n",
    "mul = Multiplication()\n",
    "mul.enter_numbers_details(9,7)\n",
    "mul.print_numbers_details()\n",
    "mul.print_product_details()\n",
    "\n",
    "\n",
    "print('-------------------------------------------------------------------')\n",
    "\n",
    "\n",
    "div = Division()\n",
    "div.enter_numbers_details(10,5)\n",
    "div.print_numbers_details()\n",
    "div.print_divide_details()"
   ]
  },
  {
   "cell_type": "markdown",
   "metadata": {},
   "source": [
    "# Inheritance Example"
   ]
  },
  {
   "cell_type": "code",
   "execution_count": 14,
   "metadata": {},
   "outputs": [
    {
     "name": "stdout",
     "output_type": "stream",
     "text": [
      "4\n",
      "200\n",
      "5\n",
      "Diesel\n",
      "It is used for self driving and it is a self driving car\n",
      "Car is used for driving\n"
     ]
    }
   ],
   "source": [
    "class Car:\n",
    "    def __init__(self,windows, doors, enginetype):\n",
    "        self.windows = windows\n",
    "        self.doors   = doors\n",
    "        self.enginetype = enginetype\n",
    "        \n",
    "    def driving(self):\n",
    "        print(\"Car is used for driving\")\n",
    "        \n",
    "class Audi(Car):\n",
    "    def __init__(self,windows,doors,enginetype,horsepower):\n",
    "        super().__init__(windows,doors,enginetype)\n",
    "        self.horsepower = horsepower\n",
    "        \n",
    "    def selfdriving(self):\n",
    "        print(\"It is used for self driving and it is a self driving car\")\n",
    "        \n",
    "a = Audi(4,5,\"Diesel\", 200)\n",
    "print(a.windows)\n",
    "print(a.horsepower)\n",
    "print(a.doors)\n",
    "print(a.enginetype)\n",
    "\n",
    "a.selfdriving()\n",
    "\n",
    "\n",
    "j = Car(4,5,\"Diesel\")\n",
    "j.driving()"
   ]
  },
  {
   "cell_type": "code",
   "execution_count": null,
   "metadata": {},
   "outputs": [],
   "source": []
  }
 ],
 "metadata": {
  "kernelspec": {
   "display_name": "Python 3",
   "language": "python",
   "name": "python3"
  },
  "language_info": {
   "codemirror_mode": {
    "name": "ipython",
    "version": 3
   },
   "file_extension": ".py",
   "mimetype": "text/x-python",
   "name": "python",
   "nbconvert_exporter": "python",
   "pygments_lexer": "ipython3",
   "version": "3.8.3"
  }
 },
 "nbformat": 4,
 "nbformat_minor": 4
}
