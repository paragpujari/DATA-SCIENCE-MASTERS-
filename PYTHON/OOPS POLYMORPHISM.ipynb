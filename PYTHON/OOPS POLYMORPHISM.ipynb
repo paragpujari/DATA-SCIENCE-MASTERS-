{
 "cells": [
  {
   "cell_type": "markdown",
   "metadata": {},
   "source": [
    "# Polymorphism\n",
    "\n",
    "It refers to the ability of an object to exists in multiple forms."
   ]
  },
  {
   "cell_type": "code",
   "execution_count": 1,
   "metadata": {},
   "outputs": [
    {
     "name": "stdout",
     "output_type": "stream",
     "text": [
      "15\n",
      "[1, 2, 3, 4, 5, 6, 7, 8, 9, 10]\n",
      "ParagPujari\n"
     ]
    }
   ],
   "source": [
    "def test(a,b):\n",
    "    print(a + b)\n",
    "    \n",
    "test(7,8)\n",
    "test([1,2,3,4,5],[6,7,8,9,10])\n",
    "test(\"Parag\",\"Pujari\")"
   ]
  },
  {
   "cell_type": "markdown",
   "metadata": {},
   "source": [
    "# 1. Method Overriding\n",
    "\n",
    "It refers to the ability of the child class to change some of the features of the parent class."
   ]
  },
  {
   "cell_type": "code",
   "execution_count": 5,
   "metadata": {},
   "outputs": [
    {
     "name": "stdout",
     "output_type": "stream",
     "text": [
      "The Dog is hungry so he is eating\n"
     ]
    }
   ],
   "source": [
    "class Animal:\n",
    "    def eating(self):\n",
    "        print(\"The Animal is hungry.\")\n",
    "        \n",
    "class Dog(Animal):\n",
    "    def eating(self):\n",
    "        print(\"The Dog is hungry so he is eating\")\n",
    "        \n",
    "        \n",
    "obj = Dog()\n",
    "obj.eating()"
   ]
  },
  {
   "cell_type": "markdown",
   "metadata": {},
   "source": [
    "# 2. Method Overloading"
   ]
  },
  {
   "cell_type": "code",
   "execution_count": 6,
   "metadata": {},
   "outputs": [
    {
     "name": "stdout",
     "output_type": "stream",
     "text": [
      "ParagPujari\n",
      "[10, 20, 30, 40, 50, 60, 70, 80]\n",
      "30\n"
     ]
    }
   ],
   "source": [
    "class Tools:\n",
    "    def add(self, a, b):\n",
    "        print(a + b)\n",
    "        \n",
    "    def add(self, a, b):\n",
    "        print(a + b)\n",
    "        \n",
    "    def add(self, a, b):\n",
    "        print(a + b)\n",
    "        \n",
    "# creation of objects\n",
    "obj = Tools()\n",
    "obj.add(\"Parag\",\"Pujari\")\n",
    "obj.add([10,20,30,40],[50,60,70,80])\n",
    "obj.add(10,20)"
   ]
  },
  {
   "cell_type": "code",
   "execution_count": null,
   "metadata": {},
   "outputs": [],
   "source": []
  }
 ],
 "metadata": {
  "kernelspec": {
   "display_name": "Python 3",
   "language": "python",
   "name": "python3"
  },
  "language_info": {
   "codemirror_mode": {
    "name": "ipython",
    "version": 3
   },
   "file_extension": ".py",
   "mimetype": "text/x-python",
   "name": "python",
   "nbconvert_exporter": "python",
   "pygments_lexer": "ipython3",
   "version": "3.8.3"
  }
 },
 "nbformat": 4,
 "nbformat_minor": 4
}
