{
 "cells": [
  {
   "cell_type": "markdown",
   "metadata": {},
   "source": [
    "## why functions?\n",
    "###  1. to make code more readable\n",
    "###  2. to make code more efficient\n",
    "###  3. to make code more maintainable\n",
    "###  4. to make code more reusable\n",
    "###  5. to make code more extensible\n",
    "\n",
    "\n",
    "# function"
   ]
  },
  {
   "cell_type": "code",
   "execution_count": 2,
   "metadata": {},
   "outputs": [
    {
     "name": "stdout",
     "output_type": "stream",
     "text": [
      "Welcome All my subscribers\n"
     ]
    }
   ],
   "source": [
    "def welcome(msg):\n",
    "    \"\"\"\n",
    "    Description: This function will show a welcome message\n",
    "    \n",
    "\n",
    "    Return : This function will return the welcome message \n",
    "    \"\"\"\n",
    "    return(msg)\n",
    "\n",
    "ans = welcome(\"Welcome All\")\n",
    "print(ans + \" my subscribers\")"
   ]
  },
  {
   "cell_type": "code",
   "execution_count": 4,
   "metadata": {},
   "outputs": [
    {
     "name": "stdout",
     "output_type": "stream",
     "text": [
      "tools\n"
     ]
    }
   ],
   "source": [
    "def messages(text):\n",
    "    print(\"tools\")\n",
    "    \n",
    "messages(\"I live in sambalpur\")"
   ]
  },
  {
   "cell_type": "code",
   "execution_count": 5,
   "metadata": {},
   "outputs": [
    {
     "name": "stdout",
     "output_type": "stream",
     "text": [
      "88 741\n"
     ]
    }
   ],
   "source": [
    "## function to add even and odd number\n",
    "def even_odd_sum(lst):\n",
    "    sum_odd = 0\n",
    "    sum_even = 0\n",
    "    for i in lst:\n",
    "        if((i%2) == 0):\n",
    "            sum_even = sum_even + i\n",
    "        else:\n",
    "            sum_odd  = sum_odd + i\n",
    "    return(sum_even, sum_odd)\n",
    "\n",
    "\n",
    "sum1, sum2 = even_odd_sum([1,2,3,45,6,677,7,8,8,54,4,3,5,6])\n",
    "print(sum1, sum2)"
   ]
  },
  {
   "cell_type": "code",
   "execution_count": null,
   "metadata": {},
   "outputs": [],
   "source": []
  }
 ],
 "metadata": {
  "kernelspec": {
   "display_name": "Python 3",
   "language": "python",
   "name": "python3"
  },
  "language_info": {
   "codemirror_mode": {
    "name": "ipython",
    "version": 3
   },
   "file_extension": ".py",
   "mimetype": "text/x-python",
   "name": "python",
   "nbconvert_exporter": "python",
   "pygments_lexer": "ipython3",
   "version": "3.8.3"
  }
 },
 "nbformat": 4,
 "nbformat_minor": 4
}
