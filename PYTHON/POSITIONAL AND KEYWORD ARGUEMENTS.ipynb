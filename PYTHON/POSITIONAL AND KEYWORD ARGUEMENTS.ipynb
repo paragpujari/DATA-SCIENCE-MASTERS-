{
 "cells": [
  {
   "cell_type": "code",
   "execution_count": 11,
   "metadata": {},
   "outputs": [],
   "source": [
    "# Positional Arguements\n",
    "def messages(name, age):\n",
    "    print(\"Hi\" + ' '+ name + '.' + \" I am \" + str(age) + ' ' + \"years old.\")"
   ]
  },
  {
   "cell_type": "code",
   "execution_count": 12,
   "metadata": {},
   "outputs": [
    {
     "name": "stdout",
     "output_type": "stream",
     "text": [
      "Hi Parag. I am 28 years old.\n"
     ]
    }
   ],
   "source": [
    "messages(\"Parag\", 28)"
   ]
  },
  {
   "cell_type": "code",
   "execution_count": 13,
   "metadata": {},
   "outputs": [
    {
     "name": "stdout",
     "output_type": "stream",
     "text": [
      "Hi Parag. I am 28 years old.\n"
     ]
    }
   ],
   "source": [
    "# Keyword Arguements\n",
    "def messages(name, age = 28):\n",
    "    print(\"Hi\" + ' '+ name + '.' + \" I am \" + str(age) + ' ' + \"years old.\")\n",
    "    \n",
    "messages(\"Parag\")"
   ]
  },
  {
   "cell_type": "code",
   "execution_count": 20,
   "metadata": {},
   "outputs": [
    {
     "name": "stdout",
     "output_type": "stream",
     "text": [
      "('Parag', 'Pujari')\n",
      "{'age': 28, 'dob': 1995}\n"
     ]
    }
   ],
   "source": [
    "def hello(*args, **kwargs):\n",
    "    print(args)\n",
    "    print(kwargs)\n",
    "    \n",
    "# combination of positional and keywords arguements\n",
    "hello(\"Parag\", \"Pujari\", age = 28, dob = 1995)"
   ]
  },
  {
   "cell_type": "code",
   "execution_count": 22,
   "metadata": {},
   "outputs": [
    {
     "name": "stdout",
     "output_type": "stream",
     "text": [
      "['Parag', 'Pujari']\n"
     ]
    }
   ],
   "source": [
    "lst = list(('Parag', 'Pujari'))\n",
    "print(lst)\n",
    "\n",
    "dict_val = {'age':28, 'dob' : 1995}\n"
   ]
  },
  {
   "cell_type": "code",
   "execution_count": 23,
   "metadata": {},
   "outputs": [
    {
     "name": "stdout",
     "output_type": "stream",
     "text": [
      "(['Parag', 'Pujari'], {'age': 28, 'dob': 1995})\n",
      "{}\n"
     ]
    }
   ],
   "source": [
    "hello(lst, dict_val)"
   ]
  },
  {
   "cell_type": "code",
   "execution_count": 24,
   "metadata": {},
   "outputs": [
    {
     "name": "stdout",
     "output_type": "stream",
     "text": [
      "('Parag', 'Pujari')\n",
      "{'age': 28, 'dob': 1995}\n"
     ]
    }
   ],
   "source": [
    "hello(*lst, **dict_val)"
   ]
  },
  {
   "cell_type": "code",
   "execution_count": 25,
   "metadata": {},
   "outputs": [
    {
     "name": "stdout",
     "output_type": "stream",
     "text": [
      "('Parag', 'Pujari', '1', '7', '1995')\n",
      "{'age': 28, 'dob': 1995}\n"
     ]
    }
   ],
   "source": [
    "hello(\"Parag\",\"Pujari\",\"1\",\"7\",\"1995\", age = 28, dob = 1995)"
   ]
  },
  {
   "cell_type": "code",
   "execution_count": null,
   "metadata": {},
   "outputs": [],
   "source": []
  }
 ],
 "metadata": {
  "kernelspec": {
   "display_name": "Python 3",
   "language": "python",
   "name": "python3"
  },
  "language_info": {
   "codemirror_mode": {
    "name": "ipython",
    "version": 3
   },
   "file_extension": ".py",
   "mimetype": "text/x-python",
   "name": "python",
   "nbconvert_exporter": "python",
   "pygments_lexer": "ipython3",
   "version": "3.8.3"
  }
 },
 "nbformat": 4,
 "nbformat_minor": 4
}
