{
 "cells": [
  {
   "cell_type": "code",
   "execution_count": 1,
   "metadata": {},
   "outputs": [],
   "source": [
    "class PWSkills:\n",
    "    # define the details of the students\n",
    "    def enter_students_details(self,n,a,s):\n",
    "        self.name = n\n",
    "        self.age  = a\n",
    "        self.salary = s\n",
    "        \n",
    "    def print_students_details(self):\n",
    "        print(\"Student's name :\", self.name)\n",
    "        print(\"Student's age  :\", self.age)\n",
    "        print(\"Student's salary :\", self.salary)\n",
    "        \n",
    "        \n",
    "    # define the static method\n",
    "    @staticmethod\n",
    "    def print_mentor_list(mentor):\n",
    "        print(mentor)\n",
    "        \n",
    "    @staticmethod\n",
    "    def print_student_list(students):\n",
    "        print(students)"
   ]
  },
  {
   "cell_type": "code",
   "execution_count": 2,
   "metadata": {},
   "outputs": [
    {
     "name": "stdout",
     "output_type": "stream",
     "text": [
      "Student's name : Parag\n",
      "Student's age  : 28\n",
      "Student's salary : 40000\n"
     ]
    }
   ],
   "source": [
    "# define the objects for the class\n",
    "obj = PWSkills()\n",
    "obj.enter_students_details(\"Parag\", 28, 40000)\n",
    "obj.print_students_details()\n"
   ]
  },
  {
   "cell_type": "code",
   "execution_count": 3,
   "metadata": {},
   "outputs": [
    {
     "name": "stdout",
     "output_type": "stream",
     "text": [
      "Ashwani\n"
     ]
    }
   ],
   "source": [
    "# Calling the static method using the class name\n",
    "PWSkills.print_mentor_list(\"Ashwani\")"
   ]
  },
  {
   "cell_type": "code",
   "execution_count": 4,
   "metadata": {},
   "outputs": [
    {
     "name": "stdout",
     "output_type": "stream",
     "text": [
      "Parag, Nishant, Sristy, Subham, Sudeshna\n"
     ]
    }
   ],
   "source": [
    "PWSkills.print_student_list(\"Parag, Nishant, Sristy, Subham, Sudeshna\")"
   ]
  },
  {
   "cell_type": "code",
   "execution_count": null,
   "metadata": {},
   "outputs": [],
   "source": []
  }
 ],
 "metadata": {
  "kernelspec": {
   "display_name": "Python 3",
   "language": "python",
   "name": "python3"
  },
  "language_info": {
   "codemirror_mode": {
    "name": "ipython",
    "version": 3
   },
   "file_extension": ".py",
   "mimetype": "text/x-python",
   "name": "python",
   "nbconvert_exporter": "python",
   "pygments_lexer": "ipython3",
   "version": "3.8.3"
  }
 },
 "nbformat": 4,
 "nbformat_minor": 4
}
