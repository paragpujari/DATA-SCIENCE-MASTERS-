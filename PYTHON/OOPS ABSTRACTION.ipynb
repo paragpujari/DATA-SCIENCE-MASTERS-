{
 "cells": [
  {
   "cell_type": "markdown",
   "metadata": {},
   "source": [
    "# Abstraction\n",
    "\n",
    "It refers to the process of representing all the external features without representing the internal details."
   ]
  },
  {
   "cell_type": "code",
   "execution_count": 3,
   "metadata": {},
   "outputs": [
    {
     "name": "stdout",
     "output_type": "stream",
     "text": [
      "Area of the Rectangle is: 9600\n",
      "Perimeter of the Rectangle is: 400\n",
      "Area of the Square is: 100\n",
      "Perimeter of the Square is: 40\n",
      "Area of the Circle is: 248.87782\n",
      "Perimeter of the circle is: 55.9276\n",
      "Area of the triangle is: 3600.0\n",
      "Perimeter of the triangle is: 170\n"
     ]
    }
   ],
   "source": [
    "# define the abstract class\n",
    "from abc import ABC, abstractmethod\n",
    "class Shape(ABC):\n",
    "    # define the abstract method\n",
    "    def print_area(self):\n",
    "        pass\n",
    "    \n",
    "# define the non-abstract class\n",
    "class Rectangle(Shape):\n",
    "    # define the non- abstract methods\n",
    "    def enter_rectangle_details(self,l,b):\n",
    "        self.length = l\n",
    "        self.breadth = b\n",
    "        \n",
    "    def print_area_rectangle(self):\n",
    "        print(\"Area of the Rectangle is:\", (self.length * self.breadth))\n",
    "        \n",
    "    def print_perimeter_rectangle(self):\n",
    "        print(\"Perimeter of the Rectangle is:\", 2*(self.length + self.breadth))\n",
    "        \n",
    "        \n",
    "class Square(Shape):\n",
    "    # define the non abstarct methods\n",
    "    def enter_square_details(self,s):\n",
    "        self.side = s\n",
    "        \n",
    "    def print_area_square(self):\n",
    "        print(\"Area of the Square is:\", (self.side * self.side))\n",
    "        \n",
    "    def print_perimeter_square(self):\n",
    "        print(\"Perimeter of the Square is:\", (4*self.side))\n",
    "        \n",
    "        \n",
    "class Circle(Shape):\n",
    "    # define the non abstract methods\n",
    "    def enter_circle_details(self, r):\n",
    "        self.radius = r\n",
    "        \n",
    "    def print_area_circle(self):\n",
    "        print(\"Area of the Circle is:\", (3.142 * self.radius * self.radius))\n",
    "        \n",
    "    def print_perimeter_circle(self):\n",
    "        print(\"Perimeter of the circle is:\", (2 * 3.142 * self.radius))\n",
    "        \n",
    "class Triangle(Shape):\n",
    "    # define the non abstract methods\n",
    "    def enter_triangle_details(self, b, h):\n",
    "        self.base = b\n",
    "        self.height = h\n",
    "        \n",
    "    def print_area_triangle(self):\n",
    "        print(\"Area of the triangle is:\", (0.5 * self.base * self.height))\n",
    "        \n",
    "    def print_perimeter_traingle(self):\n",
    "        print(\"Perimeter of the triangle is:\",(self.base + self.height))\n",
    "        \n",
    "# create the object for non abstract class and we cannot create the object for abstract class\n",
    "rec = Rectangle()\n",
    "rec.enter_rectangle_details(120,80)\n",
    "rec.print_area_rectangle()\n",
    "rec.print_perimeter_rectangle()\n",
    "\n",
    "squ = Square()\n",
    "squ.enter_square_details(10)\n",
    "squ.print_area_square()\n",
    "squ.print_perimeter_square()\n",
    "\n",
    "cir = Circle()\n",
    "cir.enter_circle_details(8.9)\n",
    "cir.print_area_circle()\n",
    "cir.print_perimeter_circle()\n",
    "\n",
    "tri = Triangle()\n",
    "tri.enter_triangle_details(90,80)\n",
    "tri.print_area_triangle()\n",
    "tri.print_perimeter_traingle()"
   ]
  },
  {
   "cell_type": "code",
   "execution_count": null,
   "metadata": {},
   "outputs": [],
   "source": []
  }
 ],
 "metadata": {
  "kernelspec": {
   "display_name": "Python 3",
   "language": "python",
   "name": "python3"
  },
  "language_info": {
   "codemirror_mode": {
    "name": "ipython",
    "version": 3
   },
   "file_extension": ".py",
   "mimetype": "text/x-python",
   "name": "python",
   "nbconvert_exporter": "python",
   "pygments_lexer": "ipython3",
   "version": "3.8.3"
  }
 },
 "nbformat": 4,
 "nbformat_minor": 4
}
