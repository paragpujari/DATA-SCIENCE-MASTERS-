{
  "cells": [
    {
      "cell_type": "markdown",
      "metadata": {
        "id": "Xf0fT1z1fNtX"
      },
      "source": [
        "# Feature Scaling\n",
        "\n",
        "## 1. Standardization\n",
        "\n",
        "## 2. Normalization\n",
        "\n",
        "## 3. Unit Vector"
      ]
    },
    {
      "cell_type": "code",
      "execution_count": 1,
      "metadata": {
        "id": "i2LKxugufNtY"
      },
      "outputs": [],
      "source": [
        "import seaborn as sns"
      ]
    },
    {
      "cell_type": "code",
      "execution_count": 2,
      "metadata": {
        "id": "hj8h0Y3efNtZ"
      },
      "outputs": [],
      "source": [
        "# loading the dataset\n",
        "data = sns.load_dataset('tips')"
      ]
    },
    {
      "cell_type": "code",
      "execution_count": 3,
      "metadata": {
        "colab": {
          "base_uri": "https://localhost:8080/"
        },
        "id": "9EacAfSffNta",
        "outputId": "31af76a4-aac6-4ae9-ea52-b6592a838727"
      },
      "outputs": [
        {
          "output_type": "stream",
          "name": "stdout",
          "text": [
            "   total_bill   tip     sex smoker  day    time  size\n",
            "0       16.99  1.01  Female     No  Sun  Dinner     2\n",
            "1       10.34  1.66    Male     No  Sun  Dinner     3\n",
            "2       21.01  3.50    Male     No  Sun  Dinner     3\n",
            "3       23.68  3.31    Male     No  Sun  Dinner     2\n",
            "4       24.59  3.61  Female     No  Sun  Dinner     4\n"
          ]
        }
      ],
      "source": [
        "# display the first five rows of the dataset\n",
        "print(data.head())"
      ]
    },
    {
      "cell_type": "code",
      "execution_count": 4,
      "metadata": {
        "id": "DKIYt7cffNta"
      },
      "outputs": [],
      "source": [
        "# find the mean and standard deviation on the total_bill  column\n",
        "import numpy as np\n",
        "mean = np.mean(data['total_bill'])\n",
        "std_dev = np.std(data['total_bill'])"
      ]
    },
    {
      "cell_type": "code",
      "execution_count": 5,
      "metadata": {
        "colab": {
          "base_uri": "https://localhost:8080/"
        },
        "id": "u5rCPCVyfNtb",
        "outputId": "5d14892f-cc05-477a-c0fa-e88ef93e3381"
      },
      "outputs": [
        {
          "output_type": "stream",
          "name": "stdout",
          "text": [
            "Mean Value is: 19.78594262295082\n",
            "Standard Deviation is: 8.884150577771132\n"
          ]
        }
      ],
      "source": [
        "print(\"Mean Value is:\", mean)\n",
        "print(\"Standard Deviation is:\", std_dev)"
      ]
    },
    {
      "cell_type": "code",
      "execution_count": 6,
      "metadata": {
        "id": "NTKIZSVTfNtb"
      },
      "outputs": [],
      "source": [
        "# Find the z-score on the total bill\n",
        "normalized = []\n",
        "\n",
        "for i in list(data['total_bill']):\n",
        "    z_score = (i - mean)/std_dev\n",
        "    normalized.append(z_score)"
      ]
    },
    {
      "cell_type": "code",
      "execution_count": 7,
      "metadata": {
        "colab": {
          "base_uri": "https://localhost:8080/"
        },
        "id": "p_q9xPhqfNtc",
        "outputId": "35cd4786-90f8-4512-b855-5e89d3c0b965"
      },
      "outputs": [
        {
          "output_type": "stream",
          "name": "stdout",
          "text": [
            "[-0.3147113050904943, -1.0632353132988692, 0.13777989987156145, 0.43831510316725475, 0.540744704290506, 0.6195367051545455, -1.2399545152367863, 0.7985071071171495, -0.5342033074974614, -0.5634689078183903, -1.0711145133852733, 1.7417599174609364, -0.49143050702841123, -0.15262490331304146, -0.557840907756673, 0.2019391005751361, -1.0643609133112126, -0.3935033059545337, -0.31696250511518104, 0.09725829942719795, -0.2100305039425557, 0.05673669898283484, -0.45203450659639155, 2.2100095225958003, 0.003833498402694168, -0.2224121040783337, -0.7221785095588127, -0.7987193103981653, 0.21544630072325727, -0.015301701807144186, -1.1521577142739994, -0.16162970341178864, -0.5319521074727743, 0.10176069947657193, -0.22578890411536368, 0.4810879036363046, -0.3912521059298469, -0.32146490516455467, -0.12335930299211233, 1.2926455125359115, -0.4216433062631192, -0.2618081045103532, -0.6580193088552376, -1.137524914113535, 1.1947183114620337, -0.16838330348584943, 0.2751031013774587, 1.419838313930718, 0.986482309178501, -0.19652330379443494, -0.8156033105833167, -1.0688633133605865, 1.691107916905483, -1.1082593137926062, 0.6499279054878179, -0.03331130200463894, 2.051299920855377, 0.7456039065370088, -0.9619313121879614, 3.206165533519728, 0.05673669898283484, -0.672652109015702, -0.9866945124595167, -0.16838330348584943, -0.24717530434988882, 0.0330990987236229, -0.37549370575703894, -1.8815465222725365, 0.049983098908774455, -0.5375801075344916, -0.8741345112251745, -0.3057065049917467, 0.7962559070924626, 0.6184111051422023, -0.5690969078801073, -1.044100113089031, -0.2100305039425557, 0.834526307512139, 0.3347599020316602, -0.2809433047201916, -0.03893930206635573, -0.351856105497827, -1.0936265136321417, 1.451355114276334, -0.4283969063371796, 1.6933591169301694, -0.760448909978489, -0.16950890349819261, 0.5542519044386273, 0.1546639000567126, 1.0337575096969245, 0.3043687016983874, -1.5798857189644997, -0.3901265059175033, 0.3336343020193166, 2.294429523521557, 0.8435311076108866, -0.8730089112128311, 0.13777989987156145, -0.8246081106820639, -0.9495497120521837, -0.4959329070777848, 2.759302328619389, 0.29648950161198384, 0.12764949976047066, -0.49818410710247185, 0.07924869922970319, 0.6105319050557984, -0.1740113035475666, -0.616372108398531, -0.6512657087811771, -1.4110457171129864, 2.058053520929438, 0.46870630350052706, 0.6668119056729693, -0.27869210469550476, 1.141815110881893, -1.0283417129162231, -0.8279849107190942, 0.4833391036609914, -0.9112793116325074, -0.7165505094970955, -0.6220001084602481, -0.43177370637421, -0.822356910657377, 1.1271823107214287, -1.268094515545372, -0.5927345081393192, -0.9461729120151534, 0.34151350210572057, -0.07946090251071923, 0.05448549895814805, -0.9698105122743653, -0.8471201109289324, -0.1717601035228794, -1.2692201155577154, -1.0643609133112126, -0.6343817085960257, -0.4261457063124928, -0.7458161098180245, -0.26068250449801, 1.6337023162759678, 2.4092407247805854, 0.8176423073269878, -0.3777449057817257, -1.2872297157552102, -0.12898730305382952, -0.8910185114103258, -1.126268913990101, -1.3817801167920576, -0.6433865086947731, -0.7491929098550546, -0.2843201047572215, 0.5362423042411325, -0.0017945016590230187, 1.1328103107831458, 3.194909533396294, 0.5868943047965863, -0.7199273095341256, -0.3709913057076653, 0.1929343004763889, -0.8020961104351955, -0.40250810605328086, -0.672652109015702, -0.25618010444863604, 0.5328655042041021, 0.10963989956297591, 1.3421719130790222, -1.0350953129902838, -1.03059291294091, 3.492067936654957, -0.44753210654701775, -1.4110457171129864, 1.3579303132518301, -0.3338465053003322, 1.476118314547889, -0.2134073039795861, -0.5972369081886928, -1.1465297142122826, 1.6708471166833014, 1.6730983167079878, 0.39891910273523484, 2.877490329915449, 0.3809095025377405, 2.3372023239906063, 0.10176069947657193, 0.12539829973578348, 1.2014719115360946, -0.18414170365865737, 0.3730303024513365, -0.46103930669513893, 0.0027078983903505707, 0.9741007090427235, -0.4846769069543507, -0.3608609055965746, -1.3761521167303405, -1.0632353132988692, 2.6253559271505225, -0.7638257100155192, -0.7064201093860047, -0.12110810296742554, -0.7930913103364481, -0.7638257100155192, -0.3811217058187561, 0.08375109927907717, -0.3732425057323521, 0.7658647067591904, 2.1323431217441033, 0.5047255038955165, -0.7908401103117614, 1.1564479110423573, 0.6870727058951509, 3.212919133593788, -0.7334345096822469, 0.9437095087094511, -0.7750817101389533, 0.9414583086847639, -0.9225353117559416, -1.3558913165081588, 1.165452711141105, -0.8583761110523666, -0.7165505094970955, -1.2613409154713113, -0.4283969063371796, -0.7165505094970955, -0.39575450597922046, -1.0913753136074549, 0.0747462991803296, -0.7323089096699035, 0.26272150124168114, 0.47545990357458784, -0.46103930669513893, -0.9202841117312548, -1.0148345127681022, -0.4790489068926337, -1.0936265136321417, -0.8088497105092561, 1.468239114461485, 1.8059191181645116, 1.0405111097709854, 0.8322751074874521, 0.3246295019205694, -0.2212865040659901, -0.11322890288102155]\n"
          ]
        }
      ],
      "source": [
        "print(normalized)"
      ]
    },
    {
      "cell_type": "code",
      "execution_count": 8,
      "metadata": {
        "colab": {
          "base_uri": "https://localhost:8080/",
          "height": 469
        },
        "id": "fyVlHhrgfNtc",
        "outputId": "debfff21-cbed-44a6-c68f-b0b5c219f51c"
      },
      "outputs": [
        {
          "output_type": "execute_result",
          "data": {
            "text/plain": [
              "<Axes: xlabel='total_bill', ylabel='Count'>"
            ]
          },
          "metadata": {},
          "execution_count": 8
        },
        {
          "output_type": "display_data",
          "data": {
            "text/plain": [
              "<Figure size 640x480 with 1 Axes>"
            ],
            "image/png": "[encoded data removed]"
          },
          "metadata": {}
        }
      ],
      "source": [
        "# plotting the original data\n",
        "sns.histplot(data['total_bill'])"
      ]
    },
    {
      "cell_type": "code",
      "execution_count": 9,
      "metadata": {
        "colab": {
          "base_uri": "https://localhost:8080/",
          "height": 449
        },
        "id": "0Je4BhcOfNtc",
        "outputId": "003f0050-1554-48a7-c1b5-e8cddf89b913"
      },
      "outputs": [
        {
          "output_type": "execute_result",
          "data": {
            "text/plain": [
              "<Axes: ylabel='Count'>"
            ]
          },
          "metadata": {},
          "execution_count": 9
        },
        {
          "output_type": "display_data",
          "data": {
            "text/plain": [
              "<Figure size 640x480 with 1 Axes>"
            ],
            "image/png": "[encoded data removed]"
          },
          "metadata": {}
        }
      ],
      "source": [
        "# plotting the normalized data\n",
        "sns.histplot(normalized)"
      ]
    },
    {
      "cell_type": "markdown",
      "source": [
        "**STANDARD SCALER**"
      ],
      "metadata": {
        "id": "nT6VpzU9fqCz"
      }
    },
    {
      "cell_type": "code",
      "source": [
        "# perform the standard scaling oin total bill\n",
        "from sklearn.preprocessing import StandardScaler"
      ],
      "metadata": {
        "id": "SpL2YY-dfvwg"
      },
      "execution_count": 10,
      "outputs": []
    },
    {
      "cell_type": "code",
      "source": [
        "scaler = StandardScaler()"
      ],
      "metadata": {
        "id": "5-037bIdf4Is"
      },
      "execution_count": 11,
      "outputs": []
    },
    {
      "cell_type": "code",
      "source": [
        "scaler.fit(data[['total_bill']])"
      ],
      "metadata": {
        "colab": {
          "base_uri": "https://localhost:8080/",
          "height": 75
        },
        "id": "i0jpKgCSf9N1",
        "outputId": "1f86fbcf-a48d-4b13-bbd9-9ff926fab8ce"
      },
      "execution_count": 14,
      "outputs": [
        {
          "output_type": "execute_result",
          "data": {
            "text/plain": [
              "StandardScaler()"
            ],
            "text/html": [
              "<style>#sk-container-id-1 {color: black;background-color: white;}#sk-container-id-1 pre{padding: 0;}#sk-container-id-1 div.sk-toggleable {background-color: white;}#sk-container-id-1 label.sk-toggleable__label {cursor: pointer;display: block;width: 100%;margin-bottom: 0;padding: 0.3em;box-sizing: border-box;text-align: center;}#sk-container-id-1 label.sk-toggleable__label-arrow:before {content: \"▸\";float: left;margin-right: 0.25em;color: #696969;}#sk-container-id-1 label.sk-toggleable__label-arrow:hover:before {color: black;}#sk-container-id-1 div.sk-estimator:hover label.sk-toggleable__label-arrow:before {color: black;}#sk-container-id-1 div.sk-toggleable__content {max-height: 0;max-width: 0;overflow: hidden;text-align: left;background-color: #f0f8ff;}#sk-container-id-1 div.sk-toggleable__content pre {margin: 0.2em;color: black;border-radius: 0.25em;background-color: #f0f8ff;}#sk-container-id-1 input.sk-toggleable__control:checked~div.sk-toggleable__content {max-height: 200px;max-width: 100%;overflow: auto;}#sk-container-id-1 input.sk-toggleable__control:checked~label.sk-toggleable__label-arrow:before {content: \"▾\";}#sk-container-id-1 div.sk-estimator input.sk-toggleable__control:checked~label.sk-toggleable__label {background-color: #d4ebff;}#sk-container-id-1 div.sk-label input.sk-toggleable__control:checked~label.sk-toggleable__label {background-color: #d4ebff;}#sk-container-id-1 input.sk-hidden--visually {border: 0;clip: rect(1px 1px 1px 1px);clip: rect(1px, 1px, 1px, 1px);height: 1px;margin: -1px;overflow: hidden;padding: 0;position: absolute;width: 1px;}#sk-container-id-1 div.sk-estimator {font-family: monospace;background-color: #f0f8ff;border: 1px dotted black;border-radius: 0.25em;box-sizing: border-box;margin-bottom: 0.5em;}#sk-container-id-1 div.sk-estimator:hover {background-color: #d4ebff;}#sk-container-id-1 div.sk-parallel-item::after {content: \"\";width: 100%;border-bottom: 1px solid gray;flex-grow: 1;}#sk-container-id-1 div.sk-label:hover label.sk-toggleable__label {background-color: #d4ebff;}#sk-container-id-1 div.sk-serial::before {content: \"\";position: absolute;border-left: 1px solid gray;box-sizing: border-box;top: 0;bottom: 0;left: 50%;z-index: 0;}#sk-container-id-1 div.sk-serial {display: flex;flex-direction: column;align-items: center;background-color: white;padding-right: 0.2em;padding-left: 0.2em;position: relative;}#sk-container-id-1 div.sk-item {position: relative;z-index: 1;}#sk-container-id-1 div.sk-parallel {display: flex;align-items: stretch;justify-content: center;background-color: white;position: relative;}#sk-container-id-1 div.sk-item::before, #sk-container-id-1 div.sk-parallel-item::before {content: \"\";position: absolute;border-left: 1px solid gray;box-sizing: border-box;top: 0;bottom: 0;left: 50%;z-index: -1;}#sk-container-id-1 div.sk-parallel-item {display: flex;flex-direction: column;z-index: 1;position: relative;background-color: white;}#sk-container-id-1 div.sk-parallel-item:first-child::after {align-self: flex-end;width: 50%;}#sk-container-id-1 div.sk-parallel-item:last-child::after {align-self: flex-start;width: 50%;}#sk-container-id-1 div.sk-parallel-item:only-child::after {width: 0;}#sk-container-id-1 div.sk-dashed-wrapped {border: 1px dashed gray;margin: 0 0.4em 0.5em 0.4em;box-sizing: border-box;padding-bottom: 0.4em;background-color: white;}#sk-container-id-1 div.sk-label label {font-family: monospace;font-weight: bold;display: inline-block;line-height: 1.2em;}#sk-container-id-1 div.sk-label-container {text-align: center;}#sk-container-id-1 div.sk-container {/* jupyter's `normalize.less` sets `[hidden] { display: none; }` but bootstrap.min.css set `[hidden] { display: none !important; }` so we also need the `!important` here to be able to override the default hidden behavior on the sphinx rendered scikit-learn.org. See: https://github.com/scikit-learn/scikit-learn/issues/21755 */display: inline-block !important;position: relative;}#sk-container-id-1 div.sk-text-repr-fallback {display: none;}</style><div id=\"sk-container-id-1\" class=\"sk-top-container\"><div class=\"sk-text-repr-fallback\"><pre>StandardScaler()</pre><b>In a Jupyter environment, please rerun this cell to show the HTML representation or trust the notebook. <br />On GitHub, the HTML representation is unable to render, please try loading this page with nbviewer.org.</b></div><div class=\"sk-container\" hidden><div class=\"sk-item\"><div class=\"sk-estimator sk-toggleable\"><input class=\"sk-toggleable__control sk-hidden--visually\" id=\"sk-estimator-id-1\" type=\"checkbox\" checked><label for=\"sk-estimator-id-1\" class=\"sk-toggleable__label sk-toggleable__label-arrow\">StandardScaler</label><div class=\"sk-toggleable__content\"><pre>StandardScaler()</pre></div></div></div></div></div>"
            ]
          },
          "metadata": {},
          "execution_count": 14
        }
      ]
    },
    {
      "cell_type": "code",
      "source": [
        "# transform the total_bill values in the range of 0 to 1\n",
        "scaler.transform(data[['total_bill']])"
      ],
      "metadata": {
        "colab": {
          "base_uri": "https://localhost:8080/"
        },
        "id": "C9r7hSl8gNB0",
        "outputId": "d2a7b68a-9ae5-4f74-af10-47486b932c6e"
      },
      "execution_count": 15,
      "outputs": [
        {
          "output_type": "execute_result",
          "data": {
            "text/plain": [
              "array([[-3.14711305e-01],\n",
              "       [-1.06323531e+00],\n",
              "       [ 1.37779900e-01],\n",
              "       [ 4.38315103e-01],\n",
              "       [ 5.40744704e-01],\n",
              "       [ 6.19536705e-01],\n",
              "       [-1.23995452e+00],\n",
              "       [ 7.98507107e-01],\n",
              "       [-5.34203307e-01],\n",
              "       [-5.63468908e-01],\n",
              "       [-1.07111451e+00],\n",
              "       [ 1.74175992e+00],\n",
              "       [-4.91430507e-01],\n",
              "       [-1.52624903e-01],\n",
              "       [-5.57840908e-01],\n",
              "       [ 2.01939101e-01],\n",
              "       [-1.06436091e+00],\n",
              "       [-3.93503306e-01],\n",
              "       [-3.16962505e-01],\n",
              "       [ 9.72582994e-02],\n",
              "       [-2.10030504e-01],\n",
              "       [ 5.67366990e-02],\n",
              "       [-4.52034507e-01],\n",
              "       [ 2.21000952e+00],\n",
              "       [ 3.83349840e-03],\n",
              "       [-2.22412104e-01],\n",
              "       [-7.22178510e-01],\n",
              "       [-7.98719310e-01],\n",
              "       [ 2.15446301e-01],\n",
              "       [-1.53017018e-02],\n",
              "       [-1.15215771e+00],\n",
              "       [-1.61629703e-01],\n",
              "       [-5.31952107e-01],\n",
              "       [ 1.01760699e-01],\n",
              "       [-2.25788904e-01],\n",
              "       [ 4.81087904e-01],\n",
              "       [-3.91252106e-01],\n",
              "       [-3.21464905e-01],\n",
              "       [-1.23359303e-01],\n",
              "       [ 1.29264551e+00],\n",
              "       [-4.21643306e-01],\n",
              "       [-2.61808105e-01],\n",
              "       [-6.58019309e-01],\n",
              "       [-1.13752491e+00],\n",
              "       [ 1.19471831e+00],\n",
              "       [-1.68383303e-01],\n",
              "       [ 2.75103101e-01],\n",
              "       [ 1.41983831e+00],\n",
              "       [ 9.86482309e-01],\n",
              "       [-1.96523304e-01],\n",
              "       [-8.15603311e-01],\n",
              "       [-1.06886331e+00],\n",
              "       [ 1.69110792e+00],\n",
              "       [-1.10825931e+00],\n",
              "       [ 6.49927905e-01],\n",
              "       [-3.33113020e-02],\n",
              "       [ 2.05129992e+00],\n",
              "       [ 7.45603907e-01],\n",
              "       [-9.61931312e-01],\n",
              "       [ 3.20616553e+00],\n",
              "       [ 5.67366990e-02],\n",
              "       [-6.72652109e-01],\n",
              "       [-9.86694512e-01],\n",
              "       [-1.68383303e-01],\n",
              "       [-2.47175304e-01],\n",
              "       [ 3.30990987e-02],\n",
              "       [-3.75493706e-01],\n",
              "       [-1.88154652e+00],\n",
              "       [ 4.99830989e-02],\n",
              "       [-5.37580108e-01],\n",
              "       [-8.74134511e-01],\n",
              "       [-3.05706505e-01],\n",
              "       [ 7.96255907e-01],\n",
              "       [ 6.18411105e-01],\n",
              "       [-5.69096908e-01],\n",
              "       [-1.04410011e+00],\n",
              "       [-2.10030504e-01],\n",
              "       [ 8.34526308e-01],\n",
              "       [ 3.34759902e-01],\n",
              "       [-2.80943305e-01],\n",
              "       [-3.89393021e-02],\n",
              "       [-3.51856105e-01],\n",
              "       [-1.09362651e+00],\n",
              "       [ 1.45135511e+00],\n",
              "       [-4.28396906e-01],\n",
              "       [ 1.69335912e+00],\n",
              "       [-7.60448910e-01],\n",
              "       [-1.69508903e-01],\n",
              "       [ 5.54251904e-01],\n",
              "       [ 1.54663900e-01],\n",
              "       [ 1.03375751e+00],\n",
              "       [ 3.04368702e-01],\n",
              "       [-1.57988572e+00],\n",
              "       [-3.90126506e-01],\n",
              "       [ 3.33634302e-01],\n",
              "       [ 2.29442952e+00],\n",
              "       [ 8.43531108e-01],\n",
              "       [-8.73008911e-01],\n",
              "       [ 1.37779900e-01],\n",
              "       [-8.24608111e-01],\n",
              "       [-9.49549712e-01],\n",
              "       [-4.95932907e-01],\n",
              "       [ 2.75930233e+00],\n",
              "       [ 2.96489502e-01],\n",
              "       [ 1.27649500e-01],\n",
              "       [-4.98184107e-01],\n",
              "       [ 7.92486992e-02],\n",
              "       [ 6.10531905e-01],\n",
              "       [-1.74011304e-01],\n",
              "       [-6.16372108e-01],\n",
              "       [-6.51265709e-01],\n",
              "       [-1.41104572e+00],\n",
              "       [ 2.05805352e+00],\n",
              "       [ 4.68706304e-01],\n",
              "       [ 6.66811906e-01],\n",
              "       [-2.78692105e-01],\n",
              "       [ 1.14181511e+00],\n",
              "       [-1.02834171e+00],\n",
              "       [-8.27984911e-01],\n",
              "       [ 4.83339104e-01],\n",
              "       [-9.11279312e-01],\n",
              "       [-7.16550509e-01],\n",
              "       [-6.22000108e-01],\n",
              "       [-4.31773706e-01],\n",
              "       [-8.22356911e-01],\n",
              "       [ 1.12718231e+00],\n",
              "       [-1.26809452e+00],\n",
              "       [-5.92734508e-01],\n",
              "       [-9.46172912e-01],\n",
              "       [ 3.41513502e-01],\n",
              "       [-7.94609025e-02],\n",
              "       [ 5.44854990e-02],\n",
              "       [-9.69810512e-01],\n",
              "       [-8.47120111e-01],\n",
              "       [-1.71760104e-01],\n",
              "       [-1.26922012e+00],\n",
              "       [-1.06436091e+00],\n",
              "       [-6.34381709e-01],\n",
              "       [-4.26145706e-01],\n",
              "       [-7.45816110e-01],\n",
              "       [-2.60682504e-01],\n",
              "       [ 1.63370232e+00],\n",
              "       [ 2.40924072e+00],\n",
              "       [ 8.17642307e-01],\n",
              "       [-3.77744906e-01],\n",
              "       [-1.28722972e+00],\n",
              "       [-1.28987303e-01],\n",
              "       [-8.91018511e-01],\n",
              "       [-1.12626891e+00],\n",
              "       [-1.38178012e+00],\n",
              "       [-6.43386509e-01],\n",
              "       [-7.49192910e-01],\n",
              "       [-2.84320105e-01],\n",
              "       [ 5.36242304e-01],\n",
              "       [-1.79450166e-03],\n",
              "       [ 1.13281031e+00],\n",
              "       [ 3.19490953e+00],\n",
              "       [ 5.86894305e-01],\n",
              "       [-7.19927310e-01],\n",
              "       [-3.70991306e-01],\n",
              "       [ 1.92934300e-01],\n",
              "       [-8.02096110e-01],\n",
              "       [-4.02508106e-01],\n",
              "       [-6.72652109e-01],\n",
              "       [-2.56180104e-01],\n",
              "       [ 5.32865504e-01],\n",
              "       [ 1.09639900e-01],\n",
              "       [ 1.34217191e+00],\n",
              "       [-1.03509531e+00],\n",
              "       [-1.03059291e+00],\n",
              "       [ 3.49206794e+00],\n",
              "       [-4.47532107e-01],\n",
              "       [-1.41104572e+00],\n",
              "       [ 1.35793031e+00],\n",
              "       [-3.33846505e-01],\n",
              "       [ 1.47611831e+00],\n",
              "       [-2.13407304e-01],\n",
              "       [-5.97236908e-01],\n",
              "       [-1.14652971e+00],\n",
              "       [ 1.67084712e+00],\n",
              "       [ 1.67309832e+00],\n",
              "       [ 3.98919103e-01],\n",
              "       [ 2.87749033e+00],\n",
              "       [ 3.80909503e-01],\n",
              "       [ 2.33720232e+00],\n",
              "       [ 1.01760699e-01],\n",
              "       [ 1.25398300e-01],\n",
              "       [ 1.20147191e+00],\n",
              "       [-1.84141704e-01],\n",
              "       [ 3.73030302e-01],\n",
              "       [-4.61039307e-01],\n",
              "       [ 2.70789839e-03],\n",
              "       [ 9.74100709e-01],\n",
              "       [-4.84676907e-01],\n",
              "       [-3.60860906e-01],\n",
              "       [-1.37615212e+00],\n",
              "       [-1.06323531e+00],\n",
              "       [ 2.62535593e+00],\n",
              "       [-7.63825710e-01],\n",
              "       [-7.06420109e-01],\n",
              "       [-1.21108103e-01],\n",
              "       [-7.93091310e-01],\n",
              "       [-7.63825710e-01],\n",
              "       [-3.81121706e-01],\n",
              "       [ 8.37510993e-02],\n",
              "       [-3.73242506e-01],\n",
              "       [ 7.65864707e-01],\n",
              "       [ 2.13234312e+00],\n",
              "       [ 5.04725504e-01],\n",
              "       [-7.90840110e-01],\n",
              "       [ 1.15644791e+00],\n",
              "       [ 6.87072706e-01],\n",
              "       [ 3.21291913e+00],\n",
              "       [-7.33434510e-01],\n",
              "       [ 9.43709509e-01],\n",
              "       [-7.75081710e-01],\n",
              "       [ 9.41458309e-01],\n",
              "       [-9.22535312e-01],\n",
              "       [-1.35589132e+00],\n",
              "       [ 1.16545271e+00],\n",
              "       [-8.58376111e-01],\n",
              "       [-7.16550509e-01],\n",
              "       [-1.26134092e+00],\n",
              "       [-4.28396906e-01],\n",
              "       [-7.16550509e-01],\n",
              "       [-3.95754506e-01],\n",
              "       [-1.09137531e+00],\n",
              "       [ 7.47462992e-02],\n",
              "       [-7.32308910e-01],\n",
              "       [ 2.62721501e-01],\n",
              "       [ 4.75459904e-01],\n",
              "       [-4.61039307e-01],\n",
              "       [-9.20284112e-01],\n",
              "       [-1.01483451e+00],\n",
              "       [-4.79048907e-01],\n",
              "       [-1.09362651e+00],\n",
              "       [-8.08849711e-01],\n",
              "       [ 1.46823911e+00],\n",
              "       [ 1.80591912e+00],\n",
              "       [ 1.04051111e+00],\n",
              "       [ 8.32275107e-01],\n",
              "       [ 3.24629502e-01],\n",
              "       [-2.21286504e-01],\n",
              "       [-1.13228903e-01]])"
            ]
          },
          "metadata": {},
          "execution_count": 15
        }
      ]
    },
    {
      "cell_type": "code",
      "source": [
        "# Checking for the test data\n",
        "scaler.transform([[3]])"
      ],
      "metadata": {
        "colab": {
          "base_uri": "https://localhost:8080/"
        },
        "id": "H2cGtD1PgdyN",
        "outputId": "5d109d4a-c22a-46dc-abe8-5ce00a3dcda0"
      },
      "execution_count": 17,
      "outputs": [
        {
          "output_type": "stream",
          "name": "stderr",
          "text": [
            "/usr/local/lib/python3.10/dist-packages/sklearn/base.py:439: UserWarning: X does not have valid feature names, but StandardScaler was fitted with feature names\n",
            "  warnings.warn(\n"
          ]
        },
        {
          "output_type": "execute_result",
          "data": {
            "text/plain": [
              "array([[-1.88942572]])"
            ]
          },
          "metadata": {},
          "execution_count": 17
        }
      ]
    }
  ],
  "metadata": {
    "kernelspec": {
      "display_name": "Python 3",
      "language": "python",
      "name": "python3"
    },
    "language_info": {
      "codemirror_mode": {
        "name": "ipython",
        "version": 3
      },
      "file_extension": ".py",
      "mimetype": "text/x-python",
      "name": "python",
      "nbconvert_exporter": "python",
      "pygments_lexer": "ipython3",
      "version": "3.8.3"
    },
    "colab": {
      "provenance": []
    }
  },
  "nbformat": 4,
  "nbformat_minor": 0
}