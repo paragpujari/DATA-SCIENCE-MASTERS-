{
 "cells": [
  {
   "cell_type": "code",
   "execution_count": 1,
   "metadata": {},
   "outputs": [
    {
     "name": "stdout",
     "output_type": "stream",
     "text": [
      "showing info https://raw.githubusercontent.com/nltk/nltk_data/gh-pages/index.xml\n"
     ]
    }
   ],
   "source": [
    "# import all the necessary libraries\n",
    "import nltk\n",
    "nltk.download()\n",
    "\n",
    "from nltk.corpus import stopwords\n",
    "from gensim.models import Word2Vec"
   ]
  },
  {
   "cell_type": "code",
   "execution_count": 2,
   "metadata": {},
   "outputs": [],
   "source": [
    "import re"
   ]
  },
  {
   "cell_type": "code",
   "execution_count": 3,
   "metadata": {},
   "outputs": [],
   "source": [
    "paragraph = \"\"\"I have three visions for India. In 3000 years of our history, people from all over \n",
    "               the world have come and invaded us, captured our lands, conquered our minds. \n",
    "               From Alexander onwards, the Greeks, the Turks, the Moguls, the Portuguese, the British,\n",
    "               the French, the Dutch, all of them came and looted us, took over what was ours. \n",
    "               Yet we have not done this to any other nation. We have not conquered anyone. \n",
    "               We have not grabbed their land, their culture, \n",
    "               their history and tried to enforce our way of life on them. \n",
    "               Why? Because we respect the freedom of others.That is why my \n",
    "               first vision is that of freedom. I believe that India got its first vision of \n",
    "               this in 1857, when we started the War of Independence. It is this freedom that\n",
    "               we must protect and nurture and build on. If we are not free, no one will respect us.\n",
    "               My second vision for India’s development. For fifty years we have been a developing nation.\n",
    "               It is time we see ourselves as a developed nation. We are among the top 5 nations of the world\n",
    "               in terms of GDP. We have a 10 percent growth rate in most areas. Our poverty levels are falling.\n",
    "               Our achievements are being globally recognised today. Yet we lack the self-confidence to\n",
    "               see ourselves as a developed nation, self-reliant and self-assured. Isn’t this incorrect?\n",
    "               I have a third vision. India must stand up to the world. Because I believe that unless India \n",
    "               stands up to the world, no one will respect us. Only strength respects strength. We must be \n",
    "               strong not only as a military power but also as an economic power. Both must go hand-in-hand. \n",
    "               My good fortune was to have worked with three great minds. Dr. Vikram Sarabhai of the Dept. of \n",
    "               space, Professor Satish Dhawan, who succeeded him and Dr. Brahm Prakash, father of nuclear material.\n",
    "               I was lucky to have worked with all three of them closely and consider this the great opportunity of my life. \n",
    "               I see four milestones in my career\"\"\""
   ]
  },
  {
   "cell_type": "code",
   "execution_count": 5,
   "metadata": {},
   "outputs": [
    {
     "name": "stdout",
     "output_type": "stream",
     "text": [
      "I have three visions for India. In 3000 years of our history, people from all over \n",
      "               the world have come and invaded us, captured our lands, conquered our minds. \n",
      "               From Alexander onwards, the Greeks, the Turks, the Moguls, the Portuguese, the British,\n",
      "               the French, the Dutch, all of them came and looted us, took over what was ours. \n",
      "               Yet we have not done this to any other nation. We have not conquered anyone. \n",
      "               We have not grabbed their land, their culture, \n",
      "               their history and tried to enforce our way of life on them. \n",
      "               Why? Because we respect the freedom of others.That is why my \n",
      "               first vision is that of freedom. I believe that India got its first vision of \n",
      "               this in 1857, when we started the War of Independence. It is this freedom that\n",
      "               we must protect and nurture and build on. If we are not free, no one will respect us.\n",
      "               My second vision for India’s development. For fifty years we have been a developing nation.\n",
      "               It is time we see ourselves as a developed nation. We are among the top 5 nations of the world\n",
      "               in terms of GDP. We have a 10 percent growth rate in most areas. Our poverty levels are falling.\n",
      "               Our achievements are being globally recognised today. Yet we lack the self-confidence to\n",
      "               see ourselves as a developed nation, self-reliant and self-assured. Isn’t this incorrect?\n",
      "               I have a third vision. India must stand up to the world. Because I believe that unless India \n",
      "               stands up to the world, no one will respect us. Only strength respects strength. We must be \n",
      "               strong not only as a military power but also as an economic power. Both must go hand-in-hand. \n",
      "               My good fortune was to have worked with three great minds. Dr. Vikram Sarabhai of the Dept. of \n",
      "               space, Professor Satish Dhawan, who succeeded him and Dr. Brahm Prakash, father of nuclear material.\n",
      "               I was lucky to have worked with all three of them closely and consider this the great opportunity of my life. \n",
      "               I see four milestones in my career\n"
     ]
    }
   ],
   "source": [
    "print(paragraph)"
   ]
  },
  {
   "cell_type": "markdown",
   "metadata": {},
   "source": [
    "# PREPROCESSING THE DATA"
   ]
  },
  {
   "cell_type": "code",
   "execution_count": 19,
   "metadata": {},
   "outputs": [],
   "source": [
    "# remove all the digits from the text\n",
    "text = re.sub(r'\\[[0-9]*\\]',' ',paragraph)\n",
    "# remove all the extra spaces from the text\n",
    "text = re.sub(r'\\s+',' ', text)\n",
    "# lower the text in lower case\n",
    "text = text.lower()\n",
    "# remove the digits from the text\n",
    "text = re.sub(r'\\d',' ',text)\n",
    "# remove the extra spaces from the text\n",
    "text = re.sub(r'\\s+',' ',text)"
   ]
  },
  {
   "cell_type": "code",
   "execution_count": 20,
   "metadata": {},
   "outputs": [
    {
     "name": "stdout",
     "output_type": "stream",
     "text": [
      "i have three visions for india. in years of our history, people from all over the world have come and invaded us, captured our lands, conquered our minds. from alexander onwards, the greeks, the turks, the moguls, the portuguese, the british, the french, the dutch, all of them came and looted us, took over what was ours. yet we have not done this to any other nation. we have not conquered anyone. we have not grabbed their land, their culture, their history and tried to enforce our way of life on them. why? because we respect the freedom of others.that is why my first vision is that of freedom. i believe that india got its first vision of this in , when we started the war of independence. it is this freedom that we must protect and nurture and build on. if we are not free, no one will respect us. my second vision for india’s development. for fifty years we have been a developing nation. it is time we see ourselves as a developed nation. we are among the top nations of the world in terms of gdp. we have a percent growth rate in most areas. our poverty levels are falling. our achievements are being globally recognised today. yet we lack the self-confidence to see ourselves as a developed nation, self-reliant and self-assured. isn’t this incorrect? i have a third vision. india must stand up to the world. because i believe that unless india stands up to the world, no one will respect us. only strength respects strength. we must be strong not only as a military power but also as an economic power. both must go hand-in-hand. my good fortune was to have worked with three great minds. dr. vikram sarabhai of the dept. of space, professor satish dhawan, who succeeded him and dr. brahm prakash, father of nuclear material. i was lucky to have worked with all three of them closely and consider this the great opportunity of my life. i see four milestones in my career\n"
     ]
    }
   ],
   "source": [
    "print(text)"
   ]
  },
  {
   "cell_type": "code",
   "execution_count": 21,
   "metadata": {},
   "outputs": [
    {
     "name": "stdout",
     "output_type": "stream",
     "text": [
      "['i have three visions for india.', 'in years of our history, people from all over the world have come and invaded us, captured our lands, conquered our minds.', 'from alexander onwards, the greeks, the turks, the moguls, the portuguese, the british, the french, the dutch, all of them came and looted us, took over what was ours.', 'yet we have not done this to any other nation.', 'we have not conquered anyone.', 'we have not grabbed their land, their culture, their history and tried to enforce our way of life on them.', 'why?', 'because we respect the freedom of others.that is why my first vision is that of freedom.', 'i believe that india got its first vision of this in , when we started the war of independence.', 'it is this freedom that we must protect and nurture and build on.', 'if we are not free, no one will respect us.', 'my second vision for india’s development.', 'for fifty years we have been a developing nation.', 'it is time we see ourselves as a developed nation.', 'we are among the top nations of the world in terms of gdp.', 'we have a percent growth rate in most areas.', 'our poverty levels are falling.', 'our achievements are being globally recognised today.', 'yet we lack the self-confidence to see ourselves as a developed nation, self-reliant and self-assured.', 'isn’t this incorrect?', 'i have a third vision.', 'india must stand up to the world.', 'because i believe that unless india stands up to the world, no one will respect us.', 'only strength respects strength.', 'we must be strong not only as a military power but also as an economic power.', 'both must go hand-in-hand.', 'my good fortune was to have worked with three great minds.', 'dr. vikram sarabhai of the dept.', 'of space, professor satish dhawan, who succeeded him and dr. brahm prakash, father of nuclear material.', 'i was lucky to have worked with all three of them closely and consider this the great opportunity of my life.', 'i see four milestones in my career']\n"
     ]
    }
   ],
   "source": [
    "# perform the sentence tokenization on the text\n",
    "sentences = nltk.sent_tokenize(text)\n",
    "print(sentences)"
   ]
  },
  {
   "cell_type": "code",
   "execution_count": 22,
   "metadata": {},
   "outputs": [],
   "source": [
    "# perform the word tokenization on the sentences\n",
    "\n",
    "words = [nltk.word_tokenize(sentence) for sentence in sentences]"
   ]
  },
  {
   "cell_type": "code",
   "execution_count": 23,
   "metadata": {},
   "outputs": [
    {
     "name": "stdout",
     "output_type": "stream",
     "text": [
      "[['i', 'have', 'three', 'visions', 'for', 'india', '.'], ['in', 'years', 'of', 'our', 'history', ',', 'people', 'from', 'all', 'over', 'the', 'world', 'have', 'come', 'and', 'invaded', 'us', ',', 'captured', 'our', 'lands', ',', 'conquered', 'our', 'minds', '.'], ['from', 'alexander', 'onwards', ',', 'the', 'greeks', ',', 'the', 'turks', ',', 'the', 'moguls', ',', 'the', 'portuguese', ',', 'the', 'british', ',', 'the', 'french', ',', 'the', 'dutch', ',', 'all', 'of', 'them', 'came', 'and', 'looted', 'us', ',', 'took', 'over', 'what', 'was', 'ours', '.'], ['yet', 'we', 'have', 'not', 'done', 'this', 'to', 'any', 'other', 'nation', '.'], ['we', 'have', 'not', 'conquered', 'anyone', '.'], ['we', 'have', 'not', 'grabbed', 'their', 'land', ',', 'their', 'culture', ',', 'their', 'history', 'and', 'tried', 'to', 'enforce', 'our', 'way', 'of', 'life', 'on', 'them', '.'], ['why', '?'], ['because', 'we', 'respect', 'the', 'freedom', 'of', 'others.that', 'is', 'why', 'my', 'first', 'vision', 'is', 'that', 'of', 'freedom', '.'], ['i', 'believe', 'that', 'india', 'got', 'its', 'first', 'vision', 'of', 'this', 'in', ',', 'when', 'we', 'started', 'the', 'war', 'of', 'independence', '.'], ['it', 'is', 'this', 'freedom', 'that', 'we', 'must', 'protect', 'and', 'nurture', 'and', 'build', 'on', '.'], ['if', 'we', 'are', 'not', 'free', ',', 'no', 'one', 'will', 'respect', 'us', '.'], ['my', 'second', 'vision', 'for', 'india', '’', 's', 'development', '.'], ['for', 'fifty', 'years', 'we', 'have', 'been', 'a', 'developing', 'nation', '.'], ['it', 'is', 'time', 'we', 'see', 'ourselves', 'as', 'a', 'developed', 'nation', '.'], ['we', 'are', 'among', 'the', 'top', 'nations', 'of', 'the', 'world', 'in', 'terms', 'of', 'gdp', '.'], ['we', 'have', 'a', 'percent', 'growth', 'rate', 'in', 'most', 'areas', '.'], ['our', 'poverty', 'levels', 'are', 'falling', '.'], ['our', 'achievements', 'are', 'being', 'globally', 'recognised', 'today', '.'], ['yet', 'we', 'lack', 'the', 'self-confidence', 'to', 'see', 'ourselves', 'as', 'a', 'developed', 'nation', ',', 'self-reliant', 'and', 'self-assured', '.'], ['isn', '’', 't', 'this', 'incorrect', '?'], ['i', 'have', 'a', 'third', 'vision', '.'], ['india', 'must', 'stand', 'up', 'to', 'the', 'world', '.'], ['because', 'i', 'believe', 'that', 'unless', 'india', 'stands', 'up', 'to', 'the', 'world', ',', 'no', 'one', 'will', 'respect', 'us', '.'], ['only', 'strength', 'respects', 'strength', '.'], ['we', 'must', 'be', 'strong', 'not', 'only', 'as', 'a', 'military', 'power', 'but', 'also', 'as', 'an', 'economic', 'power', '.'], ['both', 'must', 'go', 'hand-in-hand', '.'], ['my', 'good', 'fortune', 'was', 'to', 'have', 'worked', 'with', 'three', 'great', 'minds', '.'], ['dr.', 'vikram', 'sarabhai', 'of', 'the', 'dept', '.'], ['of', 'space', ',', 'professor', 'satish', 'dhawan', ',', 'who', 'succeeded', 'him', 'and', 'dr.', 'brahm', 'prakash', ',', 'father', 'of', 'nuclear', 'material', '.'], ['i', 'was', 'lucky', 'to', 'have', 'worked', 'with', 'all', 'three', 'of', 'them', 'closely', 'and', 'consider', 'this', 'the', 'great', 'opportunity', 'of', 'my', 'life', '.'], ['i', 'see', 'four', 'milestones', 'in', 'my', 'career']]\n"
     ]
    }
   ],
   "source": [
    "print(words)"
   ]
  },
  {
   "cell_type": "code",
   "execution_count": 24,
   "metadata": {},
   "outputs": [
    {
     "data": {
      "text/plain": [
       "31"
      ]
     },
     "execution_count": 24,
     "metadata": {},
     "output_type": "execute_result"
    }
   ],
   "source": [
    "# To filter out all the stop words from the text\n",
    "length = len(words)\n",
    "length"
   ]
  },
  {
   "cell_type": "code",
   "execution_count": 25,
   "metadata": {},
   "outputs": [],
   "source": [
    "for i in range(len(words)):\n",
    "    filtered_words = [ i for i in words[i]  if(i not in stopwords.words(\"english\"))]"
   ]
  },
  {
   "cell_type": "code",
   "execution_count": 26,
   "metadata": {},
   "outputs": [
    {
     "name": "stdout",
     "output_type": "stream",
     "text": [
      "['see', 'four', 'milestones', 'career']\n"
     ]
    }
   ],
   "source": [
    "print(filtered_words)"
   ]
  },
  {
   "cell_type": "code",
   "execution_count": 27,
   "metadata": {},
   "outputs": [],
   "source": [
    "# train the Word2Vec mode with the data\n",
    "wordsvecmodel = Word2Vec(filtered_words, min_count = 1)"
   ]
  },
  {
   "cell_type": "code",
   "execution_count": 28,
   "metadata": {},
   "outputs": [
    {
     "data": {
      "text/plain": [
       "<gensim.models.word2vec.Word2Vec at 0x1b5063b11d0>"
      ]
     },
     "execution_count": 28,
     "metadata": {},
     "output_type": "execute_result"
    }
   ],
   "source": [
    "wordsvecmodel"
   ]
  },
  {
   "cell_type": "code",
   "execution_count": 29,
   "metadata": {},
   "outputs": [],
   "source": [
    "# get the list of vocabularies for the word\n",
    "words_vocabulary = list(wordsvecmodel.wv.index_to_key)"
   ]
  },
  {
   "cell_type": "code",
   "execution_count": 30,
   "metadata": {},
   "outputs": [
    {
     "name": "stdout",
     "output_type": "stream",
     "text": [
      "['e', 'r', 's', 'o', 'a', 'c', 'n', 't', 'l', 'i', 'm', 'u', 'f']\n"
     ]
    }
   ],
   "source": [
    "print(words_vocabulary)"
   ]
  },
  {
   "cell_type": "code",
   "execution_count": 31,
   "metadata": {},
   "outputs": [],
   "source": [
    "# get the vector for the particular word\n",
    "vector = wordsvecmodel.wv['a']"
   ]
  },
  {
   "cell_type": "code",
   "execution_count": 32,
   "metadata": {},
   "outputs": [
    {
     "name": "stdout",
     "output_type": "stream",
     "text": [
      "[-0.00713952  0.00124038 -0.00717748 -0.00224381  0.00371911  0.00583245\n",
      "  0.00119778  0.00210323 -0.00411067  0.00722497 -0.00630688  0.00464694\n",
      " -0.00822013  0.00203657 -0.00497734 -0.00424686 -0.0031086   0.00565423\n",
      "  0.00579901 -0.00497531  0.00077341 -0.00849535  0.00780931  0.00925708\n",
      " -0.00274154  0.00079981  0.0007459   0.00547879 -0.00860629  0.00058399\n",
      "  0.00687026  0.00223201  0.0011251  -0.00932125  0.00848154 -0.00626361\n",
      " -0.00299217  0.0034942  -0.00077246  0.00141173  0.00178243 -0.0068283\n",
      " -0.00972512  0.00904014  0.00619801 -0.00691268  0.00340316  0.00020666\n",
      "  0.00475415 -0.00711918  0.00402721  0.00434823  0.00995723 -0.00447295\n",
      " -0.0013889  -0.00731811 -0.00969821 -0.0090805  -0.00102228 -0.00650338\n",
      "  0.00484945 -0.00616326  0.0025201   0.00073928 -0.00339266 -0.00097968\n",
      "  0.00997865  0.00914495 -0.0044617   0.00908261 -0.00564152  0.00593147\n",
      " -0.00309762  0.00343081  0.00301738  0.00689981 -0.00237364  0.00877467\n",
      "  0.00759012 -0.00954758 -0.00800786 -0.00763816  0.00292309 -0.00279397\n",
      " -0.00692938 -0.00812884  0.00830841  0.00199061 -0.00932739 -0.00479217\n",
      "  0.00313586 -0.00471237  0.00528124 -0.00423271  0.00264275 -0.0080464\n",
      "  0.006209    0.00481946  0.00078811  0.00301379]\n"
     ]
    }
   ],
   "source": [
    "print(vector)"
   ]
  },
  {
   "cell_type": "code",
   "execution_count": 34,
   "metadata": {},
   "outputs": [],
   "source": [
    "# get the most similar word for the given word\n",
    "wordsim = wordsvecmodel.wv.most_similar('i')"
   ]
  },
  {
   "cell_type": "code",
   "execution_count": 35,
   "metadata": {},
   "outputs": [
    {
     "name": "stdout",
     "output_type": "stream",
     "text": [
      "[('e', 0.21635493636131287), ('l', 0.04468922317028046), ('m', 0.015438211150467396), ('n', 0.002126971958205104), ('s', -0.03284316882491112), ('f', -0.04568909481167793), ('u', -0.07424270361661911), ('t', -0.09324133396148682), ('r', -0.09575343877077103), ('c', -0.10509039461612701)]\n"
     ]
    }
   ],
   "source": [
    "print(wordsim)"
   ]
  },
  {
   "cell_type": "code",
   "execution_count": null,
   "metadata": {},
   "outputs": [],
   "source": []
  }
 ],
 "metadata": {
  "kernelspec": {
   "display_name": "Python 3",
   "language": "python",
   "name": "python3"
  },
  "language_info": {
   "codemirror_mode": {
    "name": "ipython",
    "version": 3
   },
   "file_extension": ".py",
   "mimetype": "text/x-python",
   "name": "python",
   "nbconvert_exporter": "python",
   "pygments_lexer": "ipython3",
   "version": "3.8.3"
  }
 },
 "nbformat": 4,
 "nbformat_minor": 5
}
