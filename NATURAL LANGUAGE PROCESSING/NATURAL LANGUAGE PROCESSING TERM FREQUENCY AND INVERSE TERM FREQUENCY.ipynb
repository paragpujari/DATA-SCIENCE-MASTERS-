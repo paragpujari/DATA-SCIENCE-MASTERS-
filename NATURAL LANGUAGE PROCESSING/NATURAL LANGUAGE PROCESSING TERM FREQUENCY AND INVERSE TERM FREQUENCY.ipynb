{
 "cells": [
  {
   "cell_type": "code",
   "execution_count": 1,
   "metadata": {},
   "outputs": [],
   "source": [
    "# import all the necessary libraries\n",
    "import numpy as np\n",
    "import pandas as pd\n",
    "import matplotlib.pyplot as plt\n",
    "from sklearn.feature_extraction.text import TfidfVectorizer"
   ]
  },
  {
   "cell_type": "code",
   "execution_count": 2,
   "metadata": {},
   "outputs": [],
   "source": [
    "# declare the corpus\n",
    "corpus = np.array([\"John saw the train\",\n",
    "                     \"The train was late\",\n",
    "                     \"Max and Rob took the bus\",\n",
    "                     \"I looked for Max and Rob at the bus station\",\n",
    "                     \"Max and Rob arrived at the bus station early but waited until noonfor the bus\"])"
   ]
  },
  {
   "cell_type": "code",
   "execution_count": 3,
   "metadata": {},
   "outputs": [
    {
     "name": "stdout",
     "output_type": "stream",
     "text": [
      "['John saw the train' 'The train was late' 'Max and Rob took the bus'\n",
      " 'I looked for Max and Rob at the bus station'\n",
      " 'Max and Rob arrived at the bus station early but waited until noonfor the bus']\n"
     ]
    }
   ],
   "source": [
    "print(corpus)"
   ]
  },
  {
   "cell_type": "code",
   "execution_count": 4,
   "metadata": {},
   "outputs": [],
   "source": [
    "# create the object for Tfidfvectorizer\n",
    "tfidf = TfidfVectorizer(use_idf = True)\n",
    "\n",
    "# using the object for tfidf , transform the data\n",
    "vectorized_array = tfidf.fit_transform(corpus)"
   ]
  },
  {
   "cell_type": "code",
   "execution_count": 5,
   "metadata": {},
   "outputs": [
    {
     "data": {
      "text/plain": [
       "array([[0.        , 0.        , 0.        , 0.        , 0.        ,\n",
       "        0.        , 0.        , 0.58946308, 0.        , 0.        ,\n",
       "        0.        , 0.        , 0.        , 0.58946308, 0.        ,\n",
       "        0.28088232, 0.        , 0.4755751 , 0.        , 0.        ,\n",
       "        0.        ],\n",
       "       [0.        , 0.        , 0.        , 0.        , 0.        ,\n",
       "        0.        , 0.        , 0.        , 0.58946308, 0.        ,\n",
       "        0.        , 0.        , 0.        , 0.        , 0.        ,\n",
       "        0.28088232, 0.        , 0.4755751 , 0.        , 0.        ,\n",
       "        0.58946308],\n",
       "       [0.38530481, 0.        , 0.        , 0.38530481, 0.        ,\n",
       "        0.        , 0.        , 0.        , 0.        , 0.        ,\n",
       "        0.38530481, 0.        , 0.38530481, 0.        , 0.        ,\n",
       "        0.27414755, 0.57532941, 0.        , 0.        , 0.        ,\n",
       "        0.        ],\n",
       "       [0.29027651, 0.        , 0.34969268, 0.29027651, 0.        ,\n",
       "        0.        , 0.43343506, 0.        , 0.        , 0.43343506,\n",
       "        0.29027651, 0.        , 0.29027651, 0.        , 0.34969268,\n",
       "        0.20653413, 0.        , 0.        , 0.        , 0.        ,\n",
       "        0.        ],\n",
       "       [0.19879089, 0.29683057, 0.23948103, 0.39758178, 0.29683057,\n",
       "        0.29683057, 0.        , 0.        , 0.        , 0.        ,\n",
       "        0.19879089, 0.29683057, 0.19879089, 0.        , 0.23948103,\n",
       "        0.28288271, 0.        , 0.        , 0.29683057, 0.29683057,\n",
       "        0.        ]])"
      ]
     },
     "execution_count": 5,
     "metadata": {},
     "output_type": "execute_result"
    }
   ],
   "source": [
    "vectorized_array.toarray()"
   ]
  },
  {
   "cell_type": "code",
   "execution_count": 6,
   "metadata": {},
   "outputs": [
    {
     "name": "stdout",
     "output_type": "stream",
     "text": [
      "['and', 'arrived', 'at', 'bus', 'but', 'early', 'for', 'john', 'late', 'looked', 'max', 'noonfor', 'rob', 'saw', 'station', 'the', 'took', 'train', 'until', 'waited', 'was']\n"
     ]
    }
   ],
   "source": [
    "# extract all the features names\n",
    "feature_names = tfidf.get_feature_names()\n",
    "\n",
    "print(feature_names)"
   ]
  },
  {
   "cell_type": "code",
   "execution_count": 7,
   "metadata": {},
   "outputs": [
    {
     "data": {
      "text/html": [
       "<div>\n",
       "<style scoped>\n",
       "    .dataframe tbody tr th:only-of-type {\n",
       "        vertical-align: middle;\n",
       "    }\n",
       "\n",
       "    .dataframe tbody tr th {\n",
       "        vertical-align: top;\n",
       "    }\n",
       "\n",
       "    .dataframe thead th {\n",
       "        text-align: right;\n",
       "    }\n",
       "</style>\n",
       "<table border=\"1\" class=\"dataframe\">\n",
       "  <thead>\n",
       "    <tr style=\"text-align: right;\">\n",
       "      <th></th>\n",
       "      <th>and</th>\n",
       "      <th>arrived</th>\n",
       "      <th>at</th>\n",
       "      <th>bus</th>\n",
       "      <th>but</th>\n",
       "      <th>early</th>\n",
       "      <th>for</th>\n",
       "      <th>john</th>\n",
       "      <th>late</th>\n",
       "      <th>looked</th>\n",
       "      <th>...</th>\n",
       "      <th>noonfor</th>\n",
       "      <th>rob</th>\n",
       "      <th>saw</th>\n",
       "      <th>station</th>\n",
       "      <th>the</th>\n",
       "      <th>took</th>\n",
       "      <th>train</th>\n",
       "      <th>until</th>\n",
       "      <th>waited</th>\n",
       "      <th>was</th>\n",
       "    </tr>\n",
       "  </thead>\n",
       "  <tbody>\n",
       "    <tr>\n",
       "      <th>0</th>\n",
       "      <td>0.000000</td>\n",
       "      <td>0.000000</td>\n",
       "      <td>0.000000</td>\n",
       "      <td>0.000000</td>\n",
       "      <td>0.000000</td>\n",
       "      <td>0.000000</td>\n",
       "      <td>0.000000</td>\n",
       "      <td>0.589463</td>\n",
       "      <td>0.000000</td>\n",
       "      <td>0.000000</td>\n",
       "      <td>...</td>\n",
       "      <td>0.000000</td>\n",
       "      <td>0.000000</td>\n",
       "      <td>0.589463</td>\n",
       "      <td>0.000000</td>\n",
       "      <td>0.280882</td>\n",
       "      <td>0.000000</td>\n",
       "      <td>0.475575</td>\n",
       "      <td>0.000000</td>\n",
       "      <td>0.000000</td>\n",
       "      <td>0.000000</td>\n",
       "    </tr>\n",
       "    <tr>\n",
       "      <th>1</th>\n",
       "      <td>0.000000</td>\n",
       "      <td>0.000000</td>\n",
       "      <td>0.000000</td>\n",
       "      <td>0.000000</td>\n",
       "      <td>0.000000</td>\n",
       "      <td>0.000000</td>\n",
       "      <td>0.000000</td>\n",
       "      <td>0.000000</td>\n",
       "      <td>0.589463</td>\n",
       "      <td>0.000000</td>\n",
       "      <td>...</td>\n",
       "      <td>0.000000</td>\n",
       "      <td>0.000000</td>\n",
       "      <td>0.000000</td>\n",
       "      <td>0.000000</td>\n",
       "      <td>0.280882</td>\n",
       "      <td>0.000000</td>\n",
       "      <td>0.475575</td>\n",
       "      <td>0.000000</td>\n",
       "      <td>0.000000</td>\n",
       "      <td>0.589463</td>\n",
       "    </tr>\n",
       "    <tr>\n",
       "      <th>2</th>\n",
       "      <td>0.385305</td>\n",
       "      <td>0.000000</td>\n",
       "      <td>0.000000</td>\n",
       "      <td>0.385305</td>\n",
       "      <td>0.000000</td>\n",
       "      <td>0.000000</td>\n",
       "      <td>0.000000</td>\n",
       "      <td>0.000000</td>\n",
       "      <td>0.000000</td>\n",
       "      <td>0.000000</td>\n",
       "      <td>...</td>\n",
       "      <td>0.000000</td>\n",
       "      <td>0.385305</td>\n",
       "      <td>0.000000</td>\n",
       "      <td>0.000000</td>\n",
       "      <td>0.274148</td>\n",
       "      <td>0.575329</td>\n",
       "      <td>0.000000</td>\n",
       "      <td>0.000000</td>\n",
       "      <td>0.000000</td>\n",
       "      <td>0.000000</td>\n",
       "    </tr>\n",
       "    <tr>\n",
       "      <th>3</th>\n",
       "      <td>0.290277</td>\n",
       "      <td>0.000000</td>\n",
       "      <td>0.349693</td>\n",
       "      <td>0.290277</td>\n",
       "      <td>0.000000</td>\n",
       "      <td>0.000000</td>\n",
       "      <td>0.433435</td>\n",
       "      <td>0.000000</td>\n",
       "      <td>0.000000</td>\n",
       "      <td>0.433435</td>\n",
       "      <td>...</td>\n",
       "      <td>0.000000</td>\n",
       "      <td>0.290277</td>\n",
       "      <td>0.000000</td>\n",
       "      <td>0.349693</td>\n",
       "      <td>0.206534</td>\n",
       "      <td>0.000000</td>\n",
       "      <td>0.000000</td>\n",
       "      <td>0.000000</td>\n",
       "      <td>0.000000</td>\n",
       "      <td>0.000000</td>\n",
       "    </tr>\n",
       "    <tr>\n",
       "      <th>4</th>\n",
       "      <td>0.198791</td>\n",
       "      <td>0.296831</td>\n",
       "      <td>0.239481</td>\n",
       "      <td>0.397582</td>\n",
       "      <td>0.296831</td>\n",
       "      <td>0.296831</td>\n",
       "      <td>0.000000</td>\n",
       "      <td>0.000000</td>\n",
       "      <td>0.000000</td>\n",
       "      <td>0.000000</td>\n",
       "      <td>...</td>\n",
       "      <td>0.296831</td>\n",
       "      <td>0.198791</td>\n",
       "      <td>0.000000</td>\n",
       "      <td>0.239481</td>\n",
       "      <td>0.282883</td>\n",
       "      <td>0.000000</td>\n",
       "      <td>0.000000</td>\n",
       "      <td>0.296831</td>\n",
       "      <td>0.296831</td>\n",
       "      <td>0.000000</td>\n",
       "    </tr>\n",
       "  </tbody>\n",
       "</table>\n",
       "<p>5 rows × 21 columns</p>\n",
       "</div>"
      ],
      "text/plain": [
       "        and   arrived        at       bus       but     early       for  \\\n",
       "0  0.000000  0.000000  0.000000  0.000000  0.000000  0.000000  0.000000   \n",
       "1  0.000000  0.000000  0.000000  0.000000  0.000000  0.000000  0.000000   \n",
       "2  0.385305  0.000000  0.000000  0.385305  0.000000  0.000000  0.000000   \n",
       "3  0.290277  0.000000  0.349693  0.290277  0.000000  0.000000  0.433435   \n",
       "4  0.198791  0.296831  0.239481  0.397582  0.296831  0.296831  0.000000   \n",
       "\n",
       "       john      late    looked  ...   noonfor       rob       saw   station  \\\n",
       "0  0.589463  0.000000  0.000000  ...  0.000000  0.000000  0.589463  0.000000   \n",
       "1  0.000000  0.589463  0.000000  ...  0.000000  0.000000  0.000000  0.000000   \n",
       "2  0.000000  0.000000  0.000000  ...  0.000000  0.385305  0.000000  0.000000   \n",
       "3  0.000000  0.000000  0.433435  ...  0.000000  0.290277  0.000000  0.349693   \n",
       "4  0.000000  0.000000  0.000000  ...  0.296831  0.198791  0.000000  0.239481   \n",
       "\n",
       "        the      took     train     until    waited       was  \n",
       "0  0.280882  0.000000  0.475575  0.000000  0.000000  0.000000  \n",
       "1  0.280882  0.000000  0.475575  0.000000  0.000000  0.589463  \n",
       "2  0.274148  0.575329  0.000000  0.000000  0.000000  0.000000  \n",
       "3  0.206534  0.000000  0.000000  0.000000  0.000000  0.000000  \n",
       "4  0.282883  0.000000  0.000000  0.296831  0.296831  0.000000  \n",
       "\n",
       "[5 rows x 21 columns]"
      ]
     },
     "execution_count": 7,
     "metadata": {},
     "output_type": "execute_result"
    }
   ],
   "source": [
    "# create the dataframe from the tfidf vectorized array\n",
    "pd.DataFrame(vectorized_array.toarray(),columns = feature_names)"
   ]
  }
 ],
 "metadata": {
  "kernelspec": {
   "display_name": "Python 3",
   "language": "python",
   "name": "python3"
  },
  "language_info": {
   "codemirror_mode": {
    "name": "ipython",
    "version": 3
   },
   "file_extension": ".py",
   "mimetype": "text/x-python",
   "name": "python",
   "nbconvert_exporter": "python",
   "pygments_lexer": "ipython3",
   "version": "3.8.3"
  }
 },
 "nbformat": 4,
 "nbformat_minor": 4
}
