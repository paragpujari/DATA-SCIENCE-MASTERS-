{
 "cells": [
  {
   "cell_type": "markdown",
   "metadata": {},
   "source": [
    "# PARTS OF SPEECH TAGGING\n",
    "\n",
    "It is the process of assigning parts of speech to every word in the text"
   ]
  },
  {
   "cell_type": "code",
   "execution_count": 1,
   "metadata": {},
   "outputs": [],
   "source": [
    "from nltk.tokenize import word_tokenize"
   ]
  },
  {
   "cell_type": "code",
   "execution_count": 2,
   "metadata": {},
   "outputs": [
    {
     "name": "stdout",
     "output_type": "stream",
     "text": [
      "InterGlobe Aviation Ltd., doing business as IndiGo, is an Indian low-cost airline headquartered in Gurgaon, Haryana, India. It is the largest airline in India by passengers carried and fleet size, with a 53.5% domestic market share as of October 2021.[6] It is also the largest individual Asian low-cost carrier in terms of jet fleet size and passengers carried, and the sixth largest carrier in Asia with over 6.4 crore (64 million) passengers carried in financial year 2018–19. The airline operated 1,500 daily flights as of 2019[7] to 96 destinations – 71 domestic and 25 international.[8] It has its primary hub at Indira Gandhi International Airport, Delhi.[9]\n",
      "\n",
      "The airline was founded as a private company by Rahul Bhatia of InterGlobe Enterprises and Rakesh Gangwal in 2006. It took delivery of its first aircraft in July 2006 and commenced operations a month later. The airline became the largest Indian carrier by passenger market share in 2012. The company went public in November 2015.\n"
     ]
    }
   ],
   "source": [
    "samples = \"\"\"InterGlobe Aviation Ltd., doing business as IndiGo, is an Indian low-cost airline headquartered in Gurgaon, Haryana, India. It is the largest airline in India by passengers carried and fleet size, with a 53.5% domestic market share as of October 2021.[6] It is also the largest individual Asian low-cost carrier in terms of jet fleet size and passengers carried, and the sixth largest carrier in Asia with over 6.4 crore (64 million) passengers carried in financial year 2018–19. The airline operated 1,500 daily flights as of 2019[7] to 96 destinations – 71 domestic and 25 international.[8] It has its primary hub at Indira Gandhi International Airport, Delhi.[9]\n",
    "\n",
    "The airline was founded as a private company by Rahul Bhatia of InterGlobe Enterprises and Rakesh Gangwal in 2006. It took delivery of its first aircraft in July 2006 and commenced operations a month later. The airline became the largest Indian carrier by passenger market share in 2012. The company went public in November 2015.\"\"\"\n",
    "print(samples)"
   ]
  },
  {
   "cell_type": "code",
   "execution_count": 3,
   "metadata": {},
   "outputs": [],
   "source": [
    "# perform the word tokenization on the text\n",
    "answers = word_tokenize(samples)"
   ]
  },
  {
   "cell_type": "code",
   "execution_count": 4,
   "metadata": {},
   "outputs": [
    {
     "name": "stdout",
     "output_type": "stream",
     "text": [
      "['InterGlobe', 'Aviation', 'Ltd.', ',', 'doing', 'business', 'as', 'IndiGo', ',', 'is', 'an', 'Indian', 'low-cost', 'airline', 'headquartered', 'in', 'Gurgaon', ',', 'Haryana', ',', 'India', '.', 'It', 'is', 'the', 'largest', 'airline', 'in', 'India', 'by', 'passengers', 'carried', 'and', 'fleet', 'size', ',', 'with', 'a', '53.5', '%', 'domestic', 'market', 'share', 'as', 'of', 'October', '2021', '.', '[', '6', ']', 'It', 'is', 'also', 'the', 'largest', 'individual', 'Asian', 'low-cost', 'carrier', 'in', 'terms', 'of', 'jet', 'fleet', 'size', 'and', 'passengers', 'carried', ',', 'and', 'the', 'sixth', 'largest', 'carrier', 'in', 'Asia', 'with', 'over', '6.4', 'crore', '(', '64', 'million', ')', 'passengers', 'carried', 'in', 'financial', 'year', '2018–19', '.', 'The', 'airline', 'operated', '1,500', 'daily', 'flights', 'as', 'of', '2019', '[', '7', ']', 'to', '96', 'destinations', '–', '71', 'domestic', 'and', '25', 'international', '.', '[', '8', ']', 'It', 'has', 'its', 'primary', 'hub', 'at', 'Indira', 'Gandhi', 'International', 'Airport', ',', 'Delhi', '.', '[', '9', ']', 'The', 'airline', 'was', 'founded', 'as', 'a', 'private', 'company', 'by', 'Rahul', 'Bhatia', 'of', 'InterGlobe', 'Enterprises', 'and', 'Rakesh', 'Gangwal', 'in', '2006', '.', 'It', 'took', 'delivery', 'of', 'its', 'first', 'aircraft', 'in', 'July', '2006', 'and', 'commenced', 'operations', 'a', 'month', 'later', '.', 'The', 'airline', 'became', 'the', 'largest', 'Indian', 'carrier', 'by', 'passenger', 'market', 'share', 'in', '2012', '.', 'The', 'company', 'went', 'public', 'in', 'November', '2015', '.']\n"
     ]
    }
   ],
   "source": [
    "print(answers)"
   ]
  },
  {
   "cell_type": "code",
   "execution_count": 6,
   "metadata": {},
   "outputs": [],
   "source": [
    "import nltk"
   ]
  },
  {
   "cell_type": "code",
   "execution_count": 7,
   "metadata": {},
   "outputs": [
    {
     "name": "stdout",
     "output_type": "stream",
     "text": [
      "[('InterGlobe', 'NNP'), ('Aviation', 'NNP'), ('Ltd.', 'NNP'), (',', ','), ('doing', 'VBG'), ('business', 'NN'), ('as', 'IN'), ('IndiGo', 'NNP'), (',', ','), ('is', 'VBZ'), ('an', 'DT'), ('Indian', 'JJ'), ('low-cost', 'JJ'), ('airline', 'NN'), ('headquartered', 'VBN'), ('in', 'IN'), ('Gurgaon', 'NNP'), (',', ','), ('Haryana', 'NNP'), (',', ','), ('India', 'NNP'), ('.', '.'), ('It', 'PRP'), ('is', 'VBZ'), ('the', 'DT'), ('largest', 'JJS'), ('airline', 'NN'), ('in', 'IN'), ('India', 'NNP'), ('by', 'IN'), ('passengers', 'NNS'), ('carried', 'VBD'), ('and', 'CC'), ('fleet', 'JJ'), ('size', 'NN'), (',', ','), ('with', 'IN'), ('a', 'DT'), ('53.5', 'CD'), ('%', 'NN'), ('domestic', 'JJ'), ('market', 'NN'), ('share', 'NN'), ('as', 'IN'), ('of', 'IN'), ('October', 'NNP'), ('2021', 'CD'), ('.', '.'), ('[', 'VB'), ('6', 'CD'), (']', 'NN'), ('It', 'PRP'), ('is', 'VBZ'), ('also', 'RB'), ('the', 'DT'), ('largest', 'JJS'), ('individual', 'JJ'), ('Asian', 'JJ'), ('low-cost', 'NN'), ('carrier', 'NN'), ('in', 'IN'), ('terms', 'NNS'), ('of', 'IN'), ('jet', 'NN'), ('fleet', 'NN'), ('size', 'NN'), ('and', 'CC'), ('passengers', 'NNS'), ('carried', 'VBD'), (',', ','), ('and', 'CC'), ('the', 'DT'), ('sixth', 'JJ'), ('largest', 'JJS'), ('carrier', 'NN'), ('in', 'IN'), ('Asia', 'NNP'), ('with', 'IN'), ('over', 'IN'), ('6.4', 'CD'), ('crore', 'NN'), ('(', '('), ('64', 'CD'), ('million', 'CD'), (')', ')'), ('passengers', 'NNS'), ('carried', 'VBD'), ('in', 'IN'), ('financial', 'JJ'), ('year', 'NN'), ('2018–19', 'CD'), ('.', '.'), ('The', 'DT'), ('airline', 'NN'), ('operated', 'VBD'), ('1,500', 'CD'), ('daily', 'JJ'), ('flights', 'NNS'), ('as', 'IN'), ('of', 'IN'), ('2019', 'CD'), ('[', '$'), ('7', 'CD'), (']', 'NN'), ('to', 'TO'), ('96', 'CD'), ('destinations', 'NNS'), ('–', 'VBP'), ('71', 'CD'), ('domestic', 'JJ'), ('and', 'CC'), ('25', 'CD'), ('international', 'JJ'), ('.', '.'), ('[', '$'), ('8', 'CD'), (']', 'NN'), ('It', 'PRP'), ('has', 'VBZ'), ('its', 'PRP$'), ('primary', 'JJ'), ('hub', 'NN'), ('at', 'IN'), ('Indira', 'NNP'), ('Gandhi', 'NNP'), ('International', 'NNP'), ('Airport', 'NNP'), (',', ','), ('Delhi', 'NNP'), ('.', '.'), ('[', 'CC'), ('9', 'CD'), (']', 'VBD'), ('The', 'DT'), ('airline', 'NN'), ('was', 'VBD'), ('founded', 'VBN'), ('as', 'IN'), ('a', 'DT'), ('private', 'JJ'), ('company', 'NN'), ('by', 'IN'), ('Rahul', 'NNP'), ('Bhatia', 'NNP'), ('of', 'IN'), ('InterGlobe', 'NNP'), ('Enterprises', 'NNP'), ('and', 'CC'), ('Rakesh', 'NNP'), ('Gangwal', 'NNP'), ('in', 'IN'), ('2006', 'CD'), ('.', '.'), ('It', 'PRP'), ('took', 'VBD'), ('delivery', 'NN'), ('of', 'IN'), ('its', 'PRP$'), ('first', 'JJ'), ('aircraft', 'NN'), ('in', 'IN'), ('July', 'NNP'), ('2006', 'CD'), ('and', 'CC'), ('commenced', 'VBD'), ('operations', 'NNS'), ('a', 'DT'), ('month', 'NN'), ('later', 'RB'), ('.', '.'), ('The', 'DT'), ('airline', 'NN'), ('became', 'VBD'), ('the', 'DT'), ('largest', 'JJS'), ('Indian', 'JJ'), ('carrier', 'NN'), ('by', 'IN'), ('passenger', 'NN'), ('market', 'NN'), ('share', 'NN'), ('in', 'IN'), ('2012', 'CD'), ('.', '.'), ('The', 'DT'), ('company', 'NN'), ('went', 'VBD'), ('public', 'JJ'), ('in', 'IN'), ('November', 'NNP'), ('2015', 'CD'), ('.', '.')]\n"
     ]
    }
   ],
   "source": [
    "# assign parts of speech to every word in the text\n",
    "part_speech = nltk.pos_tag(answers)\n",
    "\n",
    "print(part_speech)"
   ]
  },
  {
   "cell_type": "code",
   "execution_count": null,
   "metadata": {},
   "outputs": [],
   "source": []
  }
 ],
 "metadata": {
  "kernelspec": {
   "display_name": "Python 3",
   "language": "python",
   "name": "python3"
  },
  "language_info": {
   "codemirror_mode": {
    "name": "ipython",
    "version": 3
   },
   "file_extension": ".py",
   "mimetype": "text/x-python",
   "name": "python",
   "nbconvert_exporter": "python",
   "pygments_lexer": "ipython3",
   "version": "3.8.3"
  }
 },
 "nbformat": 4,
 "nbformat_minor": 4
}
