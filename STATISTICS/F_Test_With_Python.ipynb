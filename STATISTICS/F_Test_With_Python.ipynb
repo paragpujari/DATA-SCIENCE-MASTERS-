{
  "nbformat": 4,
  "nbformat_minor": 0,
  "metadata": {
    "colab": {
      "provenance": []
    },
    "kernelspec": {
      "name": "python3",
      "display_name": "Python 3"
    },
    "language_info": {
      "name": "python"
    }
  },
  "cells": [
    {
      "cell_type": "code",
      "execution_count": 1,
      "metadata": {
        "id": "Nr3J3-BGhTDA"
      },
      "outputs": [],
      "source": [
        "# Evidence to say that the two population variance are not equal\n",
        "# Can we come to the conclusion whether one  worker is better than the other\n",
        "\n",
        "worker1 = [18, 19, 22, 25, 27, 28, 41, 45, 51, 55]\n",
        "worker2 = [14, 15, 15, 17, 18, 22, 25, 25, 27, 34]"
      ]
    },
    {
      "cell_type": "code",
      "source": [
        "# Calculate the F-Test Statistics\n",
        "import numpy as np\n",
        "F_test = np.var(worker1)/np.var(worker2)"
      ],
      "metadata": {
        "id": "hqy2WeaqhvgW"
      },
      "execution_count": 2,
      "outputs": []
    },
    {
      "cell_type": "code",
      "source": [
        "print(F_test)"
      ],
      "metadata": {
        "colab": {
          "base_uri": "https://localhost:8080/"
        },
        "id": "QVqUnUyPisY0",
        "outputId": "6ac11660-cf55-4ec5-8b60-cceca00d087e"
      },
      "execution_count": 3,
      "outputs": [
        {
          "output_type": "stream",
          "name": "stdout",
          "text": [
            "4.387122002085506\n"
          ]
        }
      ]
    },
    {
      "cell_type": "code",
      "source": [
        "# Calculating the degree of freedom\n",
        "df1  = len(worker1) - 1\n",
        "df2  =  len(worker2) - 1\n",
        "\n",
        "significance = 0.05"
      ],
      "metadata": {
        "id": "uV1bQTaRiuFH"
      },
      "execution_count": 6,
      "outputs": []
    },
    {
      "cell_type": "code",
      "source": [
        "# Finding out the critical value\n",
        "import scipy.stats as stat"
      ],
      "metadata": {
        "id": "G_obkXpBjNtq"
      },
      "execution_count": 7,
      "outputs": []
    },
    {
      "cell_type": "code",
      "source": [
        "critical_value = stat.f.ppf(1 - significance, dfn = df1, dfd = df2)"
      ],
      "metadata": {
        "id": "e20rHm6bjW7P"
      },
      "execution_count": 8,
      "outputs": []
    },
    {
      "cell_type": "code",
      "source": [
        "print(critical_value)"
      ],
      "metadata": {
        "colab": {
          "base_uri": "https://localhost:8080/"
        },
        "id": "ncfFUbQ_jhIN",
        "outputId": "972c43fa-66cc-4516-a040-3c6dfaa74c40"
      },
      "execution_count": 9,
      "outputs": [
        {
          "output_type": "stream",
          "name": "stdout",
          "text": [
            "3.178893104458269\n"
          ]
        }
      ]
    },
    {
      "cell_type": "code",
      "source": [
        "if(F_test > critical_value):\n",
        "  print(\"reject the null hypothesis\")\n",
        "else:\n",
        "  print(\"accept the null hypothesis\")"
      ],
      "metadata": {
        "colab": {
          "base_uri": "https://localhost:8080/"
        },
        "id": "JIjxzPE5jjyL",
        "outputId": "6780e9e2-9446-424a-9399-25c33cad3895"
      },
      "execution_count": 10,
      "outputs": [
        {
          "output_type": "stream",
          "name": "stdout",
          "text": [
            "reject the null hypothesis\n"
          ]
        }
      ]
    },
    {
      "cell_type": "markdown",
      "source": [
        "**# CONCLUSION:**\n",
        "\n",
        "Now we came to the conclusion that the Worker B is much more efficient than Worker A."
      ],
      "metadata": {
        "id": "Ot9qtCAgj4fx"
      }
    }
  ]
}