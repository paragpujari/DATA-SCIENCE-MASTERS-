{
 "cells": [
  {
   "cell_type": "code",
   "execution_count": 1,
   "metadata": {},
   "outputs": [
    {
     "name": "stdout",
     "output_type": "stream",
     "text": [
      "[23, 43, 22, 56, 74, 32, 68, 98, 45, 32]\n"
     ]
    }
   ],
   "source": [
    "# Variance\n",
    "ages = [23, 43, 22, 56, 74, 32, 68, 98, 45, 32]\n",
    "print(ages)"
   ]
  },
  {
   "cell_type": "code",
   "execution_count": 2,
   "metadata": {},
   "outputs": [
    {
     "name": "stdout",
     "output_type": "stream",
     "text": [
      "Mean Value of all the ages is: 49.3\n"
     ]
    }
   ],
   "source": [
    "# mean value of ll the ages\n",
    "import numpy as np\n",
    "mean_ages = np.mean(ages)\n",
    "print(\"Mean Value of all the ages is:\", mean_ages)"
   ]
  },
  {
   "cell_type": "code",
   "execution_count": 3,
   "metadata": {},
   "outputs": [
    {
     "name": "stdout",
     "output_type": "stream",
     "text": [
      "Variance of all the ages is: 547.01\n"
     ]
    }
   ],
   "source": [
    "# Variance of all the ages\n",
    "variance_ages = np.var(ages)\n",
    "print(\"Variance of all the ages is:\", variance_ages)"
   ]
  },
  {
   "cell_type": "markdown",
   "metadata": {},
   "source": [
    "# Observation:"
   ]
  },
  {
   "cell_type": "markdown",
   "metadata": {},
   "source": [
    "As the Variance of the ages is very high, so the spread of the data is very high."
   ]
  },
  {
   "cell_type": "code",
   "execution_count": 4,
   "metadata": {},
   "outputs": [
    {
     "name": "stdout",
     "output_type": "stream",
     "text": [
      "Standard eviation of all the ages is: 23.388244910638335\n"
     ]
    }
   ],
   "source": [
    "# Standard Deviation of all the ages\n",
    "standard_ages = np.std(ages)\n",
    "print(\"Standard eviation of all the ages is:\", standard_ages)"
   ]
  },
  {
   "cell_type": "markdown",
   "metadata": {},
   "source": [
    "# Observation:"
   ]
  },
  {
   "cell_type": "markdown",
   "metadata": {},
   "source": [
    "As the standard deviation is 23.388, so it is 23.388 away from the mean."
   ]
  },
  {
   "cell_type": "code",
   "execution_count": 6,
   "metadata": {},
   "outputs": [
    {
     "name": "stdout",
     "output_type": "stream",
     "text": [
      "    A   B   C\n",
      "0  10  12  13\n",
      "1  43  23  45\n",
      "2  32  34  21\n"
     ]
    }
   ],
   "source": [
    "import pandas as pd\n",
    "\n",
    "data = [[10, 12, 13], [43, 23, 45], [32, 34, 21]]\n",
    "\n",
    "# creating the dataframe\n",
    "df = pd.DataFrame(data, columns = [\"A\",\"B\",\"C\"])\n",
    "\n",
    "print(df)"
   ]
  },
  {
   "cell_type": "code",
   "execution_count": 7,
   "metadata": {},
   "outputs": [
    {
     "name": "stdout",
     "output_type": "stream",
     "text": [
      "A    282.333333\n",
      "B    121.000000\n",
      "C    277.333333\n",
      "dtype: float64\n"
     ]
    }
   ],
   "source": [
    "# To get the variance for the dataset columns wise\n",
    "variance_ans = df.var(axis = 0)\n",
    "print(variance_ans)"
   ]
  },
  {
   "cell_type": "code",
   "execution_count": 8,
   "metadata": {},
   "outputs": [
    {
     "name": "stdout",
     "output_type": "stream",
     "text": [
      "A    16.802778\n",
      "B    11.000000\n",
      "C    16.653328\n",
      "dtype: float64\n"
     ]
    }
   ],
   "source": [
    "# To get the standard deviation for the dataset column wise\n",
    "\n",
    "std_ans = df.std(axis = 0)\n",
    "print(std_ans)"
   ]
  },
  {
   "cell_type": "code",
   "execution_count": null,
   "metadata": {},
   "outputs": [],
   "source": []
  }
 ],
 "metadata": {
  "kernelspec": {
   "display_name": "Python 3",
   "language": "python",
   "name": "python3"
  },
  "language_info": {
   "codemirror_mode": {
    "name": "ipython",
    "version": 3
   },
   "file_extension": ".py",
   "mimetype": "text/x-python",
   "name": "python",
   "nbconvert_exporter": "python",
   "pygments_lexer": "ipython3",
   "version": "3.8.3"
  }
 },
 "nbformat": 4,
 "nbformat_minor": 4
}
