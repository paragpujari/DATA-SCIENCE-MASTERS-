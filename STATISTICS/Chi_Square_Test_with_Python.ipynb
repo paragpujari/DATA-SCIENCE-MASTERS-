{
  "nbformat": 4,
  "nbformat_minor": 0,
  "metadata": {
    "colab": {
      "provenance": []
    },
    "kernelspec": {
      "name": "python3",
      "display_name": "Python 3"
    },
    "language_info": {
      "name": "python"
    }
  },
  "cells": [
    {
      "cell_type": "code",
      "execution_count": 1,
      "metadata": {
        "id": "HZzAPJ9uw4kG"
      },
      "outputs": [],
      "source": [
        "import scipy.stats as stat\n",
        "import numpy as np"
      ]
    },
    {
      "cell_type": "code",
      "source": [
        "## No of hours student study daily in a weekly basis\n",
        "##monday,tuesday,Wednesday,thursday,Friday,Saturday,sunday\n",
        "expected_data = [8,6,7,9,6,9,7]\n",
        "observed_data = [7,8,6,9,9,6,7]"
      ],
      "metadata": {
        "id": "ycFme2PzxDq-"
      },
      "execution_count": 2,
      "outputs": []
    },
    {
      "cell_type": "code",
      "source": [
        "sum(expected_data), sum(observed_data)"
      ],
      "metadata": {
        "colab": {
          "base_uri": "https://localhost:8080/"
        },
        "id": "QOwqtxQaxD6J",
        "outputId": "cd87fb98-076e-4860-e7f1-c178827fe46b"
      },
      "execution_count": 3,
      "outputs": [
        {
          "output_type": "execute_result",
          "data": {
            "text/plain": [
              "(52, 52)"
            ]
          },
          "metadata": {},
          "execution_count": 3
        }
      ]
    },
    {
      "cell_type": "code",
      "source": [
        "# Chi square Goodness OF Fit\n",
        "chisquare_test_statistics, p_value = stat.chisquare(observed_data, expected_data)"
      ],
      "metadata": {
        "id": "147u2CV_x3bE"
      },
      "execution_count": 4,
      "outputs": []
    },
    {
      "cell_type": "code",
      "source": [
        "print(chisquare_test_statistics), print(p_value)"
      ],
      "metadata": {
        "colab": {
          "base_uri": "https://localhost:8080/"
        },
        "id": "vCnKyltcydqZ",
        "outputId": "2f85de41-fc91-4b07-fef6-077bf9d571d2"
      },
      "execution_count": 5,
      "outputs": [
        {
          "output_type": "stream",
          "name": "stdout",
          "text": [
            "3.4345238095238093\n",
            "0.7526596580922865\n"
          ]
        },
        {
          "output_type": "execute_result",
          "data": {
            "text/plain": [
              "(None, None)"
            ]
          },
          "metadata": {},
          "execution_count": 5
        }
      ]
    },
    {
      "cell_type": "code",
      "source": [
        "# critical value\n",
        "significance = 0.05\n",
        "dof = len(observed_data)-1\n",
        "critical_value = stat.chi2.ppf(1-significance,dof)"
      ],
      "metadata": {
        "id": "ao13HLCMyj1i"
      },
      "execution_count": 10,
      "outputs": []
    },
    {
      "cell_type": "code",
      "source": [
        "print(critical_value)"
      ],
      "metadata": {
        "colab": {
          "base_uri": "https://localhost:8080/"
        },
        "id": "MaA9gqeKzL2O",
        "outputId": "4f51dd77-8e20-42af-d459-581c17e8d4af"
      },
      "execution_count": 11,
      "outputs": [
        {
          "output_type": "stream",
          "name": "stdout",
          "text": [
            "12.591587243743977\n"
          ]
        }
      ]
    },
    {
      "cell_type": "code",
      "source": [
        "if(chisquare_test_statistics > critical_value):\n",
        "  print(\"Reject the Null Hypothesis\")\n",
        "else:\n",
        "  print(\"Accept the Null Hypothesis\")"
      ],
      "metadata": {
        "colab": {
          "base_uri": "https://localhost:8080/"
        },
        "id": "34TStqLgzlGY",
        "outputId": "86932dfd-5d27-4165-8709-fb3bb91315f9"
      },
      "execution_count": 12,
      "outputs": [
        {
          "output_type": "stream",
          "name": "stdout",
          "text": [
            "Accept the Null Hypothesis\n"
          ]
        }
      ]
    },
    {
      "cell_type": "code",
      "source": [],
      "metadata": {
        "id": "FzwWMdvezyQo"
      },
      "execution_count": 13,
      "outputs": []
    },
    {
      "cell_type": "markdown",
      "source": [
        "**# OBSERVATION:**\n",
        "## The sample data which we have taken of students for studying are actually matching with the expected hours of the students studying on a daily basis."
      ],
      "metadata": {
        "id": "MRQZ23Pn0Obq"
      }
    }
  ]
}